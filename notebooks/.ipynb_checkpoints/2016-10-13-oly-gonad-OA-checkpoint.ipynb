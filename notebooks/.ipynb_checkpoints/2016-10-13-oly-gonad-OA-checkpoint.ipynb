{
 "cells": [
  {
   "cell_type": "markdown",
   "metadata": {},
   "source": [
    "# Downloading *O. lurida* transcriptome data"
   ]
  },
  {
   "cell_type": "markdown",
   "metadata": {},
   "source": [
    "My data has four specific seq ids:\n",
    "\n",
    "1. filtered_106A_Female_Mix_GATCAG_L004\n",
    "2. filtered_106A_Male_Mix_TAGCTT_L004\n",
    "3. filtered_108A_Female_Mix_GGCTAC_L004\n",
    "4. filtered_108A_Male_Mix_AGTCAA_L004\n",
    "\n",
    "I will download all four components."
   ]
  },
  {
   "cell_type": "code",
   "execution_count": 1,
   "metadata": {
    "collapsed": false
   },
   "outputs": [
    {
     "data": {
      "text/plain": [
       "'/Users/yaaminivenkataraman/Documents/School/Year1/FISH-546/yaaminiv-fish546-2016/notebooks'"
      ]
     },
     "execution_count": 1,
     "metadata": {},
     "output_type": "execute_result"
    }
   ],
   "source": [
    "pwd"
   ]
  },
  {
   "cell_type": "markdown",
   "metadata": {},
   "source": [
    "### Downloading data using `!curl` and then redirecting it"
   ]
  },
  {
   "cell_type": "markdown",
   "metadata": {},
   "source": [
    "**Component 1**: filtered_106A_Female_Mix_GATCAG_L004"
   ]
  },
  {
   "cell_type": "code",
   "execution_count": 1,
   "metadata": {
    "collapsed": false
   },
   "outputs": [
    {
     "name": "stdout",
     "output_type": "stream",
     "text": [
      "  % Total    % Received % Xferd  Average Speed   Time    Time     Time  Current\n",
      "                                 Dload  Upload   Total   Spent    Left  Speed\n",
      "100 2619M  100 2619M    0     0  9420k      0  0:04:44  0:04:44 --:--:-- 16.1M\n"
     ]
    }
   ],
   "source": [
    "!curl http://owl.fish.washington.edu/nightingales/O_lurida/filtered_106A_Female_Mix_GATCAG_L004_R1.fastq.gz \\\n",
    "> /../data/filtered_106A_Female_Mix_GATCAG_L004_R1.fastq.gz"
   ]
  },
  {
   "cell_type": "markdown",
   "metadata": {},
   "source": [
    "Manually unzipped file on my computer. Using this unzipped version for `!head` command"
   ]
  },
  {
   "cell_type": "code",
   "execution_count": 2,
   "metadata": {
    "collapsed": false
   },
   "outputs": [
    {
     "name": "stdout",
     "output_type": "stream",
     "text": [
      "@HWI-ST700693:263:C0K6DACXX:4:1101:1464:1969\r\n",
      "NTTCATGAAGGGGTCAACCAGAATGATCTCGTAAAACTTGTAAGATGAATCCTGTGCCACCCAGTAAGAGCTTAGC\r\n",
      "+\r\n",
      "#4=DDDDDHFFHHGGABHIICBGH<E@FHIIGEGIIIIIIIDGGIIGEIIIIIIIIIIGIGGI9=D@CECEEF@CC\r\n",
      "@HWI-ST700693:263:C0K6DACXX:4:1101:1506:1985\r\n",
      "NCCTGATTGAAAACAAAATGTCTTTGTTTTTTCTACTTTGTATGGATCAATCAATCTTATTTGTTCCTGTAGAGAT\r\n",
      "+\r\n",
      "#1=DDFFFHHHHHJJJJJIGFHHJIIIIJJJJIIJIJJJJIJJFEGJIIIIHIGIJJEHIJJJGAGHJJIIIHGD;\r\n",
      "@HWI-ST700693:263:C0K6DACXX:4:1101:1882:1979\r\n",
      "NGGGACTCTAACGAGAACCTTCCGTCATCTGGCTCTGGACATAACCATGGTTAACAAGAACACTGTCATGGTGGAG\r\n"
     ]
    }
   ],
   "source": [
    "!head /../data/filtered_106A_Female_Mix_GATCAG_L004_R1.fastq"
   ]
  },
  {
   "cell_type": "markdown",
   "metadata": {},
   "source": [
    "**Component 2**: filtered_106A_Male_Mix_TAGCTT_L004"
   ]
  },
  {
   "cell_type": "code",
   "execution_count": 3,
   "metadata": {
    "collapsed": false
   },
   "outputs": [
    {
     "name": "stdout",
     "output_type": "stream",
     "text": [
      "  % Total    % Received % Xferd  Average Speed   Time    Time     Time  Current\n",
      "                                 Dload  Upload   Total   Spent    Left  Speed\n",
      "100 3949M  100 3949M    0     0  9967k      0  0:06:45  0:06:45 --:--:-- 15.0M\n"
     ]
    }
   ],
   "source": [
    "!curl http://owl.fish.washington.edu/nightingales/O_lurida/filtered_106A_Male_Mix_TAGCTT_L004_R1.fastq.gz \\\n",
    "> /../data/filtered_106A_Male_Mix_TAGCTT_L004_R1.fastq.gz"
   ]
  },
  {
   "cell_type": "code",
   "execution_count": 7,
   "metadata": {
    "collapsed": false
   },
   "outputs": [
    {
     "name": "stdout",
     "output_type": "stream",
     "text": [
      "@HWI-ST700693:263:C0K6DACXX:4:1101:1408:1981\r\n",
      "NTCCGAACTACCACCCCACGGGAAGGAGCATGTGAAGACATGAATCGATACTGCGATTATTGGGCGGAGCAGGGCT\r\n",
      "+\r\n",
      "#1=DBDDDBFFHDHIIIEIIFGIIEDBFHCFFGHIGHD;CBFFC482C@D>GHCAE??;@@@3=;>=0;B<?B###\r\n",
      "@HWI-ST700693:263:C0K6DACXX:4:1101:1626:1980\r\n",
      "NTGATCCAGAAAAAAAACTGCTTATGGTAACATAGGAATGTTTTATGCTATACTAAATATTGGATTTCTGGGCTTC\r\n",
      "+\r\n",
      "#1=DDDDDDF;?FHIAEHCHICCFHG>B@@@GCHIGGHC<?FGGGHGE=B@AFHFGGGIIIDGCEHBAE);>?CA@\r\n",
      "@HWI-ST700693:263:C0K6DACXX:4:1101:1648:1985\r\n",
      "NGAAAACATGTACCAAGGGCAGTTTTTGTGGACCTGGAGCCAACTGTTGTTGATGAAGTCCGCACTGGTACTTATC\r\n"
     ]
    }
   ],
   "source": [
    "!head /../data/filtered_106A_Male_Mix_TAGCTT_L004_R1.fastq"
   ]
  },
  {
   "cell_type": "markdown",
   "metadata": {},
   "source": [
    "**Component 3**: filtered_108A_Female_Mix_GGCTAC_L004"
   ]
  },
  {
   "cell_type": "code",
   "execution_count": 5,
   "metadata": {
    "collapsed": false
   },
   "outputs": [
    {
     "name": "stdout",
     "output_type": "stream",
     "text": [
      "  % Total    % Received % Xferd  Average Speed   Time    Time     Time  Current\n",
      "                                 Dload  Upload   Total   Spent    Left  Speed\n",
      "100 3036M  100 3036M    0     0  8172k      0  0:06:20  0:06:20 --:--:-- 2908k\n"
     ]
    }
   ],
   "source": [
    "!curl http://owl.fish.washington.edu/nightingales/O_lurida/filtered_108A_Female_Mix_GGCTAC_L004_R1.fastq.gz \\\n",
    "> /../data/filtered_108A_Female_Mix_GGCTAC_L004_R1.fastq.gz"
   ]
  },
  {
   "cell_type": "code",
   "execution_count": 8,
   "metadata": {
    "collapsed": false
   },
   "outputs": [
    {
     "name": "stdout",
     "output_type": "stream",
     "text": [
      "@HWI-ST700693:263:C0K6DACXX:4:1101:1603:1975\r\n",
      "NTAGGCAGTTTATATAAAAAACTTTAAATGAACAAAGTATGGGAACATCAGAAATGTTAGTTAGTATTTATAGGTC\r\n",
      "+\r\n",
      "#1=DBDFFAFFDFIGIIIIIIIIIIIC:CCGHIIIIIFHGIIIIIIIIIIIGIIIIHIIEGHIIGGGHGHEHH@D=\r\n",
      "@HWI-ST700693:263:C0K6DACXX:4:1101:1619:1999\r\n",
      "NTTACCACCGCCAAACTTGGTCCTGAACCCAAAGCAGAAAATGGTGTCGGGTGTCGTCCTGGACCTTTTGGCTAGG\r\n",
      "+\r\n",
      "#1:ABDDD:0@DDEII>BAF+1?C@E>DDD7?DB>DCDDDB8?<B@.B;A##########################\r\n",
      "@HWI-ST700693:263:C0K6DACXX:4:1101:2133:1973\r\n",
      "NGATCTTGTCTGCTATACAAAGATGCCAACCCACAATAGTAAGAACACAACACCAAATCCCATAAATACAGAGGCT\r\n"
     ]
    }
   ],
   "source": [
    "!head /../data/filtered_108A_Female_Mix_GGCTAC_L004_R1.fastq"
   ]
  },
  {
   "cell_type": "markdown",
   "metadata": {},
   "source": [
    "**Component 4**: filtered_108A_Male_Mix_AGTCAA_L004"
   ]
  },
  {
   "cell_type": "code",
   "execution_count": 6,
   "metadata": {
    "collapsed": false
   },
   "outputs": [
    {
     "name": "stdout",
     "output_type": "stream",
     "text": [
      "  % Total    % Received % Xferd  Average Speed   Time    Time     Time  Current\n",
      "                                 Dload  Upload   Total   Spent    Left  Speed\n",
      "100 3721M  100 3721M    0     0  9445k      0  0:06:43  0:06:43 --:--:-- 18.3M\n"
     ]
    }
   ],
   "source": [
    "!curl http://owl.fish.washington.edu/nightingales/O_lurida/filtered_108A_Male_Mix_AGTCAA_L004_R1.fastq.gz \\\n",
    "> /../data/filtered_108A_Male_Mix_AGTCAA_L004_R1.fastq.gz"
   ]
  },
  {
   "cell_type": "code",
   "execution_count": 10,
   "metadata": {
    "collapsed": false
   },
   "outputs": [
    {
     "name": "stdout",
     "output_type": "stream",
     "text": [
      "@HWI-ST700693:263:C0K6DACXX:4:1101:1719:1970\r\n",
      "NCTGAAGTGACATTGTAATTATCTGAATATTGGCTGTCATATTCAAACCCTCCATTGGTATGCTTGTCTCAACTTT\r\n",
      "+\r\n",
      "#1:BDDFFFHHHHCHFHGEEIGIHGHHGFAEHGFAHEGGDHCG>GGHGDF?FGHAFGGHDFHIIICBDFFGC=FHC\r\n",
      "@HWI-ST700693:263:C0K6DACXX:4:1101:1561:1973\r\n",
      "NATAGTGAAGAGACAATAAATGTGTTCTCAGAAAATGGAAAACAGTGGAAAGCAGACAAGGTTCTAGTAACACTGC\r\n",
      "+\r\n",
      "#1:ABBDBAFBD<AFGIDHFA<:BB:<CFFHHIIII9E9FFIFFFG>D9<DE@>@FFB9.;84=FF>=C@EFCC@?\r\n",
      "@HWI-ST700693:263:C0K6DACXX:4:1101:1720:1997\r\n",
      "NTGTAAGTAATATAGTCAAACCCCCAGCTAGTACAGGTAAGGTAGTTAGTAGTAAAAATGATGTTACTTTAATTGA\r\n"
     ]
    }
   ],
   "source": [
    "!head /../data/filtered_108A_Male_Mix_AGTCAA_L004_R1.fastq"
   ]
  },
  {
   "cell_type": "markdown",
   "metadata": {},
   "source": [
    "My next steps will be comparing transcriptomes."
   ]
  },
  {
   "cell_type": "markdown",
   "metadata": {},
   "source": [
    "# Comparing transcriptomes in FASTQ"
   ]
  },
  {
   "cell_type": "markdown",
   "metadata": {},
   "source": []
  }
 ],
 "metadata": {
  "anaconda-cloud": {},
  "kernelspec": {
   "display_name": "Python [default]",
   "language": "python",
   "name": "python3"
  },
  "language_info": {
   "codemirror_mode": {
    "name": "ipython",
    "version": 3
   },
   "file_extension": ".py",
   "mimetype": "text/x-python",
   "name": "python",
   "nbconvert_exporter": "python",
   "pygments_lexer": "ipython3",
   "version": "3.5.2"
  }
 },
 "nbformat": 4,
 "nbformat_minor": 1
}
