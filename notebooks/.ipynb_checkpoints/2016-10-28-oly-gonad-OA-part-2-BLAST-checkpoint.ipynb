{
 "cells": [
  {
   "cell_type": "markdown",
   "metadata": {},
   "source": [
    "In this notebook, I will BLAST my *O. lurida* transcriptome against a uniprot database."
   ]
  },
  {
   "cell_type": "markdown",
   "metadata": {},
   "source": [
    "# BLAST against Uniprot Database"
   ]
  },
  {
   "cell_type": "markdown",
   "metadata": {},
   "source": [
    "To begin annotating the *O. lurida* transcriptome, I will complete a preliminary BLAST of my transcriptome against a Uniprot database. \n",
    "\n",
    "The Uniprot database was downloaded on 2016-10-28 from this url: http://www.uniprot.org/uniprot/?query=&fil=reviewed%3Ayes&columns=id%2Centry%20name%2Creviewed%2Cprotein%20names%2Cgenes%2Corganism%2Clength%2Cgo(biological%20process)%2Cgo-id%2Ccomment(PATHWAY)%2Cdatabase(UniPathway)%2Cdatabase(CDD)%2Cdatabase(Pfam). \n",
    "\n",
    "It includes Uniprot codes, protein names, gene names, organism information, sequence length, gene ontology, UniPathway, CDD and Pfam data.\n",
    "\n",
    "The first step involves acquiring the .fasta file and setting it as my database. To do this, I will use the following code:\n",
    "\n",
    "1. use `makeblastdb` to create the database that we need\n",
    "2. `in` to select the input file for the database\n",
    "3. `dbtype` specifies the type of file, prot\n",
    "4. `-out` puts the output in a specified directory"
   ]
  },
  {
   "cell_type": "code",
   "execution_count": null,
   "metadata": {
    "collapsed": true
   },
   "outputs": [],
   "source": [
    "!/Applications/ncbi-blast-2.5.0+/bin/makeblastdb \\\n",
    "-in /Users/yaaminivenkataraman/Documents/School/Year1/FISH-546/yaaminiv-fish546-2016/ \\\n",
    "-dbtype prot \\\n",
    "-out /Users/yaaminivenkataraman/Documents/School/Year1/FISH-546/yaaminiv-fish546-2016/ \\"
   ]
  },
  {
   "cell_type": "markdown",
   "metadata": {},
   "source": [
    "Now, I can perform a blastx to compare our query, nucleotide sequences in a .fasta file, to our protein database.\n",
    "\n",
    "1. specifies the program we want to use, `blastx`\n",
    "2. `-query` provides the file we want to blast\n",
    "3. `-db` specifies database created in the previous step\n",
    "4. `-outfmt` type of file output. 6 is tabular\n"
   ]
  },
  {
   "cell_type": "code",
   "execution_count": null,
   "metadata": {
    "collapsed": true
   },
   "outputs": [],
   "source": [
    "!/Applications/ncbi-blast-2.5.0+/bin/blastx \\\n",
    "-query /Users/yaaminivenkataraman/Documents/School/Year1/FISH-546/yaaminiv-fish546-2016/data/OlyO_v6_transcriptome.fa \\\n",
    "-db  \\\n",
    "-outfmt 6"
   ]
  }
 ],
 "metadata": {
  "kernelspec": {
   "display_name": "Python [default]",
   "language": "python",
   "name": "python3"
  },
  "language_info": {
   "codemirror_mode": {
    "name": "ipython",
    "version": 3
   },
   "file_extension": ".py",
   "mimetype": "text/x-python",
   "name": "python",
   "nbconvert_exporter": "python",
   "pygments_lexer": "ipython3",
   "version": "3.5.2"
  }
 },
 "nbformat": 4,
 "nbformat_minor": 1
}
