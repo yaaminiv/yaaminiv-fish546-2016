{
 "cells": [
  {
   "cell_type": "markdown",
   "metadata": {},
   "source": [
    "# Kallisto\n",
    "\n",
    "I will now use [kallisto (v0.43.0, downloaded 2016-11-04)](https://pachterlab.github.io/kallisto/about) to quantify the abundance of my target sequences (fastq files) in my overall transcriptome.\n",
    "\n",
    "First, I will set my working directory to allow me to work from remote machines if needed."
   ]
  },
  {
   "cell_type": "code",
   "execution_count": 1,
   "metadata": {
    "collapsed": false
   },
   "outputs": [
    {
     "data": {
      "text/plain": [
       "'/Users/yaaminivenkataraman/Documents/School/Year1/FISH-546/yaaminiv-fish546-2016/notebooks'"
      ]
     },
     "execution_count": 1,
     "metadata": {},
     "output_type": "execute_result"
    }
   ],
   "source": [
    "pwd"
   ]
  },
  {
   "cell_type": "code",
   "execution_count": 2,
   "metadata": {
    "collapsed": false
   },
   "outputs": [
    {
     "name": "stdout",
     "output_type": "stream",
     "text": [
      "/Users/yaaminivenkataraman/Documents/School/Year1/FISH-546/yaaminiv-fish546-2016\n"
     ]
    }
   ],
   "source": [
    "cd /Users/yaaminivenkataraman/Documents/School/Year1/FISH-546/yaaminiv-fish546-2016"
   ]
  },
  {
   "cell_type": "code",
   "execution_count": 3,
   "metadata": {
    "collapsed": false
   },
   "outputs": [
    {
     "data": {
      "text/plain": [
       "'/Users/yaaminivenkataraman/Documents/School/Year1/FISH-546/yaaminiv-fish546-2016'"
      ]
     },
     "execution_count": 3,
     "metadata": {},
     "output_type": "execute_result"
    }
   ],
   "source": [
    "pwd"
   ]
  },
  {
   "cell_type": "markdown",
   "metadata": {},
   "source": [
    "Similar to running a blastx, I first need to create a database (kallisto index). The code is as follows:\n",
    "\n",
    "1. define the program, `kallisto index`\n",
    "2. `-i` indicate the name for the new index\n",
    "3. fasta file to be used to create an index"
   ]
  },
  {
   "cell_type": "code",
   "execution_count": 10,
   "metadata": {
    "collapsed": false
   },
   "outputs": [
    {
     "name": "stdout",
     "output_type": "stream",
     "text": [
      "\n",
      "[build] loading fasta file /Users/yaaminivenkataraman/Documents/School/Year1/FISH-546/yaaminiv-fish546-2016/data/OlyO_v6_transcriptome.fa\n",
      "[build] k-mer length: 31\n",
      "[build] warning: clipped off poly-A tail (longer than 10)\n",
      "        from 833 target sequences\n",
      "[build] counting k-mers ... done.\n",
      "[build] building target de Bruijn graph ...  done \n",
      "[build] creating equivalence classes ...  done\n",
      "[build] target de Bruijn graph has 599683 contigs and contains 74111966 k-mers \n",
      "\n"
     ]
    }
   ],
   "source": [
    "!/Applications/kallisto/kallisto index \\\n",
    "-i /Users/yaaminivenkataraman/Documents/School/Year1/FISH-546/yaaminiv-fish546-2016/data/kallisto-index-OlyO-v6 \\\n",
    "/Users/yaaminivenkataraman/Documents/School/Year1/FISH-546/yaaminiv-fish546-2016/data/OlyO_v6_transcriptome.fa \\"
   ]
  },
  {
   "cell_type": "markdown",
   "metadata": {},
   "source": [
    "I can now use my newly created index to run 4 separate commands to quantify my reads in the larger transcriptome. The code is as follows:\n",
    "\n",
    "1. Define the program, `kallisto quant`\n",
    "2. `-i` indicates when index to use\n",
    "3. `-o` tells the program where to write the output\n",
    "4. `--single` allows me to process single-end reads\n",
    "5. `-l` estimated average fragment length\n",
    "6. `-s` estimated standard deviation of fragment length\n",
    "7. fastq file to be used\n",
    "\n",
    "**1. filtered_106A_Female_Mix_GATCAG_L004_R1.fastq**"
   ]
  },
  {
   "cell_type": "code",
   "execution_count": 1,
   "metadata": {
    "collapsed": false
   },
   "outputs": [
    {
     "name": "stdout",
     "output_type": "stream",
     "text": [
      "\r\n",
      "Error: fragment length mean and sd must be supplied for single-end reads using -l and -s\r\n",
      "\r\n",
      "Usage: kallisto quant [arguments] FASTQ-files\r\n",
      "\r\n",
      "Required arguments:\r\n",
      "-i, --index=STRING            Filename for the kallisto index to be used for\r\n",
      "                              quantification\r\n",
      "-o, --output-dir=STRING       Directory to write output to\r\n",
      "\r\n",
      "Optional arguments:\r\n",
      "    --bias                    Perform sequence based bias correction\r\n",
      "-b, --bootstrap-samples=INT   Number of bootstrap samples (default: 0)\r\n",
      "    --seed=INT                Seed for the bootstrap sampling (default: 42)\r\n",
      "    --plaintext               Output plaintext instead of HDF5\r\n",
      "    --single                  Quantify single-end reads\r\n",
      "    --fr-stranded             Strand specific reads, first read forward\r\n",
      "    --rf-stranded             Strand specific reads, first read reverse\r\n",
      "-l, --fragment-length=DOUBLE  Estimated average fragment length\r\n",
      "-s, --sd=DOUBLE               Estimated standard deviation of fragment length\r\n",
      "                              (default: value is estimated from the input data)\r\n",
      "-t, --threads=INT             Number of threads to use (default: 1)\r\n",
      "    --pseudobam               Output pseudoalignments in SAM format to stdout\r\n"
     ]
    }
   ],
   "source": [
    "!/Applications/kallisto/kallisto quant \\\n",
    "-i /Users/yaaminivenkataraman/Documents/School/Year1/FISH-546/yaaminiv-fish546-2016/data/kallisto-index-OlyO-v6 \\\n",
    "-o /Users/yaaminivenkataraman/Documents/School/Year1/FISH-546/yaaminiv-fish546-2016/analyses \\\n",
    "--single \\\n",
    "-l \\\n",
    "-s \\\n",
    "/Users/yaaminivenkataraman/Documents/School/Year1/FISH-546/yaaminiv-fish546-2016/data/filtered_106A_Female_Mix_GATCAG_L004_R1.fastq"
   ]
  },
  {
   "cell_type": "markdown",
   "metadata": {},
   "source": [
    "**2. filtered_106A_Male_Mix_TAGCTT_L004_R1.fastq**"
   ]
  },
  {
   "cell_type": "code",
   "execution_count": 15,
   "metadata": {
    "collapsed": false
   },
   "outputs": [
    {
     "ename": "SyntaxError",
     "evalue": "invalid syntax (<ipython-input-15-815c3a9d0cf4>, line 2)",
     "output_type": "error",
     "traceback": [
      "\u001b[0;36m  File \u001b[0;32m\"<ipython-input-15-815c3a9d0cf4>\"\u001b[0;36m, line \u001b[0;32m2\u001b[0m\n\u001b[0;31m    -o /Users/yaaminivenkataraman/Documents/School/Year1/FISH-546/yaaminiv-fish546-2016/analyses/\u001b[0m\n\u001b[0m                                                                                                 ^\u001b[0m\n\u001b[0;31mSyntaxError\u001b[0m\u001b[0;31m:\u001b[0m invalid syntax\n"
     ]
    }
   ],
   "source": [
    "!/Applications/kallisto/kallisto quant \\\n",
    "-i /Users/yaaminivenkataraman/Documents/School/Year1/FISH-546/yaaminiv-fish546-2016/data/kallisto-index-OlyO-v6\n",
    "-o /Users/yaaminivenkataraman/Documents/School/Year1/FISH-546/yaaminiv-fish546-2016/analyses \\\n",
    "/Users/yaaminivenkataraman/Documents/School/Year1/FISH-546/yaaminiv-fish546-2016/data/filtered_106A_Male_Mix_TAGCTT_L004_R1.fastq"
   ]
  },
  {
   "cell_type": "markdown",
   "metadata": {},
   "source": [
    "**3. filtered_108A_Female_Mix_GGCTAC_L004_R1.fastq**"
   ]
  },
  {
   "cell_type": "code",
   "execution_count": null,
   "metadata": {
    "collapsed": true
   },
   "outputs": [],
   "source": [
    "!/Applications/kallisto/kallisto quant \\\n",
    "-i /Users/yaaminivenkataraman/Documents/School/Year1/FISH-546/yaaminiv-fish546-2016/data/kallisto-index-OlyO-v6\n",
    "-o /Users/yaaminivenkataraman/Documents/School/Year1/FISH-546/yaaminiv-fish546-2016/analyses \\\n",
    "/Users/yaaminivenkataraman/Documents/School/Year1/FISH-546/yaaminiv-fish546-2016/data/filtered_108A_Female_Mix_GGCTAC_L004_R1.fastq"
   ]
  },
  {
   "cell_type": "markdown",
   "metadata": {},
   "source": [
    "**4.filtered_108A_Male_Mix_AGTCAA_L004_R1.fastq**"
   ]
  },
  {
   "cell_type": "code",
   "execution_count": null,
   "metadata": {
    "collapsed": true
   },
   "outputs": [],
   "source": [
    "!/Applications/kallisto/kallisto quant \\\n",
    "-i /Users/yaaminivenkataraman/Documents/School/Year1/FISH-546/yaaminiv-fish546-2016/data/kallisto-index-OlyO-v6\n",
    "-o /Users/yaaminivenkataraman/Documents/School/Year1/FISH-546/yaaminiv-fish546-2016/analyses \\\n",
    "/Users/yaaminivenkataraman/Documents/School/Year1/FISH-546/yaaminiv-fish546-2016/data/filtered_108A_Male_Mix_AGTCAA_L004_R1.fastq"
   ]
  }
 ],
 "metadata": {
  "anaconda-cloud": {},
  "kernelspec": {
   "display_name": "Python [default]",
   "language": "python",
   "name": "python3"
  },
  "language_info": {
   "codemirror_mode": {
    "name": "ipython",
    "version": 3
   },
   "file_extension": ".py",
   "mimetype": "text/x-python",
   "name": "python",
   "nbconvert_exporter": "python",
   "pygments_lexer": "ipython3",
   "version": "3.5.2"
  }
 },
 "nbformat": 4,
 "nbformat_minor": 1
}
