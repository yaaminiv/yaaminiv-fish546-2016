{
 "cells": [
  {
   "cell_type": "markdown",
   "metadata": {},
   "source": [
    "# Repeating Kallisto and DeSeq2\n",
    "\n",
    "Based on my previous [DeSeq2 analyses](https://github.com/yaaminiv/yaaminiv-fish546-2016/blob/master/notebooks/2016-11-11-oly-gonad-OA-part4-differential-expression.ipynb), I did not find any significant differences in gene expression for pairwise comparisons. This could be because my standard deviation was too high when running [`kallisto quant`](https://github.com/yaaminiv/yaaminiv-fish546-2016/blob/master/notebooks/2016-11-04-oly-gonad-OA-part3-kallisto.ipynb). I will now rerun `kallisto quant` with a lower standard deviation and see if that affects my DeSeq2 results.\n",
    "\n",
    "### 1. Rerun `kallisto quant`\n",
    "\n",
    "#### Create a database\n",
    "\n",
    "Similar to running a blastx, I first need to create a database (kallisto index). I will use the same database I creased in my previous attempt with `kallisto`. The code I used is as follows:\n",
    "\n",
    "1. define the program, `kallisto index`\n",
    "2. `-i` indicate the name for the new index\n",
    "3. fasta file to be used to create an index"
   ]
  },
  {
   "cell_type": "code",
   "execution_count": null,
   "metadata": {
    "collapsed": true
   },
   "outputs": [],
   "source": [
    "!/Applications/kallisto/kallisto index \\\n",
    "-i /Users/yaaminivenkataraman/Documents/School/Year1/FISH-546/yaaminiv-fish546-2016/data/kallisto-index-OlyO-v6 \\\n",
    "/Users/yaaminivenkataraman/Documents/School/Year1/FISH-546/yaaminiv-fish546-2016/data/OlyO_v6_transcriptome.fa \\"
   ]
  },
  {
   "cell_type": "markdown",
   "metadata": {},
   "source": [
    "I can now use my newly created index to run 4 separate commands to quantify my reads in the larger transcriptome. The code is as follows:\n",
    "\n",
    "1. Define the program, `kallisto quant`\n",
    "2. `-i` indicates when index to use\n",
    "3. `-o` tells the program where to write the output\n",
    "4. `--single` allows me to process single-end reads\n",
    "5. `-l` estimated average fragment length from [FastQC output](https://github.com/yaaminiv/yaaminiv-fish546-2016/blob/master/notebooks/2016-10-19-oly-gonad-OA-part-1-FASTQC-results.ipynb)\n",
    "6. `-s` estimated standard deviation of fragment length. I guessed 10%, or 0.10.\n",
    "7. fastq file to be used\n",
    "\n",
    "#### **filtered_106A_Female_Mix_GATCAG_L004_R1.fastq**"
   ]
  },
  {
   "cell_type": "code",
   "execution_count": 3,
   "metadata": {
    "collapsed": false
   },
   "outputs": [
    {
     "name": "stdout",
     "output_type": "stream",
     "text": [
      "\n",
      "Error: kallisto index file not found /Users/yaamini/Documents/yaaminiv-fish546-2016/data/kallisto-index-OlyO-v6\n",
      "Error: file not found /Users/yaaminivenkataraman/Documents/School/Year1/FISH-546/yaaminiv-fish546-2016/data/filtered_106A_Female_Mix_GATCAG_L004_R1.fastq\n",
      "Error: paired-end mode requires an even number of input files\n",
      "       (use --single for processing single-end reads)\n",
      "\n",
      "Usage: kallisto quant [arguments] FASTQ-files\n",
      "\n",
      "Required arguments:\n",
      "-i, --index=STRING            Filename for the kallisto index to be used for\n",
      "                              quantification\n",
      "-o, --output-dir=STRING       Directory to write output to\n",
      "\n",
      "Optional arguments:\n",
      "    --bias                    Perform sequence based bias correction\n",
      "-b, --bootstrap-samples=INT   Number of bootstrap samples (default: 0)\n",
      "    --seed=INT                Seed for the bootstrap sampling (default: 42)\n",
      "    --plaintext               Output plaintext instead of HDF5\n",
      "    --single                  Quantify single-end reads\n",
      "    --fr-stranded             Strand specific reads, first read forward\n",
      "    --rf-stranded             Strand specific reads, first read reverse\n",
      "-l, --fragment-length=DOUBLE  Estimated average fragment length\n",
      "-s, --sd=DOUBLE               Estimated standard deviation of fragment length\n",
      "                              (default: value is estimated from the input data)\n",
      "-t, --threads=INT             Number of threads to use (default: 1)\n",
      "    --pseudobam               Output pseudoalignments in SAM format to stdout\n"
     ]
    }
   ],
   "source": [
    "!/Users/Shared/Apps/kallisto/kallisto quant \\\n",
    "-i /Users/yaamini/Documents/yaaminiv-fish546-2016/data/kallisto-index-OlyO-v6 \\\n",
    "-o /Users/yaamini/Documents/yaaminiv-fish546-2016/analyses/11-29-kallisto-female-106 \\\n",
    "/Users/yaaminivenkataraman/Documents/School/Year1/FISH-546/yaaminiv-fish546-2016/data/filtered_106A_Female_Mix_GATCAG_L004_R1.fastq"
   ]
  },
  {
   "cell_type": "markdown",
   "metadata": {},
   "source": [
    "# Rerun DeSeq2\n",
    "\n",
    "Now that I have my [count data](https://github.com/yaaminiv/yaaminiv-fish546-2016/blob/master/notebooks/2016-11-04-oly-gonad-OA-part3-kallisto.ipynb), I can use [DeSeq2](https://github.com/yaaminiv/yaaminiv-fish546-2016/blob/master/tutorials/DESeq2-tutorial/2016-10-26-DESeq2-Tutorial-Part-2.ipynb) to analyze differential expression. The process I used was adapted from [this notebook](https://github.com/sr320/eimd-sswd/blob/master/eimd_analysis.ipynb).\n",
    "\n",
    "My goal is to compare gene expression between the female-106 and female-108 samples, and between the male-106 and male-108 samples. To do this, I will use the `DeSeq2` package in R. Before this can happen, I need to make sure my data is in the right format for analysis.\n",
    "\n",
    "### 1. Reformat `kallisto quant` output files\n",
    "\n",
    "#### Convert to a `.txt` file\n",
    "\n",
    "My first step is converting my count data into a .txt file to use in DeSeq2. This is as simple as opening the `.tsv` file generated by `kallisto quant` in excel, and saving it as a `.txt` file."
   ]
  },
  {
   "cell_type": "markdown",
   "metadata": {
    "collapsed": true
   },
   "source": [
    "![example file conversion](https://raw.githubusercontent.com/yaaminiv/yaaminiv-fish546-2016/master/analyses/kallisto-female-108/samplefileconversion.png)"
   ]
  },
  {
   "cell_type": "markdown",
   "metadata": {},
   "source": [
    "#### Merge count data files\n",
    "\n",
    "Next, I need to merge all of my count data files so I have one `.txt` file with all of my count information (the column label in the original files have the word \"count\" in them). The column headers will be as follows:\n",
    "\n",
    "- Feature_ID\n",
    "- Female_106 - Total gene reads\t\n",
    "- Male_106 - Total gene reads\t\n",
    "- Female_108 - Total gene reads\t\n",
    "- Male_108 - Total gene reads\n",
    "\n",
    "I merged these in Excel. Additionally, I converted all of my count data to integers, as DESeq2 will only work with nonnegative integers. My final file looks like this:\n",
    "\n",
    "![oly-gonad-oa-counts](https://raw.githubusercontent.com/yaaminiv/yaaminiv-fish546-2016/master/data/countdatascreenshot.png)"
   ]
  },
  {
   "cell_type": "markdown",
   "metadata": {},
   "source": [
    "### 2. Use DeSeq2 in R\n",
    "\n",
    "I am now ready to complete my analyses in R!\n",
    "\n",
    "The first thing I did was use DESeq2 to compare differentially expressed genes in all treatments:\n",
    "\n",
    "[R Script](https://github.com/yaaminiv/yaaminiv-fish546-2016/blob/master/analyses/oly_oa_gonad_DESeq2/2016-11-16-alltreatments-DESeq2.R)\n",
    "\n",
    "[List of differentially expressed genes](https://raw.githubusercontent.com/yaaminiv/yaaminiv-fish546-2016/master/analyses/oly_oa_gonad_DESeq2/alltreatments_DEG.tab)\n",
    "\n",
    "![all treatments](https://raw.githubusercontent.com/yaaminiv/yaaminiv-fish546-2016/master/analyses/oly_oa_gonad_DESeq2/alltreatments.png)\n",
    "\n",
    "I noticed that there weren't many differentially expressed genes, maybe because I was comparing four separate conditions: Female_106, Male_106, Female_108 and Male_108. I adjusted the p-value from 0.05 to 0.5, based on p-adj values from DESeq2, and reran my script.\n",
    "\n",
    "[R Script (p = 0.5)](https://github.com/yaaminiv/yaaminiv-fish546-2016/blob/master/analyses/oly_oa_gonad_DESeq2/2016-11-16-alltreatments-DESeq2.R)\n",
    "\n",
    "[List of differentially expressed genes (p = 0.5)](https://raw.githubusercontent.com/yaaminiv/yaaminiv-fish546-2016/master/analyses/oly_oa_gonad_DESeq2/alltreatments-p0.5-_DEG.tab)\n",
    "\n",
    "![all treatments (p = 0.5)](https://raw.githubusercontent.com/yaaminiv/yaaminiv-fish546-2016/master/analyses/oly_oa_gonad_DESeq2/alltreatments-p0.5-.png)\n",
    "\n",
    "Next, I looked at pairwise comparisons to try and tease out where the siginificant differences in gene expression were coming from. I created new count files for all possible pairwise comparisons and ran them through DESeq2. My results can be viewed below:\n",
    "\n",
    "#### Control vs. Ocean Acidification conditions\n",
    "\n",
    "**Female_106 vs. Female_108**\n",
    "\n",
    "Oddly enough, there were no differentially expressed genes between these two when p = 0.05!\n",
    "\n",
    "[Count data](https://raw.githubusercontent.com/yaaminiv/yaaminiv-fish546-2016/master/data/2016-11-16-oly-gonad-oa-count-data-female106-female108.txt)\n",
    "\n",
    "[R Script](https://github.com/yaaminiv/yaaminiv-fish546-2016/blob/master/analyses/oly_oa_gonad_DESeq2/2016-11-16-female106-female108-DESeq2.R)\n",
    "\n",
    "![female-106 vs. female-108](https://raw.githubusercontent.com/yaaminiv/yaaminiv-fish546-2016/master/analyses/oly_oa_gonad_DESeq2/female106-female108.png)\n",
    "\n",
    "**Male_106 vs. Male_108**\n",
    "\n",
    "Again, no differentially expressed genes!\n",
    "\n",
    "[Count data](https://raw.githubusercontent.com/yaaminiv/yaaminiv-fish546-2016/master/data/2016-11-16-oly-gonad-oa-count-data-male106-male108.txt)\n",
    "\n",
    "[R Script](https://github.com/yaaminiv/yaaminiv-fish546-2016/blob/master/analyses/oly_oa_gonad_DESeq2/2016-11-16-male106-male108-DESeq2.R)\n",
    "\n",
    "![male-106 vs. male-108](https://raw.githubusercontent.com/yaaminiv/yaaminiv-fish546-2016/master/analyses/oly_oa_gonad_DESeq2/male106-male108.png)\n",
    "\n",
    "Because the current pairwise comparisons I've tested have yielded no significant results, either there truly is no differential gene expression between the 106 and 108 treatments, or the differences are not significant at p = 0.05. Therefore, any significant difference between gene expression must be due to a difference between male and female gonads. \n",
    "\n",
    "#### Male vs. Female Gonads\n",
    "\n",
    "**Female_106 vs. Male_106**\n",
    "\n",
    "Once again, no significantly differentially expressed genes.\n",
    "\n",
    "[Count data](https://raw.githubusercontent.com/yaaminiv/yaaminiv-fish546-2016/master/data/2016-11-16-oly-gonad-oa-count-data-female106-male106.txt)\n",
    "\n",
    "[R Script](https://github.com/yaaminiv/yaaminiv-fish546-2016/blob/master/analyses/oly_oa_gonad_DESeq2/2016-11-16-female106-male106-DESeq2.R)\n",
    "\n",
    "![female-106 vs. male-106](https://raw.githubusercontent.com/yaaminiv/yaaminiv-fish546-2016/master/analyses/oly_oa_gonad_DESeq2/female106-male106.png)\n",
    "\n",
    "**Female_108 vs. Male_108**\n",
    "\n",
    "Still no significant pairwise difference.\n",
    "\n",
    "[Count data](https://raw.githubusercontent.com/yaaminiv/yaaminiv-fish546-2016/master/data/2016-11-16-oly-gonad-oa-count-data-female108-male108.txt)\n",
    "\n",
    "[R Script](https://github.com/yaaminiv/yaaminiv-fish546-2016/blob/master/analyses/oly_oa_gonad_DESeq2/2016-11-16-female108-male108-DESeq2.R)\n",
    "\n",
    "![female-108 vs. male-108](https://raw.githubusercontent.com/yaaminiv/yaaminiv-fish546-2016/master/analyses/oly_oa_gonad_DESeq2/female108-male108.png)\n",
    "\n",
    "After seeing no significant differences in gene expression from the above pairwise comparisons, I wanted to rerun DESeq2 with different p-values. However, when I examined the adjusted p-values (p-adj) for each comparison, I found the following:\n",
    "\n",
    "- Female_106 vs. Female_108: No p-adj less than 0.9996995\n",
    "- Male_106 vs. Male_108: No p-adj less than 1\n",
    "- Female_106 vs. Male_106: No p-adj less than 0.9996995\n",
    "- Female_108 vs. Male_108: No p-adj less than 1\n",
    "\n",
    "Setting my p-value to 1.0 is not useful, as all genes will be listed as significantly differentially expressed.\n",
    "\n",
    "At this point, I think that the differences must have been between Female_106 and Male_108 (or something similar). I need to come back to this and work through it."
   ]
  },
  {
   "cell_type": "code",
   "execution_count": null,
   "metadata": {
    "collapsed": true
   },
   "outputs": [],
   "source": []
  }
 ],
 "metadata": {
  "anaconda-cloud": {},
  "kernelspec": {
   "display_name": "Python [default]",
   "language": "python",
   "name": "python3"
  },
  "language_info": {
   "codemirror_mode": {
    "name": "ipython",
    "version": 3
   },
   "file_extension": ".py",
   "mimetype": "text/x-python",
   "name": "python",
   "nbconvert_exporter": "python",
   "pygments_lexer": "ipython3",
   "version": "3.5.2"
  }
 },
 "nbformat": 4,
 "nbformat_minor": 1
}
