{
 "cells": [
  {
   "cell_type": "markdown",
   "metadata": {},
   "source": [
    "# In this notebook, I will detail the process of downloading my .fastq data, examining file quality and trimming the sequences to improve quality."
   ]
  },
  {
   "cell_type": "markdown",
   "metadata": {},
   "source": [
    "# 1. Downloading *O. lurida* transcriptome data"
   ]
  },
  {
   "cell_type": "markdown",
   "metadata": {},
   "source": [
    "My data has four specific seq ids:\n",
    "\n",
    "1. filtered_106A_Female_Mix_GATCAG_L004\n",
    "2. filtered_106A_Male_Mix_TAGCTT_L004\n",
    "3. filtered_108A_Female_Mix_GGCTAC_L004\n",
    "4. filtered_108A_Male_Mix_AGTCAA_L004\n",
    "\n",
    "I will download all four components."
   ]
  },
  {
   "cell_type": "code",
   "execution_count": 1,
   "metadata": {
    "collapsed": false
   },
   "outputs": [
    {
     "data": {
      "text/plain": [
       "'/Users/yaaminivenkataraman/Documents/School/Year1/FISH-546/yaaminiv-fish546-2016/notebooks'"
      ]
     },
     "execution_count": 1,
     "metadata": {},
     "output_type": "execute_result"
    }
   ],
   "source": [
    "pwd"
   ]
  },
  {
   "cell_type": "markdown",
   "metadata": {},
   "source": [
    "### Downloading data using `!curl` and then redirecting it"
   ]
  },
  {
   "cell_type": "markdown",
   "metadata": {},
   "source": [
    "**Component 1**: filtered_106A_Female_Mix_GATCAG_L004"
   ]
  },
  {
   "cell_type": "code",
   "execution_count": 1,
   "metadata": {
    "collapsed": false
   },
   "outputs": [
    {
     "name": "stdout",
     "output_type": "stream",
     "text": [
      "  % Total    % Received % Xferd  Average Speed   Time    Time     Time  Current\n",
      "                                 Dload  Upload   Total   Spent    Left  Speed\n",
      "100 2619M  100 2619M    0     0  9420k      0  0:04:44  0:04:44 --:--:-- 16.1M\n"
     ]
    }
   ],
   "source": [
    "!curl http://owl.fish.washington.edu/nightingales/O_lurida/filtered_106A_Female_Mix_GATCAG_L004_R1.fastq.gz \\\n",
    "> /../data/filtered_106A_Female_Mix_GATCAG_L004_R1.fastq.gz"
   ]
  },
  {
   "cell_type": "markdown",
   "metadata": {},
   "source": [
    "Manually unzipped file on my computer. Using this unzipped version for `!head` command"
   ]
  },
  {
   "cell_type": "code",
   "execution_count": 2,
   "metadata": {
    "collapsed": false
   },
   "outputs": [
    {
     "name": "stdout",
     "output_type": "stream",
     "text": [
      "@HWI-ST700693:263:C0K6DACXX:4:1101:1464:1969\r\n",
      "NTTCATGAAGGGGTCAACCAGAATGATCTCGTAAAACTTGTAAGATGAATCCTGTGCCACCCAGTAAGAGCTTAGC\r\n",
      "+\r\n",
      "#4=DDDDDHFFHHGGABHIICBGH<E@FHIIGEGIIIIIIIDGGIIGEIIIIIIIIIIGIGGI9=D@CECEEF@CC\r\n",
      "@HWI-ST700693:263:C0K6DACXX:4:1101:1506:1985\r\n",
      "NCCTGATTGAAAACAAAATGTCTTTGTTTTTTCTACTTTGTATGGATCAATCAATCTTATTTGTTCCTGTAGAGAT\r\n",
      "+\r\n",
      "#1=DDFFFHHHHHJJJJJIGFHHJIIIIJJJJIIJIJJJJIJJFEGJIIIIHIGIJJEHIJJJGAGHJJIIIHGD;\r\n",
      "@HWI-ST700693:263:C0K6DACXX:4:1101:1882:1979\r\n",
      "NGGGACTCTAACGAGAACCTTCCGTCATCTGGCTCTGGACATAACCATGGTTAACAAGAACACTGTCATGGTGGAG\r\n"
     ]
    }
   ],
   "source": [
    "!head /../data/filtered_106A_Female_Mix_GATCAG_L004_R1.fastq"
   ]
  },
  {
   "cell_type": "markdown",
   "metadata": {},
   "source": [
    "**Component 2**: filtered_106A_Male_Mix_TAGCTT_L004"
   ]
  },
  {
   "cell_type": "code",
   "execution_count": 3,
   "metadata": {
    "collapsed": false
   },
   "outputs": [
    {
     "name": "stdout",
     "output_type": "stream",
     "text": [
      "  % Total    % Received % Xferd  Average Speed   Time    Time     Time  Current\n",
      "                                 Dload  Upload   Total   Spent    Left  Speed\n",
      "100 3949M  100 3949M    0     0  9967k      0  0:06:45  0:06:45 --:--:-- 15.0M\n"
     ]
    }
   ],
   "source": [
    "!curl http://owl.fish.washington.edu/nightingales/O_lurida/filtered_106A_Male_Mix_TAGCTT_L004_R1.fastq.gz \\\n",
    "> /../data/filtered_106A_Male_Mix_TAGCTT_L004_R1.fastq.gz"
   ]
  },
  {
   "cell_type": "code",
   "execution_count": 7,
   "metadata": {
    "collapsed": false
   },
   "outputs": [
    {
     "name": "stdout",
     "output_type": "stream",
     "text": [
      "@HWI-ST700693:263:C0K6DACXX:4:1101:1408:1981\r\n",
      "NTCCGAACTACCACCCCACGGGAAGGAGCATGTGAAGACATGAATCGATACTGCGATTATTGGGCGGAGCAGGGCT\r\n",
      "+\r\n",
      "#1=DBDDDBFFHDHIIIEIIFGIIEDBFHCFFGHIGHD;CBFFC482C@D>GHCAE??;@@@3=;>=0;B<?B###\r\n",
      "@HWI-ST700693:263:C0K6DACXX:4:1101:1626:1980\r\n",
      "NTGATCCAGAAAAAAAACTGCTTATGGTAACATAGGAATGTTTTATGCTATACTAAATATTGGATTTCTGGGCTTC\r\n",
      "+\r\n",
      "#1=DDDDDDF;?FHIAEHCHICCFHG>B@@@GCHIGGHC<?FGGGHGE=B@AFHFGGGIIIDGCEHBAE);>?CA@\r\n",
      "@HWI-ST700693:263:C0K6DACXX:4:1101:1648:1985\r\n",
      "NGAAAACATGTACCAAGGGCAGTTTTTGTGGACCTGGAGCCAACTGTTGTTGATGAAGTCCGCACTGGTACTTATC\r\n"
     ]
    }
   ],
   "source": [
    "!head /../data/filtered_106A_Male_Mix_TAGCTT_L004_R1.fastq"
   ]
  },
  {
   "cell_type": "markdown",
   "metadata": {},
   "source": [
    "**Component 3**: filtered_108A_Female_Mix_GGCTAC_L004"
   ]
  },
  {
   "cell_type": "code",
   "execution_count": 5,
   "metadata": {
    "collapsed": false
   },
   "outputs": [
    {
     "name": "stdout",
     "output_type": "stream",
     "text": [
      "  % Total    % Received % Xferd  Average Speed   Time    Time     Time  Current\n",
      "                                 Dload  Upload   Total   Spent    Left  Speed\n",
      "100 3036M  100 3036M    0     0  8172k      0  0:06:20  0:06:20 --:--:-- 2908k\n"
     ]
    }
   ],
   "source": [
    "!curl http://owl.fish.washington.edu/nightingales/O_lurida/filtered_108A_Female_Mix_GGCTAC_L004_R1.fastq.gz \\\n",
    "> /../data/filtered_108A_Female_Mix_GGCTAC_L004_R1.fastq.gz"
   ]
  },
  {
   "cell_type": "code",
   "execution_count": 8,
   "metadata": {
    "collapsed": false
   },
   "outputs": [
    {
     "name": "stdout",
     "output_type": "stream",
     "text": [
      "@HWI-ST700693:263:C0K6DACXX:4:1101:1603:1975\r\n",
      "NTAGGCAGTTTATATAAAAAACTTTAAATGAACAAAGTATGGGAACATCAGAAATGTTAGTTAGTATTTATAGGTC\r\n",
      "+\r\n",
      "#1=DBDFFAFFDFIGIIIIIIIIIIIC:CCGHIIIIIFHGIIIIIIIIIIIGIIIIHIIEGHIIGGGHGHEHH@D=\r\n",
      "@HWI-ST700693:263:C0K6DACXX:4:1101:1619:1999\r\n",
      "NTTACCACCGCCAAACTTGGTCCTGAACCCAAAGCAGAAAATGGTGTCGGGTGTCGTCCTGGACCTTTTGGCTAGG\r\n",
      "+\r\n",
      "#1:ABDDD:0@DDEII>BAF+1?C@E>DDD7?DB>DCDDDB8?<B@.B;A##########################\r\n",
      "@HWI-ST700693:263:C0K6DACXX:4:1101:2133:1973\r\n",
      "NGATCTTGTCTGCTATACAAAGATGCCAACCCACAATAGTAAGAACACAACACCAAATCCCATAAATACAGAGGCT\r\n"
     ]
    }
   ],
   "source": [
    "!head /../data/filtered_108A_Female_Mix_GGCTAC_L004_R1.fastq"
   ]
  },
  {
   "cell_type": "markdown",
   "metadata": {},
   "source": [
    "**Component 4**: filtered_108A_Male_Mix_AGTCAA_L004"
   ]
  },
  {
   "cell_type": "code",
   "execution_count": 6,
   "metadata": {
    "collapsed": false
   },
   "outputs": [
    {
     "name": "stdout",
     "output_type": "stream",
     "text": [
      "  % Total    % Received % Xferd  Average Speed   Time    Time     Time  Current\n",
      "                                 Dload  Upload   Total   Spent    Left  Speed\n",
      "100 3721M  100 3721M    0     0  9445k      0  0:06:43  0:06:43 --:--:-- 18.3M\n"
     ]
    }
   ],
   "source": [
    "!curl http://owl.fish.washington.edu/nightingales/O_lurida/filtered_108A_Male_Mix_AGTCAA_L004_R1.fastq.gz \\\n",
    "> /../data/filtered_108A_Male_Mix_AGTCAA_L004_R1.fastq.gz"
   ]
  },
  {
   "cell_type": "code",
   "execution_count": 10,
   "metadata": {
    "collapsed": false
   },
   "outputs": [
    {
     "name": "stdout",
     "output_type": "stream",
     "text": [
      "@HWI-ST700693:263:C0K6DACXX:4:1101:1719:1970\r\n",
      "NCTGAAGTGACATTGTAATTATCTGAATATTGGCTGTCATATTCAAACCCTCCATTGGTATGCTTGTCTCAACTTT\r\n",
      "+\r\n",
      "#1:BDDFFFHHHHCHFHGEEIGIHGHHGFAEHGFAHEGGDHCG>GGHGDF?FGHAFGGHDFHIIICBDFFGC=FHC\r\n",
      "@HWI-ST700693:263:C0K6DACXX:4:1101:1561:1973\r\n",
      "NATAGTGAAGAGACAATAAATGTGTTCTCAGAAAATGGAAAACAGTGGAAAGCAGACAAGGTTCTAGTAACACTGC\r\n",
      "+\r\n",
      "#1:ABBDBAFBD<AFGIDHFA<:BB:<CFFHHIIII9E9FFIFFFG>D9<DE@>@FFB9.;84=FF>=C@EFCC@?\r\n",
      "@HWI-ST700693:263:C0K6DACXX:4:1101:1720:1997\r\n",
      "NTGTAAGTAATATAGTCAAACCCCCAGCTAGTACAGGTAAGGTAGTTAGTAGTAAAAATGATGTTACTTTAATTGA\r\n"
     ]
    }
   ],
   "source": [
    "!head /../data/filtered_108A_Male_Mix_AGTCAA_L004_R1.fastq"
   ]
  },
  {
   "cell_type": "markdown",
   "metadata": {},
   "source": [
    "My next steps will be comparing transcriptomes."
   ]
  },
  {
   "cell_type": "markdown",
   "metadata": {},
   "source": [
    "# 2. Quality Control Checks"
   ]
  },
  {
   "cell_type": "markdown",
   "metadata": {},
   "source": [
    "Before I begin any analyses, I will assess my data's quality using FastQC and MultiQC. I will use the interactive FastQC application dowloaded from [this website](http://www.bioinformatics.babraham.ac.uk/projects/fastqc/), but I will also use it in the command line so the analyses can be used as part of a pipeline."
   ]
  },
  {
   "cell_type": "markdown",
   "metadata": {
    "collapsed": true
   },
   "source": [
    "### Analysis using FastQC"
   ]
  },
  {
   "cell_type": "markdown",
   "metadata": {},
   "source": [
    "First, I will use the application to conduct my analyses. After downloading the application, I opened it and loaded my four `.fastq` files using `File > Open`. Once the analyses were complete, I downloaded each file's FASTQC report as an `.html` file, which can be viewed [here](https://github.com/yaaminiv/yaaminiv-fish546-2016/blob/master/notebooks/2016-10-19-oly-gonad-OA-FASTQC-results.ipynb)."
   ]
  },
  {
   "cell_type": "markdown",
   "metadata": {
    "collapsed": true
   },
   "source": [
    "I will use now FastQC in the command line to produce the same results as the interactive application. The code uses the following information:\n",
    "\n",
    "1. path of FastQC application\n",
    "2. files to be analyzed\n",
    "3. number of CPU units\n",
    "4. directory for output files"
   ]
  },
  {
   "cell_type": "code",
   "execution_count": 3,
   "metadata": {
    "collapsed": false,
    "scrolled": true
   },
   "outputs": [
    {
     "name": "stdout",
     "output_type": "stream",
     "text": [
      "\n",
      "            FastQC - A high throughput sequence QC analysis tool\n",
      "\n",
      "SYNOPSIS\n",
      "\n",
      "\tfastqc seqfile1 seqfile2 .. seqfileN\n",
      "\n",
      "    fastqc [-o output dir] [--(no)extract] [-f fastq|bam|sam] \n",
      "           [-c contaminant file] seqfile1 .. seqfileN\n",
      "\n",
      "DESCRIPTION\n",
      "\n",
      "    FastQC reads a set of sequence files and produces from each one a quality\n",
      "    control report consisting of a number of different modules, each one of \n",
      "    which will help to identify a different potential type of problem in your\n",
      "    data.\n",
      "    \n",
      "    If no files to process are specified on the command line then the program\n",
      "    will start as an interactive graphical application.  If files are provided\n",
      "    on the command line then the program will run with no user interaction\n",
      "    required.  In this mode it is suitable for inclusion into a standardised\n",
      "    analysis pipeline.\n",
      "    \n",
      "    The options for the program as as follows:\n",
      "    \n",
      "    -h --help       Print this help file and exit\n",
      "    \n",
      "    -v --version    Print the version of the program and exit\n",
      "    \n",
      "    -o --outdir     Create all output files in the specified output directory.\n",
      "                    Please note that this directory must exist as the program\n",
      "                    will not create it.  If this option is not set then the \n",
      "                    output file for each sequence file is created in the same\n",
      "                    directory as the sequence file which was processed.\n",
      "                    \n",
      "    --casava        Files come from raw casava output. Files in the same sample\n",
      "                    group (differing only by the group number) will be analysed\n",
      "                    as a set rather than individually. Sequences with the filter\n",
      "                    flag set in the header will be excluded from the analysis.\n",
      "                    Files must have the same names given to them by casava\n",
      "                    (including being gzipped and ending with .gz) otherwise they\n",
      "                    won't be grouped together correctly.\n",
      "                    \n",
      "    --nano          Files come from naopore sequences and are in fast5 format. In\n",
      "                    this mode you can pass in directories to process and the program\n",
      "                    will take in all fast5 files within those directories and produce\n",
      "                    a single output file from the sequences found in all files.                    \n",
      "                    \n",
      "    --nofilter      If running with --casava then don't remove read flagged by\n",
      "                    casava as poor quality when performing the QC analysis.\n",
      "                   \n",
      "    --extract       If set then the zipped output file will be uncompressed in\n",
      "                    the same directory after it has been created.  By default\n",
      "                    this option will be set if fastqc is run in non-interactive\n",
      "                    mode.\n",
      "                    \n",
      "    -j --java       Provides the full path to the java binary you want to use to\n",
      "                    launch fastqc. If not supplied then java is assumed to be in\n",
      "                    your path.\n",
      "                   \n",
      "    --noextract     Do not uncompress the output file after creating it.  You\n",
      "                    should set this option if you do not wish to uncompress\n",
      "                    the output when running in non-interactive mode.\n",
      "                    \n",
      "    --nogroup       Disable grouping of bases for reads >50bp. All reports will\n",
      "                    show data for every base in the read.  WARNING: Using this\n",
      "                    option will cause fastqc to crash and burn if you use it on\n",
      "                    really long reads, and your plots may end up a ridiculous size.\n",
      "                    You have been warned!\n",
      "                    \n",
      "    -f --format     Bypasses the normal sequence file format detection and\n",
      "                    forces the program to use the specified format.  Valid\n",
      "                    formats are bam,sam,bam_mapped,sam_mapped and fastq\n",
      "                    \n",
      "    -t --threads    Specifies the number of files which can be processed\n",
      "                    simultaneously.  Each thread will be allocated 250MB of\n",
      "                    memory so you shouldn't run more threads than your\n",
      "                    available memory will cope with, and not more than\n",
      "                    6 threads on a 32 bit machine\n",
      "                  \n",
      "    -c              Specifies a non-default file which contains the list of\n",
      "    --contaminants  contaminants to screen overrepresented sequences against.\n",
      "                    The file must contain sets of named contaminants in the\n",
      "                    form name[tab]sequence.  Lines prefixed with a hash will\n",
      "                    be ignored.\n",
      "\n",
      "    -a              Specifies a non-default file which contains the list of\n",
      "    --adapters      adapter sequences which will be explicity searched against\n",
      "                    the library. The file must contain sets of named adapters\n",
      "                    in the form name[tab]sequence.  Lines prefixed with a hash\n",
      "                    will be ignored.\n",
      "                    \n",
      "    -l              Specifies a non-default file which contains a set of criteria\n",
      "    --limits        which will be used to determine the warn/error limits for the\n",
      "                    various modules.  This file can also be used to selectively \n",
      "                    remove some modules from the output all together.  The format\n",
      "                    needs to mirror the default limits.txt file found in the\n",
      "                    Configuration folder.\n",
      "                    \n",
      "   -k --kmers       Specifies the length of Kmer to look for in the Kmer content\n",
      "                    module. Specified Kmer length must be between 2 and 10. Default\n",
      "                    length is 7 if not specified.\n",
      "                    \n",
      "   -q --quiet       Supress all progress messages on stdout and only report errors.\n",
      "   \n",
      "   -d --dir         Selects a directory to be used for temporary files written when\n",
      "                    generating report images. Defaults to system temp directory if\n",
      "                    not specified.\n",
      "                    \n",
      "BUGS\n",
      "\n",
      "    Any bugs in fastqc should be reported either to simon.andrews@babraham.ac.uk\n",
      "    or in www.bioinformatics.babraham.ac.uk/bugzilla/\n",
      "                   \n",
      "    "
     ]
    }
   ],
   "source": [
    "!/Applications/FastQC/fastqc -help"
   ]
  },
  {
   "cell_type": "code",
   "execution_count": 2,
   "metadata": {
    "collapsed": false,
    "scrolled": true
   },
   "outputs": [
    {
     "name": "stdout",
     "output_type": "stream",
     "text": [
      "Started analysis of filtered_106A_Female_Mix_GATCAG_L004_R1.fastq\n",
      "Started analysis of filtered_106A_Female_Mix_GATCAG_L004_R1.fastq.gz\n",
      "Started analysis of filtered_106A_Male_Mix_TAGCTT_L004_R1.fastq\n",
      "Started analysis of filtered_106A_Male_Mix_TAGCTT_L004_R1.fastq.gz\n",
      "Approx 5% complete for filtered_106A_Female_Mix_GATCAG_L004_R1.fastq\n",
      "Approx 5% complete for filtered_106A_Female_Mix_GATCAG_L004_R1.fastq.gz\n",
      "Approx 5% complete for filtered_106A_Male_Mix_TAGCTT_L004_R1.fastq\n",
      "Approx 5% complete for filtered_106A_Male_Mix_TAGCTT_L004_R1.fastq.gz\n",
      "Approx 10% complete for filtered_106A_Female_Mix_GATCAG_L004_R1.fastq\n",
      "Approx 10% complete for filtered_106A_Female_Mix_GATCAG_L004_R1.fastq.gz\n",
      "Approx 15% complete for filtered_106A_Female_Mix_GATCAG_L004_R1.fastq\n",
      "Approx 10% complete for filtered_106A_Male_Mix_TAGCTT_L004_R1.fastq\n",
      "Approx 15% complete for filtered_106A_Female_Mix_GATCAG_L004_R1.fastq.gz\n",
      "Approx 10% complete for filtered_106A_Male_Mix_TAGCTT_L004_R1.fastq.gz\n",
      "Approx 20% complete for filtered_106A_Female_Mix_GATCAG_L004_R1.fastq\n",
      "Approx 15% complete for filtered_106A_Male_Mix_TAGCTT_L004_R1.fastq\n",
      "Approx 20% complete for filtered_106A_Female_Mix_GATCAG_L004_R1.fastq.gz\n",
      "Approx 25% complete for filtered_106A_Female_Mix_GATCAG_L004_R1.fastq\n",
      "Approx 15% complete for filtered_106A_Male_Mix_TAGCTT_L004_R1.fastq.gz\n",
      "Approx 25% complete for filtered_106A_Female_Mix_GATCAG_L004_R1.fastq.gz\n",
      "Approx 30% complete for filtered_106A_Female_Mix_GATCAG_L004_R1.fastq\n",
      "Approx 20% complete for filtered_106A_Male_Mix_TAGCTT_L004_R1.fastq\n",
      "Approx 35% complete for filtered_106A_Female_Mix_GATCAG_L004_R1.fastq\n",
      "Approx 20% complete for filtered_106A_Male_Mix_TAGCTT_L004_R1.fastq.gz\n",
      "Approx 30% complete for filtered_106A_Female_Mix_GATCAG_L004_R1.fastq.gz\n",
      "Approx 25% complete for filtered_106A_Male_Mix_TAGCTT_L004_R1.fastq\n",
      "Approx 40% complete for filtered_106A_Female_Mix_GATCAG_L004_R1.fastq\n",
      "Approx 35% complete for filtered_106A_Female_Mix_GATCAG_L004_R1.fastq.gz\n",
      "Approx 25% complete for filtered_106A_Male_Mix_TAGCTT_L004_R1.fastq.gz\n",
      "Approx 45% complete for filtered_106A_Female_Mix_GATCAG_L004_R1.fastq\n",
      "Approx 30% complete for filtered_106A_Male_Mix_TAGCTT_L004_R1.fastq\n",
      "Approx 40% complete for filtered_106A_Female_Mix_GATCAG_L004_R1.fastq.gz\n",
      "Approx 50% complete for filtered_106A_Female_Mix_GATCAG_L004_R1.fastq\n",
      "Approx 35% complete for filtered_106A_Male_Mix_TAGCTT_L004_R1.fastq\n",
      "Approx 30% complete for filtered_106A_Male_Mix_TAGCTT_L004_R1.fastq.gz\n",
      "Approx 45% complete for filtered_106A_Female_Mix_GATCAG_L004_R1.fastq.gz\n",
      "Approx 55% complete for filtered_106A_Female_Mix_GATCAG_L004_R1.fastq\n",
      "Approx 50% complete for filtered_106A_Female_Mix_GATCAG_L004_R1.fastq.gz\n",
      "Approx 60% complete for filtered_106A_Female_Mix_GATCAG_L004_R1.fastq\n",
      "Approx 40% complete for filtered_106A_Male_Mix_TAGCTT_L004_R1.fastq\n",
      "Approx 35% complete for filtered_106A_Male_Mix_TAGCTT_L004_R1.fastq.gz\n",
      "Approx 55% complete for filtered_106A_Female_Mix_GATCAG_L004_R1.fastq.gz\n",
      "Approx 65% complete for filtered_106A_Female_Mix_GATCAG_L004_R1.fastq\n",
      "Approx 45% complete for filtered_106A_Male_Mix_TAGCTT_L004_R1.fastq\n",
      "Approx 70% complete for filtered_106A_Female_Mix_GATCAG_L004_R1.fastq\n",
      "Approx 40% complete for filtered_106A_Male_Mix_TAGCTT_L004_R1.fastq.gz\n",
      "Approx 60% complete for filtered_106A_Female_Mix_GATCAG_L004_R1.fastq.gz\n",
      "Approx 75% complete for filtered_106A_Female_Mix_GATCAG_L004_R1.fastq\n",
      "Approx 65% complete for filtered_106A_Female_Mix_GATCAG_L004_R1.fastq.gz\n",
      "Approx 50% complete for filtered_106A_Male_Mix_TAGCTT_L004_R1.fastq\n",
      "Approx 45% complete for filtered_106A_Male_Mix_TAGCTT_L004_R1.fastq.gz\n",
      "Approx 80% complete for filtered_106A_Female_Mix_GATCAG_L004_R1.fastq\n",
      "Approx 70% complete for filtered_106A_Female_Mix_GATCAG_L004_R1.fastq.gz\n",
      "Approx 55% complete for filtered_106A_Male_Mix_TAGCTT_L004_R1.fastq\n",
      "Approx 85% complete for filtered_106A_Female_Mix_GATCAG_L004_R1.fastq\n",
      "Approx 50% complete for filtered_106A_Male_Mix_TAGCTT_L004_R1.fastq.gz\n",
      "Approx 75% complete for filtered_106A_Female_Mix_GATCAG_L004_R1.fastq.gz\n",
      "Approx 90% complete for filtered_106A_Female_Mix_GATCAG_L004_R1.fastq\n",
      "Approx 60% complete for filtered_106A_Male_Mix_TAGCTT_L004_R1.fastq\n",
      "Approx 80% complete for filtered_106A_Female_Mix_GATCAG_L004_R1.fastq.gz\n",
      "Approx 95% complete for filtered_106A_Female_Mix_GATCAG_L004_R1.fastq\n",
      "Approx 55% complete for filtered_106A_Male_Mix_TAGCTT_L004_R1.fastq.gz\n",
      "Approx 65% complete for filtered_106A_Male_Mix_TAGCTT_L004_R1.fastq\n",
      "Approx 85% complete for filtered_106A_Female_Mix_GATCAG_L004_R1.fastq.gz\n",
      "Analysis complete for filtered_106A_Female_Mix_GATCAG_L004_R1.fastq\n",
      "Started analysis of filtered_108A_Female_Mix_GGCTAC_L004_R1.fastq\n",
      "Approx 60% complete for filtered_106A_Male_Mix_TAGCTT_L004_R1.fastq.gz\n",
      "Approx 90% complete for filtered_106A_Female_Mix_GATCAG_L004_R1.fastq.gz\n",
      "Approx 70% complete for filtered_106A_Male_Mix_TAGCTT_L004_R1.fastq\n",
      "Approx 95% complete for filtered_106A_Female_Mix_GATCAG_L004_R1.fastq.gz\n",
      "Approx 5% complete for filtered_108A_Female_Mix_GGCTAC_L004_R1.fastq\n",
      "Approx 65% complete for filtered_106A_Male_Mix_TAGCTT_L004_R1.fastq.gz\n",
      "Approx 75% complete for filtered_106A_Male_Mix_TAGCTT_L004_R1.fastq\n",
      "Analysis complete for filtered_106A_Female_Mix_GATCAG_L004_R1.fastq.gz\n",
      "Approx 10% complete for filtered_108A_Female_Mix_GGCTAC_L004_R1.fastq\n",
      "Started analysis of filtered_108A_Female_Mix_GGCTAC_L004_R1.fastq.gz\n",
      "Approx 70% complete for filtered_106A_Male_Mix_TAGCTT_L004_R1.fastq.gz\n",
      "Approx 80% complete for filtered_106A_Male_Mix_TAGCTT_L004_R1.fastq\n",
      "Approx 15% complete for filtered_108A_Female_Mix_GGCTAC_L004_R1.fastq\n",
      "Approx 5% complete for filtered_108A_Female_Mix_GGCTAC_L004_R1.fastq.gz\n",
      "Approx 75% complete for filtered_106A_Male_Mix_TAGCTT_L004_R1.fastq.gz\n",
      "Approx 85% complete for filtered_106A_Male_Mix_TAGCTT_L004_R1.fastq\n",
      "Approx 20% complete for filtered_108A_Female_Mix_GGCTAC_L004_R1.fastq\n",
      "Approx 10% complete for filtered_108A_Female_Mix_GGCTAC_L004_R1.fastq.gz\n",
      "Approx 25% complete for filtered_108A_Female_Mix_GGCTAC_L004_R1.fastq\n",
      "Approx 90% complete for filtered_106A_Male_Mix_TAGCTT_L004_R1.fastq\n",
      "Approx 80% complete for filtered_106A_Male_Mix_TAGCTT_L004_R1.fastq.gz\n",
      "Approx 15% complete for filtered_108A_Female_Mix_GGCTAC_L004_R1.fastq.gz\n",
      "Approx 30% complete for filtered_108A_Female_Mix_GGCTAC_L004_R1.fastq\n",
      "Approx 20% complete for filtered_108A_Female_Mix_GGCTAC_L004_R1.fastq.gz\n",
      "Approx 95% complete for filtered_106A_Male_Mix_TAGCTT_L004_R1.fastq\n",
      "Approx 85% complete for filtered_106A_Male_Mix_TAGCTT_L004_R1.fastq.gz\n",
      "Approx 35% complete for filtered_108A_Female_Mix_GGCTAC_L004_R1.fastq\n",
      "Approx 25% complete for filtered_108A_Female_Mix_GGCTAC_L004_R1.fastq.gz\n",
      "Analysis complete for filtered_106A_Male_Mix_TAGCTT_L004_R1.fastq\n",
      "Approx 90% complete for filtered_106A_Male_Mix_TAGCTT_L004_R1.fastq.gz\n",
      "Approx 40% complete for filtered_108A_Female_Mix_GGCTAC_L004_R1.fastq\n",
      "Started analysis of filtered_108A_Male_Mix_AGTCAA_L004_R1.fastq\n",
      "Approx 30% complete for filtered_108A_Female_Mix_GGCTAC_L004_R1.fastq.gz\n",
      "Approx 45% complete for filtered_108A_Female_Mix_GGCTAC_L004_R1.fastq\n",
      "Approx 95% complete for filtered_106A_Male_Mix_TAGCTT_L004_R1.fastq.gz\n",
      "Approx 5% complete for filtered_108A_Male_Mix_AGTCAA_L004_R1.fastq\n",
      "Approx 35% complete for filtered_108A_Female_Mix_GGCTAC_L004_R1.fastq.gz\n",
      "Approx 50% complete for filtered_108A_Female_Mix_GGCTAC_L004_R1.fastq\n",
      "Analysis complete for filtered_106A_Male_Mix_TAGCTT_L004_R1.fastq.gz\n",
      "Approx 40% complete for filtered_108A_Female_Mix_GGCTAC_L004_R1.fastq.gz\n",
      "Approx 10% complete for filtered_108A_Male_Mix_AGTCAA_L004_R1.fastq\n",
      "Started analysis of filtered_108A_Male_Mix_AGTCAA_L004_R1.fastq.gz\n",
      "Approx 55% complete for filtered_108A_Female_Mix_GGCTAC_L004_R1.fastq\n",
      "Approx 45% complete for filtered_108A_Female_Mix_GGCTAC_L004_R1.fastq.gz\n",
      "Approx 15% complete for filtered_108A_Male_Mix_AGTCAA_L004_R1.fastq\n",
      "Approx 5% complete for filtered_108A_Male_Mix_AGTCAA_L004_R1.fastq.gz\n",
      "Approx 60% complete for filtered_108A_Female_Mix_GGCTAC_L004_R1.fastq\n",
      "Approx 50% complete for filtered_108A_Female_Mix_GGCTAC_L004_R1.fastq.gz\n",
      "Approx 10% complete for filtered_108A_Male_Mix_AGTCAA_L004_R1.fastq.gz\n",
      "Approx 20% complete for filtered_108A_Male_Mix_AGTCAA_L004_R1.fastq\n",
      "Approx 55% complete for filtered_108A_Female_Mix_GGCTAC_L004_R1.fastq.gz\n",
      "Approx 65% complete for filtered_108A_Female_Mix_GGCTAC_L004_R1.fastq\n",
      "Approx 60% complete for filtered_108A_Female_Mix_GGCTAC_L004_R1.fastq.gz\n",
      "Approx 15% complete for filtered_108A_Male_Mix_AGTCAA_L004_R1.fastq.gz\n",
      "Approx 70% complete for filtered_108A_Female_Mix_GGCTAC_L004_R1.fastq\n",
      "Approx 25% complete for filtered_108A_Male_Mix_AGTCAA_L004_R1.fastq\n",
      "Approx 65% complete for filtered_108A_Female_Mix_GGCTAC_L004_R1.fastq.gz\n",
      "Approx 75% complete for filtered_108A_Female_Mix_GGCTAC_L004_R1.fastq\n",
      "Approx 20% complete for filtered_108A_Male_Mix_AGTCAA_L004_R1.fastq.gz\n",
      "Approx 30% complete for filtered_108A_Male_Mix_AGTCAA_L004_R1.fastq\n",
      "Approx 70% complete for filtered_108A_Female_Mix_GGCTAC_L004_R1.fastq.gz\n",
      "Approx 80% complete for filtered_108A_Female_Mix_GGCTAC_L004_R1.fastq\n",
      "Approx 25% complete for filtered_108A_Male_Mix_AGTCAA_L004_R1.fastq.gz\n",
      "Approx 35% complete for filtered_108A_Male_Mix_AGTCAA_L004_R1.fastq\n",
      "Approx 75% complete for filtered_108A_Female_Mix_GGCTAC_L004_R1.fastq.gz\n",
      "Approx 85% complete for filtered_108A_Female_Mix_GGCTAC_L004_R1.fastq\n",
      "Approx 30% complete for filtered_108A_Male_Mix_AGTCAA_L004_R1.fastq.gz\n",
      "Approx 40% complete for filtered_108A_Male_Mix_AGTCAA_L004_R1.fastq\n",
      "Approx 80% complete for filtered_108A_Female_Mix_GGCTAC_L004_R1.fastq.gz\n",
      "Approx 90% complete for filtered_108A_Female_Mix_GGCTAC_L004_R1.fastq\n",
      "Approx 35% complete for filtered_108A_Male_Mix_AGTCAA_L004_R1.fastq.gz\n",
      "Approx 85% complete for filtered_108A_Female_Mix_GGCTAC_L004_R1.fastq.gz\n",
      "Approx 45% complete for filtered_108A_Male_Mix_AGTCAA_L004_R1.fastq\n",
      "Approx 95% complete for filtered_108A_Female_Mix_GGCTAC_L004_R1.fastq\n",
      "Approx 90% complete for filtered_108A_Female_Mix_GGCTAC_L004_R1.fastq.gz\n",
      "Approx 40% complete for filtered_108A_Male_Mix_AGTCAA_L004_R1.fastq.gz\n",
      "Approx 50% complete for filtered_108A_Male_Mix_AGTCAA_L004_R1.fastq\n",
      "Analysis complete for filtered_108A_Female_Mix_GGCTAC_L004_R1.fastq\n",
      "Approx 95% complete for filtered_108A_Female_Mix_GGCTAC_L004_R1.fastq.gz\n",
      "Approx 55% complete for filtered_108A_Male_Mix_AGTCAA_L004_R1.fastq\n",
      "Approx 45% complete for filtered_108A_Male_Mix_AGTCAA_L004_R1.fastq.gz\n",
      "Analysis complete for filtered_108A_Female_Mix_GGCTAC_L004_R1.fastq.gz\n",
      "Approx 60% complete for filtered_108A_Male_Mix_AGTCAA_L004_R1.fastq\n",
      "Approx 50% complete for filtered_108A_Male_Mix_AGTCAA_L004_R1.fastq.gz\n",
      "Approx 55% complete for filtered_108A_Male_Mix_AGTCAA_L004_R1.fastq.gz\n",
      "Approx 65% complete for filtered_108A_Male_Mix_AGTCAA_L004_R1.fastq\n",
      "Approx 60% complete for filtered_108A_Male_Mix_AGTCAA_L004_R1.fastq.gz\n",
      "Approx 70% complete for filtered_108A_Male_Mix_AGTCAA_L004_R1.fastq\n",
      "Approx 65% complete for filtered_108A_Male_Mix_AGTCAA_L004_R1.fastq.gz\n",
      "Approx 75% complete for filtered_108A_Male_Mix_AGTCAA_L004_R1.fastq\n",
      "Approx 70% complete for filtered_108A_Male_Mix_AGTCAA_L004_R1.fastq.gz\n",
      "Approx 80% complete for filtered_108A_Male_Mix_AGTCAA_L004_R1.fastq\n",
      "Approx 75% complete for filtered_108A_Male_Mix_AGTCAA_L004_R1.fastq.gz\n",
      "Approx 85% complete for filtered_108A_Male_Mix_AGTCAA_L004_R1.fastq\n",
      "Approx 80% complete for filtered_108A_Male_Mix_AGTCAA_L004_R1.fastq.gz\n",
      "Approx 90% complete for filtered_108A_Male_Mix_AGTCAA_L004_R1.fastq\n",
      "Approx 85% complete for filtered_108A_Male_Mix_AGTCAA_L004_R1.fastq.gz\n",
      "Approx 95% complete for filtered_108A_Male_Mix_AGTCAA_L004_R1.fastq\n",
      "Approx 90% complete for filtered_108A_Male_Mix_AGTCAA_L004_R1.fastq.gz\n",
      "Analysis complete for filtered_108A_Male_Mix_AGTCAA_L004_R1.fastq\n",
      "Approx 95% complete for filtered_108A_Male_Mix_AGTCAA_L004_R1.fastq.gz\n",
      "Analysis complete for filtered_108A_Male_Mix_AGTCAA_L004_R1.fastq.gz\n"
     ]
    }
   ],
   "source": [
    "!/Applications/FastQC/fastqc \\\n",
    "/Users/yaaminivenkataraman/Documents/School/Year1/FISH-546/yaaminiv-fish546-2016/data/filtered_* \\\n",
    "-t 4 \\\n",
    "-o /Users/yaaminivenkataraman/Documents/School/Year1/FISH-546/yaaminiv-fish546-2016/analyses/oly_oa_gonad_FastQC_commandline "
   ]
  },
  {
   "cell_type": "markdown",
   "metadata": {},
   "source": [
    "I will now check that my specified output directory has the files from the FastQC analysis."
   ]
  },
  {
   "cell_type": "code",
   "execution_count": 3,
   "metadata": {
    "collapsed": false
   },
   "outputs": [
    {
     "name": "stdout",
     "output_type": "stream",
     "text": [
      "filtered_106A_Female_Mix_GATCAG_L004_R1_fastqc.html\r\n",
      "filtered_106A_Female_Mix_GATCAG_L004_R1_fastqc.zip\r\n",
      "filtered_106A_Male_Mix_TAGCTT_L004_R1_fastqc.html\r\n",
      "filtered_106A_Male_Mix_TAGCTT_L004_R1_fastqc.zip\r\n",
      "filtered_108A_Female_Mix_GGCTAC_L004_R1_fastqc.html\r\n",
      "filtered_108A_Female_Mix_GGCTAC_L004_R1_fastqc.zip\r\n",
      "filtered_108A_Male_Mix_AGTCAA_L004_R1_fastqc.html\r\n",
      "filtered_108A_Male_Mix_AGTCAA_L004_R1_fastqc.zip\r\n"
     ]
    }
   ],
   "source": [
    "!ls /Users/yaaminivenkataraman/Documents/School/Year1/FISH-546/yaaminiv-fish546-2016/analyses/oly_oa_gonad_FastQC_commandline "
   ]
  },
  {
   "cell_type": "markdown",
   "metadata": {},
   "source": [
    "All files are present.\n",
    "\n",
    "The FastQC reports provide detailed analyses of my `.fastq` files. My interpretation of these reports can be viewed [here](https://github.com/yaaminiv/yaaminiv-fish546-2016/blob/master/notebooks/2016-10-19-oly-gonad-OA-FASTQC-results.ipynb)."
   ]
  },
  {
   "cell_type": "markdown",
   "metadata": {},
   "source": [
    "### Comparing FastQC results with MultiQC"
   ]
  },
  {
   "cell_type": "markdown",
   "metadata": {},
   "source": [
    "The next step is to compare these reports in a MultiQC analysis. MultiQC compiles existing FastQC analyses for easy comparison. I exited my Jupyter Notebook and used the following code in Terminal to install MultiQC: `conda install -c bioconda multiqc`"
   ]
  },
  {
   "cell_type": "code",
   "execution_count": 4,
   "metadata": {
    "collapsed": false,
    "scrolled": true
   },
   "outputs": [
    {
     "name": "stdout",
     "output_type": "stream",
     "text": [
      "Usage: multiqc [OPTIONS] <analysis directory>\r\n",
      "\r\n",
      "  MultiQC aggregates results from bioinformatics analyses across many\r\n",
      "  samples into a single report.\r\n",
      "\r\n",
      "  It searches a given directory for analysis logs and compiles a HTML\r\n",
      "  report. It's a general use tool, perfect for summarising the output from\r\n",
      "  numerous bioinformatics tools.\r\n",
      "\r\n",
      "  To run, supply with one or more directory to scan for analysis results. To\r\n",
      "  run here, use 'multiqc .'\r\n",
      "\r\n",
      "  See http://multiqc.info for more details.\r\n",
      "\r\n",
      "  Author: Phil Ewels (http://phil.ewels.co.uk)\r\n",
      "\r\n",
      "Options:\r\n",
      "  -f, --force                     Overwrite any existing reports\r\n",
      "  -d, --dirs                      Prepend directory to sample names\r\n",
      "  -dd, --dirs-depth INTEGER       Prepend [INT] directories to sample names.\r\n",
      "                                  Negative number to take from start of path.\r\n",
      "  -s, --fullnames                 Do not clean the sample names (leave as full\r\n",
      "                                  file name)\r\n",
      "  -i, --title TEXT                Report title. Printed as page header, used\r\n",
      "                                  for filename if not otherwise specified.\r\n",
      "  -b, --comment TEXT              Custom comment, will be printed at the top\r\n",
      "                                  of the report.\r\n",
      "  -n, --filename TEXT             Report filename. Use 'stdout' to print to\r\n",
      "                                  standard out.\r\n",
      "  -o, --outdir TEXT               Create report in the specified output\r\n",
      "                                  directory.\r\n",
      "  -t, --template [default_dev|geo|default|simple]\r\n",
      "                                  Report template to use.\r\n",
      "  -x, --ignore TEXT               Ignore analysis files (glob expression)\r\n",
      "  -l, --file-list                 Supply a file containing a list of file\r\n",
      "                                  paths to be searched, one per row\r\n",
      "  -e, --exclude [module name]     Do not use this module. Can specify multiple\r\n",
      "                                  times.\r\n",
      "  -m, --module [module name]      Use only this module. Can specify multiple\r\n",
      "                                  times.\r\n",
      "  --data-dir                      Force the parsed data directory to be\r\n",
      "                                  created.\r\n",
      "  --no-data-dir                   Prevent the parsed data directory from being\r\n",
      "                                  created.\r\n",
      "  -k, --data-format [tsv|yaml|json]\r\n",
      "                                  Output parsed data in a different format.\r\n",
      "                                  Default: tsv\r\n",
      "  -z, --zip-data-dir              Compress the data directory.\r\n",
      "  -p, --export                    Export plots as static images in addition to\r\n",
      "                                  the report\r\n",
      "  -fp, --flat                     Use only flat plots (static images)\r\n",
      "  -ip, --interactive              Use only interactive plots (HighCharts\r\n",
      "                                  Javascript)\r\n",
      "  --pdf                           Creates PDF report with 'simple' template.\r\n",
      "                                  Requires Pandoc to be installed.\r\n",
      "  -c, --config PATH               Specific config file to load, after those in\r\n",
      "                                  MultiQC dir / home dir / working dir.\r\n",
      "  -v, --verbose                   Increase output verbosity.\r\n",
      "  -q, --quiet                     Only show log warnings\r\n",
      "  --version                       Show the version and exit.\r\n",
      "  -h, --help                      Show this message and exit.\r\n"
     ]
    }
   ],
   "source": [
    "!/anaconda/bin/multiqc -help"
   ]
  },
  {
   "cell_type": "markdown",
   "metadata": {},
   "source": [
    "To use MultiQC, I will specify:\n",
    "\n",
    "1. Location of multiqc on my computer + directory with output from FastQC analyses\n",
    "2. Specified MultiQC output directory"
   ]
  },
  {
   "cell_type": "code",
   "execution_count": 7,
   "metadata": {
    "collapsed": false
   },
   "outputs": [
    {
     "name": "stdout",
     "output_type": "stream",
     "text": [
      "[INFO   ]         multiqc : This is MultiQC v0.8\n",
      "[INFO   ]         multiqc : Template    : default\n",
      "[INFO   ]         multiqc : Searching '/Users/yaaminivenkataraman/Documents/School/Year1/FISH-546/yaaminiv-fish546-2016/analyses/oly_oa_gonad_FastQC_commandline'\n",
      "[INFO   ]         multiqc : Searching '/Users/yaaminivenkataraman/Documents/School/Year1/FISH-546/yaaminiv-fish546-2016/analyses/oly_oa_gonad_MultiQC'\n",
      "[INFO   ]          fastqc : Found 4 reports\n",
      "[INFO   ]         multiqc : Report      : multiqc_report.html\n",
      "[INFO   ]         multiqc : Data        : multiqc_data\n",
      "[INFO   ]         multiqc : MultiQC complete\n"
     ]
    }
   ],
   "source": [
    "!/anaconda/bin/multiqc /Users/yaaminivenkataraman/Documents/School/Year1/FISH-546/yaaminiv-fish546-2016/analyses/oly_oa_gonad_FastQC_commandline \\\n",
    "> --outdir /Users/yaaminivenkataraman/Documents/School/Year1/FISH-546/yaaminiv-fish546-2016/analyses/oly_oa_gonad_MultiQC"
   ]
  },
  {
   "cell_type": "markdown",
   "metadata": {},
   "source": [
    "The results of the MultiQC analysis can be viewed [here](http://htmlpreview.github.io/?https://github.com/yaaminiv/yaaminiv-fish546-2016/blob/master/analyses/oly_oa_gonad_MultiQC/multiqc_report.html).\n",
    "\n",
    "In terms of General Statistics, more than 50% of each sample has duplicated sequences, with greater than 40% GC content. Both male samples have higher total sequences (millions) than female samples. Additionally, both male samples have higher per sequence quality scores than their female counterparts. All samples failed the per base sequence content test. Only the 106A_Male_Mix specimen passed the per sequence GC content test, with others having warnings of higher-than-expected per sequence GC content. Sequence duplication levels were unsatisfactory for all four samples."
   ]
  },
  {
   "cell_type": "markdown",
   "metadata": {},
   "source": [
    "FastQC sequence duplication results indicate that there are several TruSeq Adapter sequences still present in the data. The next steps are to trim out adapter sequences, and rerun these trimmed sequences against FastQC."
   ]
  },
  {
   "cell_type": "markdown",
   "metadata": {},
   "source": [
    "# 3. Improving Sequence Quality"
   ]
  },
  {
   "cell_type": "markdown",
   "metadata": {},
   "source": [
    "### Trimming Adapter Sequences"
   ]
  },
  {
   "cell_type": "markdown",
   "metadata": {
    "collapsed": true
   },
   "source": [
    "To trim my adapter sequences, I will use the [Trim Galore!](http://www.bioinformatics.babraham.ac.uk/projects/trim_galore/) program, v0.4.2 downloaded on 2016-10-28. Trim Galore! is programmed to cut standard adapters from Illumina, Small RNA and Nextera. Because my adapters are Illumina adapters (TruSeq), this program should be able to autodetect my adapter sequences. "
   ]
  },
  {
   "cell_type": "code",
   "execution_count": 1,
   "metadata": {
    "collapsed": false
   },
   "outputs": [
    {
     "name": "stdout",
     "output_type": "stream",
     "text": [
      "\r\n",
      " USAGE:\r\n",
      "\r\n",
      "trim_galore [options] <filename(s)>\r\n",
      "\r\n",
      "\r\n",
      "-h/--help               Print this help message and exits.\r\n",
      "\r\n",
      "-v/--version            Print the version information and exits.\r\n",
      "\r\n",
      "-q/--quality <INT>      Trim low-quality ends from reads in addition to adapter removal. For\r\n",
      "                        RRBS samples, quality trimming will be performed first, and adapter\r\n",
      "                        trimming is carried in a second round. Other files are quality and adapter\r\n",
      "                        trimmed in a single pass. The algorithm is the same as the one used by BWA\r\n",
      "                        (Subtract INT from all qualities; compute partial sums from all indices\r\n",
      "                        to the end of the sequence; cut sequence at the index at which the sum is\r\n",
      "                        minimal). Default Phred score: 20.\r\n",
      "\r\n",
      "--phred33               Instructs Cutadapt to use ASCII+33 quality scores as Phred scores\r\n",
      "                        (Sanger/Illumina 1.9+ encoding) for quality trimming. Default: ON.\r\n",
      "\r\n",
      "--phred64               Instructs Cutadapt to use ASCII+64 quality scores as Phred scores\r\n",
      "                        (Illumina 1.5 encoding) for quality trimming.\r\n",
      "\r\n",
      "--fastqc                Run FastQC in the default mode on the FastQ file once trimming is complete.\r\n",
      "\r\n",
      "--fastqc_args \"<ARGS>\"  Passes extra arguments to FastQC. If more than one argument is to be passed\r\n",
      "                        to FastQC they must be in the form \"arg1 arg2 etc.\". An example would be:\r\n",
      "                        --fastqc_args \"--nogroup --outdir /home/\". Passing extra arguments will\r\n",
      "                        automatically invoke FastQC, so --fastqc does not have to be specified\r\n",
      "                        separately.\r\n",
      "\r\n",
      "-a/--adapter <STRING>   Adapter sequence to be trimmed. If not specified explicitly, Trim Galore will\r\n",
      "                        try to auto-detect whether the Illumina universal, Nextera transposase or Illumina\r\n",
      "                        small RNA adapter sequence was used. Also see '--illumina', '--nextera' and\r\n",
      "                        '--small_rna'. If no adapter can be detected within the first 1 million sequences\r\n",
      "                        of the first file specified Trim Galore defaults to '--illumina'.\r\n",
      "\r\n",
      "-a2/--adapter2 <STRING> Optional adapter sequence to be trimmed off read 2 of paired-end files. This\r\n",
      "                        option requires '--paired' to be specified as well. If the libraries to be trimmed\r\n",
      "                        are smallRNA then a2 will be set to the Illumina small RNA 5' adapter automatically\r\n",
      "                        (GATCGTCGGACT).\r\n",
      "\r\n",
      "--illumina              Adapter sequence to be trimmed is the first 13bp of the Illumina universal adapter\r\n",
      "                        'AGATCGGAAGAGC' instead of the default auto-detection of adapter sequence.\r\n",
      "\r\n",
      "--nextera               Adapter sequence to be trimmed is the first 12bp of the Nextera adapter\r\n",
      "                        'CTGTCTCTTATA' instead of the default auto-detection of adapter sequence.\r\n",
      "\r\n",
      "--small_rna             Adapter sequence to be trimmed is the first 12bp of the Illumina Small RNA 3' Adapter\r\n",
      "                        'TGGAATTCTCGG' instead of the default auto-detection of adapter sequence. Selecting\r\n",
      "                        to trim smallRNA adapters will also lower the --length value to 18bp. If the smallRNA\r\n",
      "                        libraries are paired-end then a2 will be set to the Illumina small RNA 5' adapter\r\n",
      "                        automatically (GATCGTCGGACT) unless -a 2 had been defined explicitly.\r\n",
      "\r\n",
      "--max_length <INT>      Discard reads that are longer than <INT> bp after trimming. This is only advised for\r\n",
      "                        smallRNA sequencing to remove non-small RNA sequences.\r\n",
      "\r\n",
      "\r\n",
      "--stringency <INT>      Overlap with adapter sequence required to trim a sequence. Defaults to a\r\n",
      "                        very stringent setting of 1, i.e. even a single bp of overlapping sequence\r\n",
      "                        will be trimmed off from the 3' end of any read.\r\n",
      "\r\n",
      "-e <ERROR RATE>         Maximum allowed error rate (no. of errors divided by the length of the matching\r\n",
      "                        region) (default: 0.1)\r\n",
      "\r\n",
      "--gzip                  Compress the output file with GZIP. If the input files are GZIP-compressed\r\n",
      "                        the output files will automatically be GZIP compressed as well. As of v0.2.8 the\r\n",
      "                        compression will take place on the fly.\r\n",
      "\r\n",
      "--dont_gzip             Output files won't be compressed with GZIP. This option overrides --gzip.\r\n",
      "\r\n",
      "--length <INT>          Discard reads that became shorter than length INT because of either\r\n",
      "                        quality or adapter trimming. A value of '0' effectively disables\r\n",
      "                        this behaviour. Default: 20 bp.\r\n",
      "\r\n",
      "                        For paired-end files, both reads of a read-pair need to be longer than\r\n",
      "                        <INT> bp to be printed out to validated paired-end files (see option --paired).\r\n",
      "                        If only one read became too short there is the possibility of keeping such\r\n",
      "                        unpaired single-end reads (see --retain_unpaired). Default pair-cutoff: 20 bp.\r\n",
      "\r\n",
      "--max_n COUNT           The total number of Ns (as integer) a read may contain before it will be removed altogether.\r\n",
      "                        In a paired-end setting, either read exceeding this limit will result in the entire\r\n",
      "                        pair being removed from the trimmed output files.\r\n",
      "\r\n",
      "--trim-n                Removes Ns from either side of the read. This option does currently not work in RRBS mode.\r\n",
      "\r\n",
      "-o/--output_dir <DIR>   If specified all output will be written to this directory instead of the current\r\n",
      "                        directory.\r\n",
      "\r\n",
      "--no_report_file        If specified no report file will be generated.\r\n",
      "\r\n",
      "--suppress_warn         If specified any output to STDOUT or STDERR will be suppressed.\r\n",
      "\r\n",
      "--clip_R1 <int>         Instructs Trim Galore to remove <int> bp from the 5' end of read 1 (or single-end\r\n",
      "                        reads). This may be useful if the qualities were very poor, or if there is some\r\n",
      "                        sort of unwanted bias at the 5' end. Default: OFF.\r\n",
      "\r\n",
      "--clip_R2 <int>         Instructs Trim Galore to remove <int> bp from the 5' end of read 2 (paired-end reads\r\n",
      "                        only). This may be useful if the qualities were very poor, or if there is some sort\r\n",
      "                        of unwanted bias at the 5' end. For paired-end BS-Seq, it is recommended to remove\r\n",
      "                        the first few bp because the end-repair reaction may introduce a bias towards low\r\n",
      "                        methylation. Please refer to the M-bias plot section in the Bismark User Guide for\r\n",
      "                        some examples. Default: OFF.\r\n",
      "\r\n",
      "--three_prime_clip_R1 <int>     Instructs Trim Galore to remove <int> bp from the 3' end of read 1 (or single-end\r\n",
      "                        reads) AFTER adapter/quality trimming has been performed. This may remove some unwanted\r\n",
      "                        bias from the 3' end that is not directly related to adapter sequence or basecall quality.\r\n",
      "                        Default: OFF.\r\n",
      "\r\n",
      "--three_prime_clip_R2 <int>     Instructs Trim Galore to remove <int> bp from the 3' end of read 2 AFTER\r\n",
      "                        adapter/quality trimming has been performed. This may remove some unwanted bias from\r\n",
      "                        the 3' end that is not directly related to adapter sequence or basecall quality.\r\n",
      "                        Default: OFF.\r\n",
      "\r\n",
      "--path_to_cutadapt </path/to/cutadapt>     You may use this option to specify a path to the Cutadapt executable,\r\n",
      "                        e.g. /my/home/cutadapt-1.7.1/bin/cutadapt. Else it is assumed that Cutadapt is in\r\n",
      "                        the PATH.\r\n",
      "\r\n",
      "\r\n",
      "RRBS-specific options (MspI digested material):\r\n",
      "\r\n",
      "--rrbs                  Specifies that the input file was an MspI digested RRBS sample (recognition\r\n",
      "                        site: CCGG). Sequences which were adapter-trimmed will have a further 2 bp\r\n",
      "                        removed from their 3' end. This is to avoid that the filled-in C close to the\r\n",
      "                        second MspI site in a sequence is used for methylation calls. Sequences which\r\n",
      "                        were merely trimmed because of poor quality will not be shortened further.\r\n",
      "                        This option is not recommended for users of the NuGEN ovation RRBS System 1-16\r\n",
      "                        kit (see below).\r\n",
      "\r\n",
      "--non_directional       Selecting this option for non-directional RRBS libraries will screen\r\n",
      "                        quality-trimmed sequences for 'CAA' or 'CGA' at the start of the read\r\n",
      "                        and, if found, removes the first two basepairs. Like with the option\r\n",
      "                        '--rrbs' this avoids using cytosine positions that were filled-in\r\n",
      "                        during the end-repair step. '--non_directional' requires '--rrbs' to\r\n",
      "                        be specified as well.\r\n",
      "\r\n",
      "--keep                  Keep the quality trimmed intermediate file. Default: off, which means\r\n",
      "                        the temporary file is being deleted after adapter trimming. Only has\r\n",
      "                        an effect for RRBS samples since other FastQ files are not trimmed\r\n",
      "                        for poor qualities separately.\r\n",
      "\r\n",
      "\r\n",
      "Note for RRBS using the NuGEN Ovation RRBS System 1-16 kit:\r\n",
      "\r\n",
      "Owing to the fact that the NuGEN Ovation kit attaches a varying number of nucleotides (0-3) after each MspI\r\n",
      "site Trim Galore should be run WITHOUT the option --rrbs. This trimming is accomplished in a subsequent \r\n",
      "diversity trimming step afterwards (see their manual).\r\n",
      "\r\n",
      "\r\n",
      "\r\n",
      "Note for RRBS using MseI:\r\n",
      "\r\n",
      "If your DNA material was digested with MseI (recognition motif: TTAA) instead of MspI it is NOT necessary\r\n",
      "to specify --rrbs or --non_directional since virtually all reads should start with the sequence\r\n",
      "'TAA', and this holds true for both directional and non-directional libraries. As the end-repair of 'TAA'\r\n",
      "restricted sites does not involve any cytosines it does not need to be treated especially. Instead, simply\r\n",
      "run Trim Galore! in the standard (i.e. non-RRBS) mode.\r\n",
      "\r\n",
      "\r\n",
      "\r\n",
      "\r\n",
      "Paired-end specific options:\r\n",
      "\r\n",
      "--paired                This option performs length trimming of quality/adapter/RRBS trimmed reads for\r\n",
      "                        paired-end files. To pass the validation test, both sequences of a sequence pair\r\n",
      "                        are required to have a certain minimum length which is governed by the option\r\n",
      "                        --length (see above). If only one read passes this length threshold the\r\n",
      "                        other read can be rescued (see option --retain_unpaired). Using this option lets\r\n",
      "                        you discard too short read pairs without disturbing the sequence-by-sequence order\r\n",
      "                        of FastQ files which is required by many aligners.\r\n",
      "\r\n",
      "                        Trim Galore! expects paired-end files to be supplied in a pairwise fashion, e.g.\r\n",
      "                        file1_1.fq file1_2.fq SRR2_1.fq.gz SRR2_2.fq.gz ... .\r\n",
      "\r\n",
      "-t/--trim1              Trims 1 bp off every read from its 3' end. This may be needed for FastQ files that\r\n",
      "                        are to be aligned as paired-end data with Bowtie. This is because Bowtie (1) regards\r\n",
      "                        alignments like this:\r\n",
      "\r\n",
      "                          R1 --------------------------->     or this:    ----------------------->  R1\r\n",
      "                          R2 <---------------------------                       <-----------------  R2\r\n",
      "\r\n",
      "                        as invalid (whenever a start/end coordinate is contained within the other read).\r\n",
      "\r\n",
      "--retain_unpaired       If only one of the two paired-end reads became too short, the longer\r\n",
      "                        read will be written to either '.unpaired_1.fq' or '.unpaired_2.fq'\r\n",
      "                        output files. The length cutoff for unpaired single-end reads is\r\n",
      "                        governed by the parameters -r1/--length_1 and -r2/--length_2. Default: OFF.\r\n",
      "\r\n",
      "-r1/--length_1 <INT>    Unpaired single-end read length cutoff needed for read 1 to be written to\r\n",
      "                        '.unpaired_1.fq' output file. These reads may be mapped in single-end mode.\r\n",
      "                        Default: 35 bp.\r\n",
      "\r\n",
      "-r2/--length_2 <INT>    Unpaired single-end read length cutoff needed for read 2 to be written to\r\n",
      "                        '.unpaired_2.fq' output file. These reads may be mapped in single-end mode.\r\n",
      "                        Default: 35 bp.\r\n",
      "\r\n",
      "\r\n",
      "Last modified on 03 August 2016.\r\n",
      "\r\n"
     ]
    }
   ],
   "source": [
    "!/Applications/trim_galore_v0.4.2/trim_galore -help"
   ]
  },
  {
   "cell_type": "markdown",
   "metadata": {},
   "source": [
    "The code for `trim_galore` includes the following arguments:\n",
    "\n",
    "1. The application's path\n",
    "2. Include trimming for paired end files\n",
    "3. Keep any unpaired reads\n",
    "4. Path to the program `cutadapt`. I will also use cutadapt-v1.11, downloaded on 2016-10-28.\n",
    "5. Directory I want the output to write to.\n",
    "6. A list of the files I want to trim. I could have used a wildcard to specify the files, but I manually put all of the file paths in to ensure that the exact files I wanted would get trimmed.\n",
    "\n",
    "I could also include the `-fastqc` argument to automatically run the FastQC program on my output files, but I will choose to do this in a separate step so the results are clearer."
   ]
  },
  {
   "cell_type": "code",
   "execution_count": 12,
   "metadata": {
    "collapsed": false
   },
   "outputs": [
    {
     "name": "stdout",
     "output_type": "stream",
     "text": [
      "No quality encoding type selected. Assuming that the data provided uses Sanger encoded Phred scores (default)\n",
      "\n",
      "Path to Cutadapt set as: '/Applications/cutadapt-1.11/bin/cutadapt' (user defined)\n",
      "Traceback (most recent call last):\n",
      "  File \"/Applications/cutadapt-1.11/bin/cutadapt\", line 9, in <module>\n",
      "    from cutadapt.scripts import cutadapt\n",
      "  File \"/Applications/cutadapt-1.11/cutadapt/scripts/cutadapt.py\", line 62, in <module>\n",
      "    check_importability()\n",
      "  File \"/Applications/cutadapt-1.11/cutadapt/__init__.py\", line 11, in check_importability\n",
      "    import cutadapt._align\n",
      "ImportError: No module named 'cutadapt._align'\n",
      "Cutadapt seems to be working fine (tested command '/Applications/cutadapt-1.11/bin/cutadapt --version')\n",
      "Traceback (most recent call last):\n",
      "  File \"/Applications/cutadapt-1.11/bin/cutadapt\", line 9, in <module>\n",
      "    from cutadapt.scripts import cutadapt\n",
      "  File \"/Applications/cutadapt-1.11/cutadapt/scripts/cutadapt.py\", line 62, in <module>\n",
      "    check_importability()\n",
      "  File \"/Applications/cutadapt-1.11/cutadapt/__init__.py\", line 11, in check_importability\n",
      "    import cutadapt._align\n",
      "ImportError: No module named 'cutadapt._align'\n",
      "\n",
      "\n",
      "AUTO-DETECTING ADAPTER TYPE\n",
      "===========================\n",
      "Attempting to auto-detect adapter type from the first 1 million sequences of the first file (>> /Users/yaaminivenkataraman/Documents/School/Year1/FISH-546/yaaminiv-fish546-2016/data/filtered_106A_Female_Mix_GATCAG_L004_R1.fastq <<)\n",
      "\n",
      "Found perfect matches for the following adapter sequences:\n",
      "Adapter type\tCount\tSequence\tSequences analysed\tPercentage\n",
      "Illumina\t5712\tAGATCGGAAGAGC\t1000000\t0.57\n",
      "Nextera\t3\tCTGTCTCTTATA\t1000000\t0.00\n",
      "smallRNA\t1\tTGGAATTCTCGG\t1000000\t0.00\n",
      "Using Illumina adapter for trimming (count: 5712). Second best hit was Nextera (count: 3)\n",
      "\n",
      "Writing report to '/Users/yaaminivenkataraman/Documents/School/Year1/FISH-546/yaaminiv-fish546-2016/data/filtered_106A_Female_Mix_GATCAG_L004_R1.fastq_trimming_report.txt'\n",
      "\n",
      "SUMMARISING RUN PARAMETERS\n",
      "==========================\n",
      "Input filename: /Users/yaaminivenkataraman/Documents/School/Year1/FISH-546/yaaminiv-fish546-2016/data/filtered_106A_Female_Mix_GATCAG_L004_R1.fastq\n",
      "Trimming mode: paired-end\n",
      "Trim Galore version: 0.4.2\n",
      "Cutadapt version: \n",
      "Quality Phred score cutoff: 20\n",
      "Quality encoding type selected: ASCII+33\n",
      "Adapter sequence: 'AGATCGGAAGAGC' (Illumina TruSeq, Sanger iPCR; auto-detected)\n",
      "Maximum trimming error rate: 0.1 (default)\n",
      "Minimum required adapter overlap (stringency): 1 bp\n",
      "Minimum required sequence length for both reads before a sequence pair gets removed: 20 bp\n",
      "Length cut-off for read 1: 35 bp (default)\n",
      "Length cut-off for read 2: 35 bb (default)\n",
      "\n",
      "Writing final adapter and quality trimmed output to filtered_106A_Female_Mix_GATCAG_L004_R1_trimmed.fq\n",
      "\n",
      "\n",
      "  >>> Now performing quality (cutoff 20) and adapter trimming in a single pass for the adapter sequence: 'AGATCGGAAGAGC' from file /Users/yaaminivenkataraman/Documents/School/Year1/FISH-546/yaaminiv-fish546-2016/data/filtered_106A_Female_Mix_GATCAG_L004_R1.fastq <<< \n",
      "Traceback (most recent call last):\n",
      "  File \"/Applications/cutadapt-1.11/bin/cutadapt\", line 9, in <module>\n",
      "    from cutadapt.scripts import cutadapt\n",
      "  File \"/Applications/cutadapt-1.11/cutadapt/scripts/cutadapt.py\", line 62, in <module>\n",
      "    check_importability()\n",
      "  File \"/Applications/cutadapt-1.11/cutadapt/__init__.py\", line 11, in check_importability\n",
      "    import cutadapt._align\n",
      "ImportError: No module named 'cutadapt._align'\n",
      "\n",
      "\n",
      "Cutadapt terminated with exit signal: '256'.\n",
      "Terminating Trim Galore run, please check error message(s) to get an idea what went wrong...\n",
      "\n"
     ]
    }
   ],
   "source": [
    "!/Applications/trim_galore_v0.4.2/trim_galore \\\n",
    "--paired \\\n",
    "--retain_unpaired \\\n",
    "--path_to_cutadapt /Applications/cutadapt-1.11/bin/cutadapt \\\n",
    "--output_dir /Users/yaaminivenkataraman/Documents/School/Year1/FISH-546/yaaminiv-fish546-2016/data \\\n",
    "/Users/yaaminivenkataraman/Documents/School/Year1/FISH-546/yaaminiv-fish546-2016/data/filtered_106A_Female_Mix_GATCAG_L004_R1.fastq \\\n",
    "/Users/yaaminivenkataraman/Documents/School/Year1/FISH-546/yaaminiv-fish546-2016/data/filtered_106A_Male_Mix_TAGCTT_L004_R1.fastq \\\n",
    "/Users/yaaminivenkataraman/Documents/School/Year1/FISH-546/yaaminiv-fish546-2016/data/filtered_108A_Female_Mix_GGCTAC_L004_R1.fastq \\\n",
    "/Users/yaaminivenkataraman/Documents/School/Year1/FISH-546/yaaminiv-fish546-2016/data/filtered_108A_Male_Mix_AGTCAA_L004_R1.fastq"
   ]
  },
  {
   "cell_type": "markdown",
   "metadata": {},
   "source": [
    "### Rerunning FastQC"
   ]
  },
  {
   "cell_type": "markdown",
   "metadata": {},
   "source": [
    "Now that I've trimmed the adapter sequences from my files, I wil rerun FastQC."
   ]
  },
  {
   "cell_type": "code",
   "execution_count": null,
   "metadata": {
    "collapsed": true
   },
   "outputs": [],
   "source": []
  }
 ],
 "metadata": {
  "anaconda-cloud": {},
  "kernelspec": {
   "display_name": "Python [default]",
   "language": "python",
   "name": "python3"
  },
  "language_info": {
   "codemirror_mode": {
    "name": "ipython",
    "version": 3
   },
   "file_extension": ".py",
   "mimetype": "text/x-python",
   "name": "python",
   "nbconvert_exporter": "python",
   "pygments_lexer": "ipython3",
   "version": "3.5.2"
  }
 },
 "nbformat": 4,
 "nbformat_minor": 1
}
