{
 "cells": [
  {
   "cell_type": "markdown",
   "metadata": {},
   "source": [
    "# Downloading *O. lurida* transcriptome data"
   ]
  },
  {
   "cell_type": "markdown",
   "metadata": {},
   "source": [
    "My data has four specific seq ids:\n",
    "\n",
    "1. filtered_106A_Female_Mix_GATCAG_L004\n",
    "2. filtered_106A_Male_Mix_TAGCTT_L004\n",
    "3. filtered_108A_Female_Mix_GGCTAC_L004\n",
    "4. filtered_108A_Male_Mix_AGTCAA_L004\n",
    "\n",
    "I will download all four components."
   ]
  },
  {
   "cell_type": "code",
   "execution_count": 1,
   "metadata": {
    "collapsed": false
   },
   "outputs": [
    {
     "data": {
      "text/plain": [
       "'/Users/yaaminivenkataraman/Documents/School/Year1/FISH-546/yaaminiv-fish546-2016/notebooks'"
      ]
     },
     "execution_count": 1,
     "metadata": {},
     "output_type": "execute_result"
    }
   ],
   "source": [
    "pwd"
   ]
  },
  {
   "cell_type": "markdown",
   "metadata": {},
   "source": [
    "### Downloading data using `!curl` and then redirecting it"
   ]
  },
  {
   "cell_type": "markdown",
   "metadata": {},
   "source": [
    "**Component 1**: filtered_106A_Female_Mix_GATCAG_L004"
   ]
  },
  {
   "cell_type": "code",
   "execution_count": 1,
   "metadata": {
    "collapsed": false
   },
   "outputs": [
    {
     "name": "stdout",
     "output_type": "stream",
     "text": [
      "  % Total    % Received % Xferd  Average Speed   Time    Time     Time  Current\n",
      "                                 Dload  Upload   Total   Spent    Left  Speed\n",
      "100 2619M  100 2619M    0     0  9420k      0  0:04:44  0:04:44 --:--:-- 16.1M\n"
     ]
    }
   ],
   "source": [
    "!curl http://owl.fish.washington.edu/nightingales/O_lurida/filtered_106A_Female_Mix_GATCAG_L004_R1.fastq.gz \\\n",
    "> /../data/filtered_106A_Female_Mix_GATCAG_L004_R1.fastq.gz"
   ]
  },
  {
   "cell_type": "markdown",
   "metadata": {},
   "source": [
    "Manually unzipped file on my computer. Using this unzipped version for `!head` command"
   ]
  },
  {
   "cell_type": "code",
   "execution_count": 2,
   "metadata": {
    "collapsed": false
   },
   "outputs": [
    {
     "name": "stdout",
     "output_type": "stream",
     "text": [
      "@HWI-ST700693:263:C0K6DACXX:4:1101:1464:1969\r\n",
      "NTTCATGAAGGGGTCAACCAGAATGATCTCGTAAAACTTGTAAGATGAATCCTGTGCCACCCAGTAAGAGCTTAGC\r\n",
      "+\r\n",
      "#4=DDDDDHFFHHGGABHIICBGH<E@FHIIGEGIIIIIIIDGGIIGEIIIIIIIIIIGIGGI9=D@CECEEF@CC\r\n",
      "@HWI-ST700693:263:C0K6DACXX:4:1101:1506:1985\r\n",
      "NCCTGATTGAAAACAAAATGTCTTTGTTTTTTCTACTTTGTATGGATCAATCAATCTTATTTGTTCCTGTAGAGAT\r\n",
      "+\r\n",
      "#1=DDFFFHHHHHJJJJJIGFHHJIIIIJJJJIIJIJJJJIJJFEGJIIIIHIGIJJEHIJJJGAGHJJIIIHGD;\r\n",
      "@HWI-ST700693:263:C0K6DACXX:4:1101:1882:1979\r\n",
      "NGGGACTCTAACGAGAACCTTCCGTCATCTGGCTCTGGACATAACCATGGTTAACAAGAACACTGTCATGGTGGAG\r\n"
     ]
    }
   ],
   "source": [
    "!head /../data/filtered_106A_Female_Mix_GATCAG_L004_R1.fastq"
   ]
  },
  {
   "cell_type": "markdown",
   "metadata": {},
   "source": [
    "**Component 2**: filtered_106A_Male_Mix_TAGCTT_L004"
   ]
  },
  {
   "cell_type": "code",
   "execution_count": 3,
   "metadata": {
    "collapsed": false
   },
   "outputs": [
    {
     "name": "stdout",
     "output_type": "stream",
     "text": [
      "  % Total    % Received % Xferd  Average Speed   Time    Time     Time  Current\n",
      "                                 Dload  Upload   Total   Spent    Left  Speed\n",
      "100 3949M  100 3949M    0     0  9967k      0  0:06:45  0:06:45 --:--:-- 15.0M\n"
     ]
    }
   ],
   "source": [
    "!curl http://owl.fish.washington.edu/nightingales/O_lurida/filtered_106A_Male_Mix_TAGCTT_L004_R1.fastq.gz \\\n",
    "> /../data/filtered_106A_Male_Mix_TAGCTT_L004_R1.fastq.gz"
   ]
  },
  {
   "cell_type": "code",
   "execution_count": 7,
   "metadata": {
    "collapsed": false
   },
   "outputs": [
    {
     "name": "stdout",
     "output_type": "stream",
     "text": [
      "@HWI-ST700693:263:C0K6DACXX:4:1101:1408:1981\r\n",
      "NTCCGAACTACCACCCCACGGGAAGGAGCATGTGAAGACATGAATCGATACTGCGATTATTGGGCGGAGCAGGGCT\r\n",
      "+\r\n",
      "#1=DBDDDBFFHDHIIIEIIFGIIEDBFHCFFGHIGHD;CBFFC482C@D>GHCAE??;@@@3=;>=0;B<?B###\r\n",
      "@HWI-ST700693:263:C0K6DACXX:4:1101:1626:1980\r\n",
      "NTGATCCAGAAAAAAAACTGCTTATGGTAACATAGGAATGTTTTATGCTATACTAAATATTGGATTTCTGGGCTTC\r\n",
      "+\r\n",
      "#1=DDDDDDF;?FHIAEHCHICCFHG>B@@@GCHIGGHC<?FGGGHGE=B@AFHFGGGIIIDGCEHBAE);>?CA@\r\n",
      "@HWI-ST700693:263:C0K6DACXX:4:1101:1648:1985\r\n",
      "NGAAAACATGTACCAAGGGCAGTTTTTGTGGACCTGGAGCCAACTGTTGTTGATGAAGTCCGCACTGGTACTTATC\r\n"
     ]
    }
   ],
   "source": [
    "!head /../data/filtered_106A_Male_Mix_TAGCTT_L004_R1.fastq"
   ]
  },
  {
   "cell_type": "markdown",
   "metadata": {},
   "source": [
    "**Component 3**: filtered_108A_Female_Mix_GGCTAC_L004"
   ]
  },
  {
   "cell_type": "code",
   "execution_count": 5,
   "metadata": {
    "collapsed": false
   },
   "outputs": [
    {
     "name": "stdout",
     "output_type": "stream",
     "text": [
      "  % Total    % Received % Xferd  Average Speed   Time    Time     Time  Current\n",
      "                                 Dload  Upload   Total   Spent    Left  Speed\n",
      "100 3036M  100 3036M    0     0  8172k      0  0:06:20  0:06:20 --:--:-- 2908k\n"
     ]
    }
   ],
   "source": [
    "!curl http://owl.fish.washington.edu/nightingales/O_lurida/filtered_108A_Female_Mix_GGCTAC_L004_R1.fastq.gz \\\n",
    "> /../data/filtered_108A_Female_Mix_GGCTAC_L004_R1.fastq.gz"
   ]
  },
  {
   "cell_type": "code",
   "execution_count": 8,
   "metadata": {
    "collapsed": false
   },
   "outputs": [
    {
     "name": "stdout",
     "output_type": "stream",
     "text": [
      "@HWI-ST700693:263:C0K6DACXX:4:1101:1603:1975\r\n",
      "NTAGGCAGTTTATATAAAAAACTTTAAATGAACAAAGTATGGGAACATCAGAAATGTTAGTTAGTATTTATAGGTC\r\n",
      "+\r\n",
      "#1=DBDFFAFFDFIGIIIIIIIIIIIC:CCGHIIIIIFHGIIIIIIIIIIIGIIIIHIIEGHIIGGGHGHEHH@D=\r\n",
      "@HWI-ST700693:263:C0K6DACXX:4:1101:1619:1999\r\n",
      "NTTACCACCGCCAAACTTGGTCCTGAACCCAAAGCAGAAAATGGTGTCGGGTGTCGTCCTGGACCTTTTGGCTAGG\r\n",
      "+\r\n",
      "#1:ABDDD:0@DDEII>BAF+1?C@E>DDD7?DB>DCDDDB8?<B@.B;A##########################\r\n",
      "@HWI-ST700693:263:C0K6DACXX:4:1101:2133:1973\r\n",
      "NGATCTTGTCTGCTATACAAAGATGCCAACCCACAATAGTAAGAACACAACACCAAATCCCATAAATACAGAGGCT\r\n"
     ]
    }
   ],
   "source": [
    "!head /../data/filtered_108A_Female_Mix_GGCTAC_L004_R1.fastq"
   ]
  },
  {
   "cell_type": "markdown",
   "metadata": {},
   "source": [
    "**Component 4**: filtered_108A_Male_Mix_AGTCAA_L004"
   ]
  },
  {
   "cell_type": "code",
   "execution_count": 6,
   "metadata": {
    "collapsed": false
   },
   "outputs": [
    {
     "name": "stdout",
     "output_type": "stream",
     "text": [
      "  % Total    % Received % Xferd  Average Speed   Time    Time     Time  Current\n",
      "                                 Dload  Upload   Total   Spent    Left  Speed\n",
      "100 3721M  100 3721M    0     0  9445k      0  0:06:43  0:06:43 --:--:-- 18.3M\n"
     ]
    }
   ],
   "source": [
    "!curl http://owl.fish.washington.edu/nightingales/O_lurida/filtered_108A_Male_Mix_AGTCAA_L004_R1.fastq.gz \\\n",
    "> /../data/filtered_108A_Male_Mix_AGTCAA_L004_R1.fastq.gz"
   ]
  },
  {
   "cell_type": "code",
   "execution_count": 10,
   "metadata": {
    "collapsed": false
   },
   "outputs": [
    {
     "name": "stdout",
     "output_type": "stream",
     "text": [
      "@HWI-ST700693:263:C0K6DACXX:4:1101:1719:1970\r\n",
      "NCTGAAGTGACATTGTAATTATCTGAATATTGGCTGTCATATTCAAACCCTCCATTGGTATGCTTGTCTCAACTTT\r\n",
      "+\r\n",
      "#1:BDDFFFHHHHCHFHGEEIGIHGHHGFAEHGFAHEGGDHCG>GGHGDF?FGHAFGGHDFHIIICBDFFGC=FHC\r\n",
      "@HWI-ST700693:263:C0K6DACXX:4:1101:1561:1973\r\n",
      "NATAGTGAAGAGACAATAAATGTGTTCTCAGAAAATGGAAAACAGTGGAAAGCAGACAAGGTTCTAGTAACACTGC\r\n",
      "+\r\n",
      "#1:ABBDBAFBD<AFGIDHFA<:BB:<CFFHHIIII9E9FFIFFFG>D9<DE@>@FFB9.;84=FF>=C@EFCC@?\r\n",
      "@HWI-ST700693:263:C0K6DACXX:4:1101:1720:1997\r\n",
      "NTGTAAGTAATATAGTCAAACCCCCAGCTAGTACAGGTAAGGTAGTTAGTAGTAAAAATGATGTTACTTTAATTGA\r\n"
     ]
    }
   ],
   "source": [
    "!head /../data/filtered_108A_Male_Mix_AGTCAA_L004_R1.fastq"
   ]
  },
  {
   "cell_type": "markdown",
   "metadata": {},
   "source": [
    "My next steps will be comparing transcriptomes."
   ]
  },
  {
   "cell_type": "markdown",
   "metadata": {},
   "source": [
    "# Quality Control Checks with FastQC"
   ]
  },
  {
   "cell_type": "markdown",
   "metadata": {},
   "source": [
    "Before I begin any analyses, I will assess my data's quality using FastQC. I will use the interactive FastQC application dowloaded from [this website](http://www.bioinformatics.babraham.ac.uk/projects/fastqc/), but I will also use it in the command line so the analyses can be used as part of a pipeline."
   ]
  },
  {
   "cell_type": "markdown",
   "metadata": {
    "collapsed": true
   },
   "source": [
    "### Analysis using FASTQC Application"
   ]
  },
  {
   "cell_type": "markdown",
   "metadata": {},
   "source": [
    "First, I will use the application to conduct my analyses."
   ]
  },
  {
   "cell_type": "markdown",
   "metadata": {},
   "source": [
    "After downloading the application, I opened it and loaded my four `.fastq` files using `File > Open`. Once the analyses were complete, I downloaded each file's FASTQC report as an `.html` file, which can be viewed [here](https://github.com/yaaminiv/yaaminiv-fish546-2016/blob/master/notebooks/2016-10-19-oly-gonad-OA-FASTQC-results.ipynb)."
   ]
  },
  {
   "cell_type": "code",
   "execution_count": 3,
   "metadata": {
    "collapsed": false,
    "scrolled": true
   },
   "outputs": [
    {
     "name": "stdout",
     "output_type": "stream",
     "text": [
      "\n",
      "            FastQC - A high throughput sequence QC analysis tool\n",
      "\n",
      "SYNOPSIS\n",
      "\n",
      "\tfastqc seqfile1 seqfile2 .. seqfileN\n",
      "\n",
      "    fastqc [-o output dir] [--(no)extract] [-f fastq|bam|sam] \n",
      "           [-c contaminant file] seqfile1 .. seqfileN\n",
      "\n",
      "DESCRIPTION\n",
      "\n",
      "    FastQC reads a set of sequence files and produces from each one a quality\n",
      "    control report consisting of a number of different modules, each one of \n",
      "    which will help to identify a different potential type of problem in your\n",
      "    data.\n",
      "    \n",
      "    If no files to process are specified on the command line then the program\n",
      "    will start as an interactive graphical application.  If files are provided\n",
      "    on the command line then the program will run with no user interaction\n",
      "    required.  In this mode it is suitable for inclusion into a standardised\n",
      "    analysis pipeline.\n",
      "    \n",
      "    The options for the program as as follows:\n",
      "    \n",
      "    -h --help       Print this help file and exit\n",
      "    \n",
      "    -v --version    Print the version of the program and exit\n",
      "    \n",
      "    -o --outdir     Create all output files in the specified output directory.\n",
      "                    Please note that this directory must exist as the program\n",
      "                    will not create it.  If this option is not set then the \n",
      "                    output file for each sequence file is created in the same\n",
      "                    directory as the sequence file which was processed.\n",
      "                    \n",
      "    --casava        Files come from raw casava output. Files in the same sample\n",
      "                    group (differing only by the group number) will be analysed\n",
      "                    as a set rather than individually. Sequences with the filter\n",
      "                    flag set in the header will be excluded from the analysis.\n",
      "                    Files must have the same names given to them by casava\n",
      "                    (including being gzipped and ending with .gz) otherwise they\n",
      "                    won't be grouped together correctly.\n",
      "                    \n",
      "    --nano          Files come from naopore sequences and are in fast5 format. In\n",
      "                    this mode you can pass in directories to process and the program\n",
      "                    will take in all fast5 files within those directories and produce\n",
      "                    a single output file from the sequences found in all files.                    \n",
      "                    \n",
      "    --nofilter      If running with --casava then don't remove read flagged by\n",
      "                    casava as poor quality when performing the QC analysis.\n",
      "                   \n",
      "    --extract       If set then the zipped output file will be uncompressed in\n",
      "                    the same directory after it has been created.  By default\n",
      "                    this option will be set if fastqc is run in non-interactive\n",
      "                    mode.\n",
      "                    \n",
      "    -j --java       Provides the full path to the java binary you want to use to\n",
      "                    launch fastqc. If not supplied then java is assumed to be in\n",
      "                    your path.\n",
      "                   \n",
      "    --noextract     Do not uncompress the output file after creating it.  You\n",
      "                    should set this option if you do not wish to uncompress\n",
      "                    the output when running in non-interactive mode.\n",
      "                    \n",
      "    --nogroup       Disable grouping of bases for reads >50bp. All reports will\n",
      "                    show data for every base in the read.  WARNING: Using this\n",
      "                    option will cause fastqc to crash and burn if you use it on\n",
      "                    really long reads, and your plots may end up a ridiculous size.\n",
      "                    You have been warned!\n",
      "                    \n",
      "    -f --format     Bypasses the normal sequence file format detection and\n",
      "                    forces the program to use the specified format.  Valid\n",
      "                    formats are bam,sam,bam_mapped,sam_mapped and fastq\n",
      "                    \n",
      "    -t --threads    Specifies the number of files which can be processed\n",
      "                    simultaneously.  Each thread will be allocated 250MB of\n",
      "                    memory so you shouldn't run more threads than your\n",
      "                    available memory will cope with, and not more than\n",
      "                    6 threads on a 32 bit machine\n",
      "                  \n",
      "    -c              Specifies a non-default file which contains the list of\n",
      "    --contaminants  contaminants to screen overrepresented sequences against.\n",
      "                    The file must contain sets of named contaminants in the\n",
      "                    form name[tab]sequence.  Lines prefixed with a hash will\n",
      "                    be ignored.\n",
      "\n",
      "    -a              Specifies a non-default file which contains the list of\n",
      "    --adapters      adapter sequences which will be explicity searched against\n",
      "                    the library. The file must contain sets of named adapters\n",
      "                    in the form name[tab]sequence.  Lines prefixed with a hash\n",
      "                    will be ignored.\n",
      "                    \n",
      "    -l              Specifies a non-default file which contains a set of criteria\n",
      "    --limits        which will be used to determine the warn/error limits for the\n",
      "                    various modules.  This file can also be used to selectively \n",
      "                    remove some modules from the output all together.  The format\n",
      "                    needs to mirror the default limits.txt file found in the\n",
      "                    Configuration folder.\n",
      "                    \n",
      "   -k --kmers       Specifies the length of Kmer to look for in the Kmer content\n",
      "                    module. Specified Kmer length must be between 2 and 10. Default\n",
      "                    length is 7 if not specified.\n",
      "                    \n",
      "   -q --quiet       Supress all progress messages on stdout and only report errors.\n",
      "   \n",
      "   -d --dir         Selects a directory to be used for temporary files written when\n",
      "                    generating report images. Defaults to system temp directory if\n",
      "                    not specified.\n",
      "                    \n",
      "BUGS\n",
      "\n",
      "    Any bugs in fastqc should be reported either to simon.andrews@babraham.ac.uk\n",
      "    or in www.bioinformatics.babraham.ac.uk/bugzilla/\n",
      "                   \n",
      "    "
     ]
    }
   ],
   "source": [
    "!/Applications/FastQC/fastqc -help"
   ]
  },
  {
   "cell_type": "markdown",
   "metadata": {
    "collapsed": true
   },
   "source": [
    "I will use FastQC in the command line to produce the same results as the interactive application. The code uses the following information:\n",
    "\n",
    "1. path of FastQC application\n",
    "2. files to be analyzed\n",
    "3. number of CPU units\n",
    "4. directory for output files"
   ]
  },
  {
   "cell_type": "code",
   "execution_count": 2,
   "metadata": {
    "collapsed": true
   },
   "outputs": [
    {
     "name": "stdout",
     "output_type": "stream",
     "text": [
      "Started analysis of filtered_106A_Female_Mix_GATCAG_L004_R1.fastq\n",
      "Started analysis of filtered_106A_Female_Mix_GATCAG_L004_R1.fastq.gz\n",
      "Started analysis of filtered_106A_Male_Mix_TAGCTT_L004_R1.fastq\n",
      "Started analysis of filtered_106A_Male_Mix_TAGCTT_L004_R1.fastq.gz\n",
      "Approx 5% complete for filtered_106A_Female_Mix_GATCAG_L004_R1.fastq\n",
      "Approx 5% complete for filtered_106A_Female_Mix_GATCAG_L004_R1.fastq.gz\n",
      "Approx 5% complete for filtered_106A_Male_Mix_TAGCTT_L004_R1.fastq\n",
      "Approx 5% complete for filtered_106A_Male_Mix_TAGCTT_L004_R1.fastq.gz\n",
      "Approx 10% complete for filtered_106A_Female_Mix_GATCAG_L004_R1.fastq\n",
      "Approx 10% complete for filtered_106A_Female_Mix_GATCAG_L004_R1.fastq.gz\n",
      "Approx 15% complete for filtered_106A_Female_Mix_GATCAG_L004_R1.fastq\n",
      "Approx 10% complete for filtered_106A_Male_Mix_TAGCTT_L004_R1.fastq\n",
      "Approx 15% complete for filtered_106A_Female_Mix_GATCAG_L004_R1.fastq.gz\n",
      "Approx 10% complete for filtered_106A_Male_Mix_TAGCTT_L004_R1.fastq.gz\n",
      "Approx 20% complete for filtered_106A_Female_Mix_GATCAG_L004_R1.fastq\n",
      "Approx 15% complete for filtered_106A_Male_Mix_TAGCTT_L004_R1.fastq\n",
      "Approx 20% complete for filtered_106A_Female_Mix_GATCAG_L004_R1.fastq.gz\n",
      "Approx 25% complete for filtered_106A_Female_Mix_GATCAG_L004_R1.fastq\n",
      "Approx 15% complete for filtered_106A_Male_Mix_TAGCTT_L004_R1.fastq.gz\n",
      "Approx 25% complete for filtered_106A_Female_Mix_GATCAG_L004_R1.fastq.gz\n",
      "Approx 30% complete for filtered_106A_Female_Mix_GATCAG_L004_R1.fastq\n",
      "Approx 20% complete for filtered_106A_Male_Mix_TAGCTT_L004_R1.fastq\n",
      "Approx 35% complete for filtered_106A_Female_Mix_GATCAG_L004_R1.fastq\n",
      "Approx 20% complete for filtered_106A_Male_Mix_TAGCTT_L004_R1.fastq.gz\n",
      "Approx 30% complete for filtered_106A_Female_Mix_GATCAG_L004_R1.fastq.gz\n",
      "Approx 25% complete for filtered_106A_Male_Mix_TAGCTT_L004_R1.fastq\n",
      "Approx 40% complete for filtered_106A_Female_Mix_GATCAG_L004_R1.fastq\n",
      "Approx 35% complete for filtered_106A_Female_Mix_GATCAG_L004_R1.fastq.gz\n",
      "Approx 25% complete for filtered_106A_Male_Mix_TAGCTT_L004_R1.fastq.gz\n",
      "Approx 45% complete for filtered_106A_Female_Mix_GATCAG_L004_R1.fastq\n",
      "Approx 30% complete for filtered_106A_Male_Mix_TAGCTT_L004_R1.fastq\n",
      "Approx 40% complete for filtered_106A_Female_Mix_GATCAG_L004_R1.fastq.gz\n",
      "Approx 50% complete for filtered_106A_Female_Mix_GATCAG_L004_R1.fastq\n",
      "Approx 35% complete for filtered_106A_Male_Mix_TAGCTT_L004_R1.fastq\n",
      "Approx 30% complete for filtered_106A_Male_Mix_TAGCTT_L004_R1.fastq.gz\n",
      "Approx 45% complete for filtered_106A_Female_Mix_GATCAG_L004_R1.fastq.gz\n",
      "Approx 55% complete for filtered_106A_Female_Mix_GATCAG_L004_R1.fastq\n",
      "Approx 50% complete for filtered_106A_Female_Mix_GATCAG_L004_R1.fastq.gz\n",
      "Approx 60% complete for filtered_106A_Female_Mix_GATCAG_L004_R1.fastq\n",
      "Approx 40% complete for filtered_106A_Male_Mix_TAGCTT_L004_R1.fastq\n",
      "Approx 35% complete for filtered_106A_Male_Mix_TAGCTT_L004_R1.fastq.gz\n",
      "Approx 55% complete for filtered_106A_Female_Mix_GATCAG_L004_R1.fastq.gz\n",
      "Approx 65% complete for filtered_106A_Female_Mix_GATCAG_L004_R1.fastq\n",
      "Approx 45% complete for filtered_106A_Male_Mix_TAGCTT_L004_R1.fastq\n",
      "Approx 70% complete for filtered_106A_Female_Mix_GATCAG_L004_R1.fastq\n",
      "Approx 40% complete for filtered_106A_Male_Mix_TAGCTT_L004_R1.fastq.gz\n",
      "Approx 60% complete for filtered_106A_Female_Mix_GATCAG_L004_R1.fastq.gz\n",
      "Approx 75% complete for filtered_106A_Female_Mix_GATCAG_L004_R1.fastq\n",
      "Approx 65% complete for filtered_106A_Female_Mix_GATCAG_L004_R1.fastq.gz\n",
      "Approx 50% complete for filtered_106A_Male_Mix_TAGCTT_L004_R1.fastq\n",
      "Approx 45% complete for filtered_106A_Male_Mix_TAGCTT_L004_R1.fastq.gz\n",
      "Approx 80% complete for filtered_106A_Female_Mix_GATCAG_L004_R1.fastq\n",
      "Approx 70% complete for filtered_106A_Female_Mix_GATCAG_L004_R1.fastq.gz\n",
      "Approx 55% complete for filtered_106A_Male_Mix_TAGCTT_L004_R1.fastq\n",
      "Approx 85% complete for filtered_106A_Female_Mix_GATCAG_L004_R1.fastq\n",
      "Approx 50% complete for filtered_106A_Male_Mix_TAGCTT_L004_R1.fastq.gz\n",
      "Approx 75% complete for filtered_106A_Female_Mix_GATCAG_L004_R1.fastq.gz\n",
      "Approx 90% complete for filtered_106A_Female_Mix_GATCAG_L004_R1.fastq\n",
      "Approx 60% complete for filtered_106A_Male_Mix_TAGCTT_L004_R1.fastq\n",
      "Approx 80% complete for filtered_106A_Female_Mix_GATCAG_L004_R1.fastq.gz\n",
      "Approx 95% complete for filtered_106A_Female_Mix_GATCAG_L004_R1.fastq\n",
      "Approx 55% complete for filtered_106A_Male_Mix_TAGCTT_L004_R1.fastq.gz\n",
      "Approx 65% complete for filtered_106A_Male_Mix_TAGCTT_L004_R1.fastq\n",
      "Approx 85% complete for filtered_106A_Female_Mix_GATCAG_L004_R1.fastq.gz\n",
      "Analysis complete for filtered_106A_Female_Mix_GATCAG_L004_R1.fastq\n",
      "Started analysis of filtered_108A_Female_Mix_GGCTAC_L004_R1.fastq\n",
      "Approx 60% complete for filtered_106A_Male_Mix_TAGCTT_L004_R1.fastq.gz\n",
      "Approx 90% complete for filtered_106A_Female_Mix_GATCAG_L004_R1.fastq.gz\n",
      "Approx 70% complete for filtered_106A_Male_Mix_TAGCTT_L004_R1.fastq\n",
      "Approx 95% complete for filtered_106A_Female_Mix_GATCAG_L004_R1.fastq.gz\n",
      "Approx 5% complete for filtered_108A_Female_Mix_GGCTAC_L004_R1.fastq\n",
      "Approx 65% complete for filtered_106A_Male_Mix_TAGCTT_L004_R1.fastq.gz\n",
      "Approx 75% complete for filtered_106A_Male_Mix_TAGCTT_L004_R1.fastq\n",
      "Analysis complete for filtered_106A_Female_Mix_GATCAG_L004_R1.fastq.gz\n",
      "Approx 10% complete for filtered_108A_Female_Mix_GGCTAC_L004_R1.fastq\n",
      "Started analysis of filtered_108A_Female_Mix_GGCTAC_L004_R1.fastq.gz\n",
      "Approx 70% complete for filtered_106A_Male_Mix_TAGCTT_L004_R1.fastq.gz\n",
      "Approx 80% complete for filtered_106A_Male_Mix_TAGCTT_L004_R1.fastq\n",
      "Approx 15% complete for filtered_108A_Female_Mix_GGCTAC_L004_R1.fastq\n",
      "Approx 5% complete for filtered_108A_Female_Mix_GGCTAC_L004_R1.fastq.gz\n",
      "Approx 75% complete for filtered_106A_Male_Mix_TAGCTT_L004_R1.fastq.gz\n",
      "Approx 85% complete for filtered_106A_Male_Mix_TAGCTT_L004_R1.fastq\n",
      "Approx 20% complete for filtered_108A_Female_Mix_GGCTAC_L004_R1.fastq\n",
      "Approx 10% complete for filtered_108A_Female_Mix_GGCTAC_L004_R1.fastq.gz\n",
      "Approx 25% complete for filtered_108A_Female_Mix_GGCTAC_L004_R1.fastq\n",
      "Approx 90% complete for filtered_106A_Male_Mix_TAGCTT_L004_R1.fastq\n",
      "Approx 80% complete for filtered_106A_Male_Mix_TAGCTT_L004_R1.fastq.gz\n",
      "Approx 15% complete for filtered_108A_Female_Mix_GGCTAC_L004_R1.fastq.gz\n",
      "Approx 30% complete for filtered_108A_Female_Mix_GGCTAC_L004_R1.fastq\n",
      "Approx 20% complete for filtered_108A_Female_Mix_GGCTAC_L004_R1.fastq.gz\n",
      "Approx 95% complete for filtered_106A_Male_Mix_TAGCTT_L004_R1.fastq\n",
      "Approx 85% complete for filtered_106A_Male_Mix_TAGCTT_L004_R1.fastq.gz\n",
      "Approx 35% complete for filtered_108A_Female_Mix_GGCTAC_L004_R1.fastq\n",
      "Approx 25% complete for filtered_108A_Female_Mix_GGCTAC_L004_R1.fastq.gz\n",
      "Analysis complete for filtered_106A_Male_Mix_TAGCTT_L004_R1.fastq\n",
      "Approx 90% complete for filtered_106A_Male_Mix_TAGCTT_L004_R1.fastq.gz\n",
      "Approx 40% complete for filtered_108A_Female_Mix_GGCTAC_L004_R1.fastq\n",
      "Started analysis of filtered_108A_Male_Mix_AGTCAA_L004_R1.fastq\n",
      "Approx 30% complete for filtered_108A_Female_Mix_GGCTAC_L004_R1.fastq.gz\n",
      "Approx 45% complete for filtered_108A_Female_Mix_GGCTAC_L004_R1.fastq\n",
      "Approx 95% complete for filtered_106A_Male_Mix_TAGCTT_L004_R1.fastq.gz\n",
      "Approx 5% complete for filtered_108A_Male_Mix_AGTCAA_L004_R1.fastq\n",
      "Approx 35% complete for filtered_108A_Female_Mix_GGCTAC_L004_R1.fastq.gz\n",
      "Approx 50% complete for filtered_108A_Female_Mix_GGCTAC_L004_R1.fastq\n",
      "Analysis complete for filtered_106A_Male_Mix_TAGCTT_L004_R1.fastq.gz\n",
      "Approx 40% complete for filtered_108A_Female_Mix_GGCTAC_L004_R1.fastq.gz\n",
      "Approx 10% complete for filtered_108A_Male_Mix_AGTCAA_L004_R1.fastq\n",
      "Started analysis of filtered_108A_Male_Mix_AGTCAA_L004_R1.fastq.gz\n",
      "Approx 55% complete for filtered_108A_Female_Mix_GGCTAC_L004_R1.fastq\n",
      "Approx 45% complete for filtered_108A_Female_Mix_GGCTAC_L004_R1.fastq.gz\n",
      "Approx 15% complete for filtered_108A_Male_Mix_AGTCAA_L004_R1.fastq\n",
      "Approx 5% complete for filtered_108A_Male_Mix_AGTCAA_L004_R1.fastq.gz\n",
      "Approx 60% complete for filtered_108A_Female_Mix_GGCTAC_L004_R1.fastq\n",
      "Approx 50% complete for filtered_108A_Female_Mix_GGCTAC_L004_R1.fastq.gz\n",
      "Approx 10% complete for filtered_108A_Male_Mix_AGTCAA_L004_R1.fastq.gz\n",
      "Approx 20% complete for filtered_108A_Male_Mix_AGTCAA_L004_R1.fastq\n",
      "Approx 55% complete for filtered_108A_Female_Mix_GGCTAC_L004_R1.fastq.gz\n",
      "Approx 65% complete for filtered_108A_Female_Mix_GGCTAC_L004_R1.fastq\n",
      "Approx 60% complete for filtered_108A_Female_Mix_GGCTAC_L004_R1.fastq.gz\n",
      "Approx 15% complete for filtered_108A_Male_Mix_AGTCAA_L004_R1.fastq.gz\n",
      "Approx 70% complete for filtered_108A_Female_Mix_GGCTAC_L004_R1.fastq\n",
      "Approx 25% complete for filtered_108A_Male_Mix_AGTCAA_L004_R1.fastq\n",
      "Approx 65% complete for filtered_108A_Female_Mix_GGCTAC_L004_R1.fastq.gz\n",
      "Approx 75% complete for filtered_108A_Female_Mix_GGCTAC_L004_R1.fastq\n",
      "Approx 20% complete for filtered_108A_Male_Mix_AGTCAA_L004_R1.fastq.gz\n",
      "Approx 30% complete for filtered_108A_Male_Mix_AGTCAA_L004_R1.fastq\n",
      "Approx 70% complete for filtered_108A_Female_Mix_GGCTAC_L004_R1.fastq.gz\n",
      "Approx 80% complete for filtered_108A_Female_Mix_GGCTAC_L004_R1.fastq\n",
      "Approx 25% complete for filtered_108A_Male_Mix_AGTCAA_L004_R1.fastq.gz\n",
      "Approx 35% complete for filtered_108A_Male_Mix_AGTCAA_L004_R1.fastq\n",
      "Approx 75% complete for filtered_108A_Female_Mix_GGCTAC_L004_R1.fastq.gz\n",
      "Approx 85% complete for filtered_108A_Female_Mix_GGCTAC_L004_R1.fastq\n",
      "Approx 30% complete for filtered_108A_Male_Mix_AGTCAA_L004_R1.fastq.gz\n",
      "Approx 40% complete for filtered_108A_Male_Mix_AGTCAA_L004_R1.fastq\n",
      "Approx 80% complete for filtered_108A_Female_Mix_GGCTAC_L004_R1.fastq.gz\n",
      "Approx 90% complete for filtered_108A_Female_Mix_GGCTAC_L004_R1.fastq\n",
      "Approx 35% complete for filtered_108A_Male_Mix_AGTCAA_L004_R1.fastq.gz\n",
      "Approx 85% complete for filtered_108A_Female_Mix_GGCTAC_L004_R1.fastq.gz\n",
      "Approx 45% complete for filtered_108A_Male_Mix_AGTCAA_L004_R1.fastq\n",
      "Approx 95% complete for filtered_108A_Female_Mix_GGCTAC_L004_R1.fastq\n",
      "Approx 90% complete for filtered_108A_Female_Mix_GGCTAC_L004_R1.fastq.gz\n",
      "Approx 40% complete for filtered_108A_Male_Mix_AGTCAA_L004_R1.fastq.gz\n",
      "Approx 50% complete for filtered_108A_Male_Mix_AGTCAA_L004_R1.fastq\n",
      "Analysis complete for filtered_108A_Female_Mix_GGCTAC_L004_R1.fastq\n",
      "Approx 95% complete for filtered_108A_Female_Mix_GGCTAC_L004_R1.fastq.gz\n",
      "Approx 55% complete for filtered_108A_Male_Mix_AGTCAA_L004_R1.fastq\n",
      "Approx 45% complete for filtered_108A_Male_Mix_AGTCAA_L004_R1.fastq.gz\n",
      "Analysis complete for filtered_108A_Female_Mix_GGCTAC_L004_R1.fastq.gz\n",
      "Approx 60% complete for filtered_108A_Male_Mix_AGTCAA_L004_R1.fastq\n",
      "Approx 50% complete for filtered_108A_Male_Mix_AGTCAA_L004_R1.fastq.gz\n",
      "Approx 55% complete for filtered_108A_Male_Mix_AGTCAA_L004_R1.fastq.gz\n",
      "Approx 65% complete for filtered_108A_Male_Mix_AGTCAA_L004_R1.fastq\n",
      "Approx 60% complete for filtered_108A_Male_Mix_AGTCAA_L004_R1.fastq.gz\n",
      "Approx 70% complete for filtered_108A_Male_Mix_AGTCAA_L004_R1.fastq\n",
      "Approx 65% complete for filtered_108A_Male_Mix_AGTCAA_L004_R1.fastq.gz\n",
      "Approx 75% complete for filtered_108A_Male_Mix_AGTCAA_L004_R1.fastq\n",
      "Approx 70% complete for filtered_108A_Male_Mix_AGTCAA_L004_R1.fastq.gz\n",
      "Approx 80% complete for filtered_108A_Male_Mix_AGTCAA_L004_R1.fastq\n",
      "Approx 75% complete for filtered_108A_Male_Mix_AGTCAA_L004_R1.fastq.gz\n",
      "Approx 85% complete for filtered_108A_Male_Mix_AGTCAA_L004_R1.fastq\n",
      "Approx 80% complete for filtered_108A_Male_Mix_AGTCAA_L004_R1.fastq.gz\n",
      "Approx 90% complete for filtered_108A_Male_Mix_AGTCAA_L004_R1.fastq\n",
      "Approx 85% complete for filtered_108A_Male_Mix_AGTCAA_L004_R1.fastq.gz\n",
      "Approx 95% complete for filtered_108A_Male_Mix_AGTCAA_L004_R1.fastq\n",
      "Approx 90% complete for filtered_108A_Male_Mix_AGTCAA_L004_R1.fastq.gz\n",
      "Analysis complete for filtered_108A_Male_Mix_AGTCAA_L004_R1.fastq\n",
      "Approx 95% complete for filtered_108A_Male_Mix_AGTCAA_L004_R1.fastq.gz\n",
      "Analysis complete for filtered_108A_Male_Mix_AGTCAA_L004_R1.fastq.gz\n"
     ]
    }
   ],
   "source": [
    "!/Applications/FastQC/fastqc \\\n",
    "/Users/yaaminivenkataraman/Documents/School/Year1/FISH-546/yaaminiv-fish546-2016/data/filtered_* \\\n",
    "-t 4 \\\n",
    "-o /Users/yaaminivenkataraman/Documents/School/Year1/FISH-546/yaaminiv-fish546-2016/analyses/oly_oa_gonad_FastQC_commandline "
   ]
  },
  {
   "cell_type": "markdown",
   "metadata": {},
   "source": [
    "I will now check that my specified output directory has the files from the FastQC analysis."
   ]
  },
  {
   "cell_type": "code",
   "execution_count": 3,
   "metadata": {
    "collapsed": false
   },
   "outputs": [
    {
     "name": "stdout",
     "output_type": "stream",
     "text": [
      "filtered_106A_Female_Mix_GATCAG_L004_R1_fastqc.html\r\n",
      "filtered_106A_Female_Mix_GATCAG_L004_R1_fastqc.zip\r\n",
      "filtered_106A_Male_Mix_TAGCTT_L004_R1_fastqc.html\r\n",
      "filtered_106A_Male_Mix_TAGCTT_L004_R1_fastqc.zip\r\n",
      "filtered_108A_Female_Mix_GGCTAC_L004_R1_fastqc.html\r\n",
      "filtered_108A_Female_Mix_GGCTAC_L004_R1_fastqc.zip\r\n",
      "filtered_108A_Male_Mix_AGTCAA_L004_R1_fastqc.html\r\n",
      "filtered_108A_Male_Mix_AGTCAA_L004_R1_fastqc.zip\r\n"
     ]
    }
   ],
   "source": [
    "!ls /Users/yaaminivenkataraman/Documents/School/Year1/FISH-546/yaaminiv-fish546-2016/analyses/oly_oa_gonad_FastQC_commandline "
   ]
  },
  {
   "cell_type": "markdown",
   "metadata": {},
   "source": [
    "All files are present.\n",
    "\n",
    "The FastQC reports provide detailed analyses of my `.fastq` files. My interpretation of these reports can be viewed [here](https://github.com/yaaminiv/yaaminiv-fish546-2016/blob/master/notebooks/2016-10-19-oly-gonad-OA-FASTQC-results.ipynb).\n",
    "\n",
    "The next step is to compare these reports in a MultiQC analysis. MultiQC compiles existing FastQC analyses for easy comparison. I exited my Jupyter Notebook and used the following code in Terminal to install MultiQC: `conda install -c bioconda multiqc`"
   ]
  },
  {
   "cell_type": "code",
   "execution_count": 4,
   "metadata": {
    "collapsed": false,
    "scrolled": true
   },
   "outputs": [
    {
     "name": "stdout",
     "output_type": "stream",
     "text": [
      "Usage: multiqc [OPTIONS] <analysis directory>\r\n",
      "\r\n",
      "  MultiQC aggregates results from bioinformatics analyses across many\r\n",
      "  samples into a single report.\r\n",
      "\r\n",
      "  It searches a given directory for analysis logs and compiles a HTML\r\n",
      "  report. It's a general use tool, perfect for summarising the output from\r\n",
      "  numerous bioinformatics tools.\r\n",
      "\r\n",
      "  To run, supply with one or more directory to scan for analysis results. To\r\n",
      "  run here, use 'multiqc .'\r\n",
      "\r\n",
      "  See http://multiqc.info for more details.\r\n",
      "\r\n",
      "  Author: Phil Ewels (http://phil.ewels.co.uk)\r\n",
      "\r\n",
      "Options:\r\n",
      "  -f, --force                     Overwrite any existing reports\r\n",
      "  -d, --dirs                      Prepend directory to sample names\r\n",
      "  -dd, --dirs-depth INTEGER       Prepend [INT] directories to sample names.\r\n",
      "                                  Negative number to take from start of path.\r\n",
      "  -s, --fullnames                 Do not clean the sample names (leave as full\r\n",
      "                                  file name)\r\n",
      "  -i, --title TEXT                Report title. Printed as page header, used\r\n",
      "                                  for filename if not otherwise specified.\r\n",
      "  -b, --comment TEXT              Custom comment, will be printed at the top\r\n",
      "                                  of the report.\r\n",
      "  -n, --filename TEXT             Report filename. Use 'stdout' to print to\r\n",
      "                                  standard out.\r\n",
      "  -o, --outdir TEXT               Create report in the specified output\r\n",
      "                                  directory.\r\n",
      "  -t, --template [default_dev|geo|default|simple]\r\n",
      "                                  Report template to use.\r\n",
      "  -x, --ignore TEXT               Ignore analysis files (glob expression)\r\n",
      "  -l, --file-list                 Supply a file containing a list of file\r\n",
      "                                  paths to be searched, one per row\r\n",
      "  -e, --exclude [module name]     Do not use this module. Can specify multiple\r\n",
      "                                  times.\r\n",
      "  -m, --module [module name]      Use only this module. Can specify multiple\r\n",
      "                                  times.\r\n",
      "  --data-dir                      Force the parsed data directory to be\r\n",
      "                                  created.\r\n",
      "  --no-data-dir                   Prevent the parsed data directory from being\r\n",
      "                                  created.\r\n",
      "  -k, --data-format [tsv|yaml|json]\r\n",
      "                                  Output parsed data in a different format.\r\n",
      "                                  Default: tsv\r\n",
      "  -z, --zip-data-dir              Compress the data directory.\r\n",
      "  -p, --export                    Export plots as static images in addition to\r\n",
      "                                  the report\r\n",
      "  -fp, --flat                     Use only flat plots (static images)\r\n",
      "  -ip, --interactive              Use only interactive plots (HighCharts\r\n",
      "                                  Javascript)\r\n",
      "  --pdf                           Creates PDF report with 'simple' template.\r\n",
      "                                  Requires Pandoc to be installed.\r\n",
      "  -c, --config PATH               Specific config file to load, after those in\r\n",
      "                                  MultiQC dir / home dir / working dir.\r\n",
      "  -v, --verbose                   Increase output verbosity.\r\n",
      "  -q, --quiet                     Only show log warnings\r\n",
      "  --version                       Show the version and exit.\r\n",
      "  -h, --help                      Show this message and exit.\r\n"
     ]
    }
   ],
   "source": [
    "!/anaconda/bin/multiqc -help"
   ]
  },
  {
   "cell_type": "markdown",
   "metadata": {},
   "source": [
    "To use MultiQC, I will specify:\n",
    "\n",
    "1. Location of multiqc on my computer + directory with output from FastQC analyses\n",
    "2. Specified MultiQC output directory"
   ]
  },
  {
   "cell_type": "code",
   "execution_count": 7,
   "metadata": {
    "collapsed": false
   },
   "outputs": [
    {
     "name": "stdout",
     "output_type": "stream",
     "text": [
      "[INFO   ]         multiqc : This is MultiQC v0.8\n",
      "[INFO   ]         multiqc : Template    : default\n",
      "[INFO   ]         multiqc : Searching '/Users/yaaminivenkataraman/Documents/School/Year1/FISH-546/yaaminiv-fish546-2016/analyses/oly_oa_gonad_FastQC_commandline'\n",
      "[INFO   ]         multiqc : Searching '/Users/yaaminivenkataraman/Documents/School/Year1/FISH-546/yaaminiv-fish546-2016/analyses/oly_oa_gonad_MultiQC'\n",
      "[INFO   ]          fastqc : Found 4 reports\n",
      "[INFO   ]         multiqc : Report      : multiqc_report.html\n",
      "[INFO   ]         multiqc : Data        : multiqc_data\n",
      "[INFO   ]         multiqc : MultiQC complete\n"
     ]
    }
   ],
   "source": [
    "!/anaconda/bin/multiqc /Users/yaaminivenkataraman/Documents/School/Year1/FISH-546/yaaminiv-fish546-2016/analyses/oly_oa_gonad_FastQC_commandline \\\n",
    "> --outdir /Users/yaaminivenkataraman/Documents/School/Year1/FISH-546/yaaminiv-fish546-2016/analyses/oly_oa_gonad_MultiQC"
   ]
  },
  {
   "cell_type": "markdown",
   "metadata": {},
   "source": [
    "The results of the MultiQC analysis can be viewed [here](http://htmlpreview.github.io/?https://github.com/yaaminiv/yaaminiv-fish546-2016/blob/master/analyses/oly_oa_gonad_FASTQC/filtered_108A_Female_Mix_GGCTAC_L004_R1_fastqc.html)."
   ]
  }
 ],
 "metadata": {
  "anaconda-cloud": {},
  "kernelspec": {
   "display_name": "Python [default]",
   "language": "python",
   "name": "python3"
  },
  "language_info": {
   "codemirror_mode": {
    "name": "ipython",
    "version": 3
   },
   "file_extension": ".py",
   "mimetype": "text/x-python",
   "name": "python",
   "nbconvert_exporter": "python",
   "pygments_lexer": "ipython3",
   "version": "3.5.2"
  }
 },
 "nbformat": 4,
 "nbformat_minor": 1
}
