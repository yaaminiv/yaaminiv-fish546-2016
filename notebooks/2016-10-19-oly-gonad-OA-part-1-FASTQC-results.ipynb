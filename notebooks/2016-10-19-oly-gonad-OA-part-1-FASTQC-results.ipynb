{
 "cells": [
  {
   "cell_type": "markdown",
   "metadata": {},
   "source": [
    "# Results of FASTQC analysis"
   ]
  },
  {
   "cell_type": "markdown",
   "metadata": {},
   "source": [
    "To complete these analyses, I used the [FastQC v0.11.5 interactive application](http://www.bioinformatics.babraham.ac.uk/projects/download.html#fastqscreen), downloaded on 2016-10-19. These same analyses were conducted in the command line, which can be viewed [here](https://github.com/yaaminiv/yaaminiv-fish546-2016/blob/master/notebooks/2016-10-13-oly-gonad-OA-part-1.ipynb).\n",
    "\n",
    "The reports are `.html` files, and each individual report can be viewed by clicking the \"View here\" link below each filename."
   ]
  },
  {
   "cell_type": "markdown",
   "metadata": {},
   "source": [
    "### filtered_106A_Female_Mix_GATCAG_L004_R1_fastqc"
   ]
  },
  {
   "cell_type": "markdown",
   "metadata": {
    "collapsed": true
   },
   "source": [
    "[View here](http://htmlpreview.github.io/?https://github.com/yaaminiv/yaaminiv-fish546-2016/blob/master/analyses/oly_oa_gonad_FASTQC/filtered_106A_Female_Mix_GATCAG_L004_R1_fastqc.html)"
   ]
  },
  {
   "cell_type": "markdown",
   "metadata": {},
   "source": [
    "Per base sequence quality is all above 20, which is good.\n",
    "\n",
    "Lots of variation in per base sequence content from bp 1-13. This indicates that there are possibly adapter sequences that are in the samples. Sequence duplication levels and overrepresented sequences confirm this (ex. TruSeq Adapter, Index 9)."
   ]
  },
  {
   "cell_type": "markdown",
   "metadata": {},
   "source": [
    "### filtered_106A_Male_Mix_TAGCTT_L004_R1_fastqc"
   ]
  },
  {
   "cell_type": "markdown",
   "metadata": {
    "collapsed": true
   },
   "source": [
    "[View here](http://htmlpreview.github.io/?https://github.com/yaaminiv/yaaminiv-fish546-2016/blob/master/analyses/oly_oa_gonad_FASTQC/filtered_106A_Male_Mix_TAGCTT_L004_R1_fastqc.html)"
   ]
  },
  {
   "cell_type": "markdown",
   "metadata": {},
   "source": [
    "Per base sequence quality is all above 20, which is good.\n",
    "\n",
    "Similar to the 106A_Female analyses, there is a lot of variation in per base sequence content early on. TruSeq Adapter, Index 10 sequences were overrepresented."
   ]
  },
  {
   "cell_type": "markdown",
   "metadata": {},
   "source": [
    "### filtered_108A_Female_Mix_GGCTAC_L004_R1.fastq"
   ]
  },
  {
   "cell_type": "markdown",
   "metadata": {
    "collapsed": true
   },
   "source": [
    "[View here](http://htmlpreview.github.io/?https://github.com/yaaminiv/yaaminiv-fish546-2016/blob/master/analyses/oly_oa_gonad_FASTQC/filtered_108A_Female_Mix_GGCTAC_L004_R1_fastqc.html)"
   ]
  },
  {
   "cell_type": "markdown",
   "metadata": {},
   "source": [
    "Per base sequence quality is all above 20, which is good.\n",
    "\n",
    "Similar to the 106A_Female analyses, there is a lot of variation in per base sequence content early on. The TruSeq Adapter, Index 11 sequence was overrepresented, but there were also three other overrepresented sequences with no hits."
   ]
  },
  {
   "cell_type": "markdown",
   "metadata": {},
   "source": [
    "### filtered_108A_Male_Mix_AGTCAA_L004_R1_fastqc"
   ]
  },
  {
   "cell_type": "markdown",
   "metadata": {
    "collapsed": true
   },
   "source": [
    "[View here](http://htmlpreview.github.io/?https://github.com/yaaminiv/yaaminiv-fish546-2016/blob/master/analyses/oly_oa_gonad_FASTQC/filtered_108A_Male_Mix_AGTCAA_L004_R1_fastqc.html)"
   ]
  },
  {
   "cell_type": "markdown",
   "metadata": {},
   "source": [
    "Per base sequence quality is all above 20, which is good.\n",
    "\n",
    "Similar to the 106A_Female analyses, there is a lot of variation in per base sequence content early on. TruSeq Adapter, Index 13 sequences were overrepresented."
   ]
  }
 ],
 "metadata": {
  "anaconda-cloud": {},
  "kernelspec": {
   "display_name": "Python [default]",
   "language": "python",
   "name": "python3"
  },
  "language_info": {
   "codemirror_mode": {
    "name": "ipython",
    "version": 3
   },
   "file_extension": ".py",
   "mimetype": "text/x-python",
   "name": "python",
   "nbconvert_exporter": "python",
   "pygments_lexer": "ipython3",
   "version": "3.5.2"
  }
 },
 "nbformat": 4,
 "nbformat_minor": 1
}
