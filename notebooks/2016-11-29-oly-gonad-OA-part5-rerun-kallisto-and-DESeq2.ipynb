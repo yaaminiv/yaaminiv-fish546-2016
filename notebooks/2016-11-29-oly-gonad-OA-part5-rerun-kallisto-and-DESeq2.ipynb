{
 "cells": [
  {
   "cell_type": "markdown",
   "metadata": {},
   "source": [
    "# Repeating Kallisto and DESeq2\n",
    "\n",
    "Based on my previous [DESeq2 analyses](https://github.com/yaaminiv/yaaminiv-fish546-2016/blob/master/notebooks/2016-11-11-oly-gonad-OA-part4-differential-expression.ipynb), I did not find any significant differences in gene expression for pairwise comparisons. This could be because my standard deviation was too high when running [`kallisto quant`](https://github.com/yaaminiv/yaaminiv-fish546-2016/blob/master/notebooks/2016-11-04-oly-gonad-OA-part3-kallisto.ipynb). I will now rerun `kallisto quant` with a lower standard deviation and see if that affects my DeSeq2 results.\n",
    "\n",
    "## Rerun `kallisto quant`\n",
    "\n",
    "### 1. Create a database\n",
    "\n",
    "Similar to running a blastx, I first need to create a database (kallisto index). I will use the same database I creased in my previous attempt with `kallisto`. The code I used is as follows:\n",
    "\n",
    "1. define the program, `kallisto index`\n",
    "2. `-i` indicate the name for the new index\n",
    "3. fasta file to be used to create an index"
   ]
  },
  {
   "cell_type": "code",
   "execution_count": null,
   "metadata": {
    "collapsed": true
   },
   "outputs": [],
   "source": [
    "!/Applications/kallisto/kallisto index \\\n",
    "-i /Users/yaaminivenkataraman/Documents/School/Year1/FISH-546/yaaminiv-fish546-2016/data/kallisto-index-OlyO-v6 \\\n",
    "/Users/yaaminivenkataraman/Documents/School/Year1/FISH-546/yaaminiv-fish546-2016/data/OlyO_v6_transcriptome.fa \\"
   ]
  },
  {
   "cell_type": "markdown",
   "metadata": {},
   "source": [
    "I can now use my newly created index to run 4 separate commands to quantify my reads in the larger transcriptome. The code is as follows:\n",
    "\n",
    "1. Define the program, `kallisto quant`\n",
    "2. `-i` indicates when index to use\n",
    "3. `-o` tells the program where to write the output\n",
    "4. `--single` allows me to process single-end reads\n",
    "5. `-l` estimated average fragment length from [FastQC output](https://github.com/yaaminiv/yaaminiv-fish546-2016/blob/master/notebooks/2016-10-19-oly-gonad-OA-part-1-FASTQC-results.ipynb)\n",
    "6. `-s` estimated standard deviation of fragment length. I changed this from 20% to 10%, or 0.10.\n",
    "7. fastq file to be used\n",
    "\n",
    "### 2. **filtered_106A_Female_Mix_GATCAG_L004_R1.fastq**"
   ]
  },
  {
   "cell_type": "code",
   "execution_count": 2,
   "metadata": {
    "collapsed": false
   },
   "outputs": [
    {
     "name": "stdout",
     "output_type": "stream",
     "text": [
      "\n",
      "[quant] fragment length distribution is truncated gaussian with mean = 76, sd = 0.1\n",
      "[index] k-mer length: 31\n",
      "[index] number of targets: 148,557\n",
      "[index] number of k-mers: 74,111,966\n",
      "[index] number of equivalence classes: 349,214\n",
      "[quant] running in single-end mode\n",
      "[quant] will process file 1: /Users/yaaminivenkataraman/Documents/School/Year1/FISH-546/yaaminiv-fish546-2016/data/filtered_106A_Female_Mix_GATCAG_L004_R1.fastq\n",
      "[quant] finding pseudoalignments for the reads ... done\n",
      "[quant] processed 39,823,239 reads, 34,794,164 reads pseudoaligned\n",
      "[   em] quantifying the abundances ... done\n",
      "[   em] the Expectation-Maximization algorithm ran for 1,194 rounds\n",
      "\n"
     ]
    }
   ],
   "source": [
    "!/Applications/kallisto/kallisto quant \\\n",
    "-i /Users/yaaminivenkataraman/Documents/School/Year1/FISH-546/yaaminiv-fish546-2016/data/kallisto-index-OlyO-v6 \\\n",
    "-o /Users/yaaminivenkataraman/Documents/School/Year1/FISH-546/yaaminiv-fish546-2016/analyses/11-29-kallisto-female-106 \\\n",
    "--single \\\n",
    "-l 76 \\\n",
    "-s .10 \\\n",
    "/Users/yaaminivenkataraman/Documents/School/Year1/FISH-546/yaaminiv-fish546-2016/data/filtered_106A_Female_Mix_GATCAG_L004_R1.fastq"
   ]
  },
  {
   "cell_type": "markdown",
   "metadata": {},
   "source": [
    "[`kallisto quant` analysis results](https://github.com/yaaminiv/yaaminiv-fish546-2016/tree/master/analyses/11-29-kallisto-female-106)"
   ]
  },
  {
   "cell_type": "markdown",
   "metadata": {},
   "source": [
    "### 3. **filtered_106A_Male_Mix_TAGCTT_L004_R1.fastq**"
   ]
  },
  {
   "cell_type": "code",
   "execution_count": 3,
   "metadata": {
    "collapsed": false
   },
   "outputs": [
    {
     "name": "stdout",
     "output_type": "stream",
     "text": [
      "\n",
      "[quant] fragment length distribution is truncated gaussian with mean = 76, sd = 0.1\n",
      "[index] k-mer length: 31\n",
      "[index] number of targets: 148,557\n",
      "[index] number of k-mers: 74,111,966\n",
      "[index] number of equivalence classes: 349,214\n",
      "[quant] running in single-end mode\n",
      "[quant] will process file 1: /Users/yaaminivenkataraman/Documents/School/Year1/FISH-546/yaaminiv-fish546-2016/data/filtered_106A_Male_Mix_TAGCTT_L004_R1.fastq\n",
      "[quant] finding pseudoalignments for the reads ... done\n",
      "[quant] processed 59,446,949 reads, 54,059,394 reads pseudoaligned\n",
      "[   em] quantifying the abundances ... done\n",
      "[   em] the Expectation-Maximization algorithm ran for 1,141 rounds\n",
      "\n"
     ]
    }
   ],
   "source": [
    "!/Applications/kallisto/kallisto quant \\\n",
    "-i /Users/yaaminivenkataraman/Documents/School/Year1/FISH-546/yaaminiv-fish546-2016/data/kallisto-index-OlyO-v6 \\\n",
    "-o /Users/yaaminivenkataraman/Documents/School/Year1/FISH-546/yaaminiv-fish546-2016/analyses/11-29-kallisto-male-106 \\\n",
    "--single \\\n",
    "-l 76 \\\n",
    "-s .10 \\\n",
    "/Users/yaaminivenkataraman/Documents/School/Year1/FISH-546/yaaminiv-fish546-2016/data/filtered_106A_Male_Mix_TAGCTT_L004_R1.fastq"
   ]
  },
  {
   "cell_type": "markdown",
   "metadata": {},
   "source": [
    "[`kallisto quant` analysis results](https://github.com/yaaminiv/yaaminiv-fish546-2016/tree/master/analyses/11-29-kallisto-male-106)"
   ]
  },
  {
   "cell_type": "markdown",
   "metadata": {},
   "source": [
    "### 4. **filtered_108A_Female_Mix_GGCTAC_L004_R1.fastq**"
   ]
  },
  {
   "cell_type": "code",
   "execution_count": 4,
   "metadata": {
    "collapsed": false
   },
   "outputs": [
    {
     "name": "stdout",
     "output_type": "stream",
     "text": [
      "\n",
      "[quant] fragment length distribution is truncated gaussian with mean = 76, sd = 0.1\n",
      "[index] k-mer length: 31\n",
      "[index] number of targets: 148,557\n",
      "[index] number of k-mers: 74,111,966\n",
      "[index] number of equivalence classes: 349,214\n",
      "[quant] running in single-end mode\n",
      "[quant] will process file 1: /Users/yaaminivenkataraman/Documents/School/Year1/FISH-546/yaaminiv-fish546-2016/data/filtered_108A_Female_Mix_GGCTAC_L004_R1.fastq\n",
      "[quant] finding pseudoalignments for the reads ... done\n",
      "[quant] processed 45,936,627 reads, 41,710,716 reads pseudoaligned\n",
      "[   em] quantifying the abundances ... done\n",
      "[   em] the Expectation-Maximization algorithm ran for 1,171 rounds\n",
      "\n"
     ]
    }
   ],
   "source": [
    "!/Applications/kallisto/kallisto quant \\\n",
    "-i /Users/yaaminivenkataraman/Documents/School/Year1/FISH-546/yaaminiv-fish546-2016/data/kallisto-index-OlyO-v6 \\\n",
    "-o /Users/yaaminivenkataraman/Documents/School/Year1/FISH-546/yaaminiv-fish546-2016/analyses/11-29-kallisto-female-108 \\\n",
    "--single \\\n",
    "-l 76 \\\n",
    "-s .10 \\\n",
    "/Users/yaaminivenkataraman/Documents/School/Year1/FISH-546/yaaminiv-fish546-2016/data/filtered_108A_Female_Mix_GGCTAC_L004_R1.fastq"
   ]
  },
  {
   "cell_type": "markdown",
   "metadata": {},
   "source": [
    "[`kallisto quant` analysis results](https://github.com/yaaminiv/yaaminiv-fish546-2016/tree/master/analyses/11-29-kallisto-female-108)"
   ]
  },
  {
   "cell_type": "markdown",
   "metadata": {},
   "source": [
    "### 5. **filtered_108A_Male_Mix_AGTCAA_L004_R1.fastq**"
   ]
  },
  {
   "cell_type": "code",
   "execution_count": 5,
   "metadata": {
    "collapsed": false
   },
   "outputs": [
    {
     "name": "stdout",
     "output_type": "stream",
     "text": [
      "\n",
      "[quant] fragment length distribution is truncated gaussian with mean = 76, sd = 0.1\n",
      "[index] k-mer length: 31\n",
      "[index] number of targets: 148,557\n",
      "[index] number of k-mers: 74,111,966\n",
      "[index] number of equivalence classes: 349,214\n",
      "[quant] running in single-end mode\n",
      "[quant] will process file 1: /Users/yaaminivenkataraman/Documents/School/Year1/FISH-546/yaaminiv-fish546-2016/data/filtered_108A_Male_Mix_AGTCAA_L004_R1.fastq\n",
      "[quant] finding pseudoalignments for the reads ... done\n",
      "[quant] processed 55,791,565 reads, 50,931,304 reads pseudoaligned\n",
      "[   em] quantifying the abundances ... done\n",
      "[   em] the Expectation-Maximization algorithm ran for 1,285 rounds\n",
      "\n"
     ]
    }
   ],
   "source": [
    "!/Applications/kallisto/kallisto quant \\\n",
    "-i /Users/yaaminivenkataraman/Documents/School/Year1/FISH-546/yaaminiv-fish546-2016/data/kallisto-index-OlyO-v6 \\\n",
    "-o /Users/yaaminivenkataraman/Documents/School/Year1/FISH-546/yaaminiv-fish546-2016/analyses/11-29-kallisto-male-108 \\\n",
    "--single \\\n",
    "-l 76 \\\n",
    "-s .10 \\\n",
    "/Users/yaaminivenkataraman/Documents/School/Year1/FISH-546/yaaminiv-fish546-2016/data/filtered_108A_Male_Mix_AGTCAA_L004_R1.fastq"
   ]
  },
  {
   "cell_type": "markdown",
   "metadata": {},
   "source": [
    "[`kallisto quant` analysis results](https://github.com/yaaminiv/yaaminiv-fish546-2016/tree/master/analyses/11-29-kallisto-male-108)"
   ]
  },
  {
   "cell_type": "markdown",
   "metadata": {},
   "source": [
    "## 2. Rerun DESeq2\n",
    "\n",
    "Now that I have my revised count data, I can use [DESeq2](https://github.com/yaaminiv/yaaminiv-fish546-2016/blob/master/tutorials/DESeq2-tutorial/2016-10-26-DESeq2-Tutorial-Part-2.ipynb) to analyze differential expression. The process I used was adapted from [this notebook](https://github.com/yaaminiv/yaaminiv-fish546-2016/blob/master/notebooks/2016-11-11-oly-gonad-OA-part4-differential-expression.ipynb).\n",
    "\n",
    "### 1. Reformat `kallisto quant` output files\n",
    "\n",
    "#### Convert to a `.txt` file\n",
    "\n",
    "See [previous notebook](https://github.com/yaaminiv/yaaminiv-fish546-2016/blob/master/notebooks/2016-11-11-oly-gonad-OA-part4-differential-expression.ipynb). \n",
    "\n",
    "#### Merge count data files\n",
    "\n",
    "See [previous notebook](https://github.com/yaaminiv/yaaminiv-fish546-2016/blob/master/notebooks/2016-11-11-oly-gonad-OA-part4-differential-expression.ipynb)."
   ]
  },
  {
   "cell_type": "markdown",
   "metadata": {},
   "source": [
    "### 2. Use DESeq2 in R\n",
    "\n",
    "I am now ready to complete my analyses in R.\n",
    "\n",
    "The first thing I did was use DESeq2 to compare differentially expressed genes in all treatments, with the two p-values I used in my previous DESeq2 analysis. I still found a sparse number of genes indicated as differentially expressed between all treatments when my p-value was 0.05.\n",
    "\n",
    "p-value = 0.05\n",
    "\n",
    "[Count data](https://raw.githubusercontent.com/yaaminiv/yaaminiv-fish546-2016/master/data/2016-11-29-count-data/2016-11-29-oly-gonad-oa-count-data.txt)\n",
    "\n",
    "[R Script](https://github.com/yaaminiv/yaaminiv-fish546-2016/blob/master/analyses/11-29-oly-oa-gonad-DESeq2/2016-11-29-alltreatments-DESeq2.R)\n",
    "\n",
    "[List of differentially expressed genes](https://github.com/yaaminiv/yaaminiv-fish546-2016/blob/master/analyses/11-29-oly-oa-gonad-DESeq2/alltreatments_DEG.tab)\n",
    "\n",
    "![all treatments](https://raw.githubusercontent.com/yaaminiv/yaaminiv-fish546-2016/master/analyses/11-29-oly-oa-gonad-DESeq2/alltreatments.png)\n",
    "\n",
    "p-value = 0.5\n",
    "\n",
    "[R Script (p = 0.5)](https://github.com/yaaminiv/yaaminiv-fish546-2016/blob/master/analyses/11-29-oly-oa-gonad-DESeq2/2016-11-29-alltreatments-DESeq2.R)\n",
    "\n",
    "[List of differentially expressed genes (p = 0.5)](https://github.com/yaaminiv/yaaminiv-fish546-2016/blob/master/analyses/11-29-oly-oa-gonad-DESeq2/alltreatments-p0.5-_DEG.tab)\n",
    "\n",
    "![all treatments (p = 0.5)](https://raw.githubusercontent.com/yaaminiv/yaaminiv-fish546-2016/master/analyses/11-29-oly-oa-gonad-DESeq2/alltreatments-p0.5-.png)\n",
    "\n",
    "For all of my pairwise comparisons, I once again found no significant differences in differentially expressed genes.\n",
    "\n",
    "#### Control vs. Ocean Acidification conditions\n",
    "\n",
    "**Female_106 vs. Female_108**\n",
    "\n",
    "[Count data](https://raw.githubusercontent.com/yaaminiv/yaaminiv-fish546-2016/master/data/2016-11-29-count-data/2016-11-29-oly-gonad-oa-count-data-female106-female108.txt)\n",
    "\n",
    "[R Script](https://github.com/yaaminiv/yaaminiv-fish546-2016/blob/master/analyses/11-29-oly-oa-gonad-DESeq2/2016-11-29-female106-female108-DESeq2.R)\n",
    "\n",
    "![female-106 vs. female-108](https://raw.githubusercontent.com/yaaminiv/yaaminiv-fish546-2016/master/analyses/11-29-oly-oa-gonad-DESeq2/female106-female108.png)\n",
    "\n",
    "**Male_106 vs. Male_108**\n",
    "\n",
    "[Count data](https://raw.githubusercontent.com/yaaminiv/yaaminiv-fish546-2016/master/data/2016-11-29-count-data/2016-11-29-oly-gonad-oa-count-data-male106-male108.txt)\n",
    "\n",
    "[R Script](https://github.com/yaaminiv/yaaminiv-fish546-2016/blob/master/analyses/11-29-oly-oa-gonad-DESeq2/2016-11-29-male106-male108-DESeq2.R)\n",
    "\n",
    "![male-106 vs. male-108](https://raw.githubusercontent.com/yaaminiv/yaaminiv-fish546-2016/master/analyses/11-29-oly-oa-gonad-DESeq2/male106-male108.png)\n",
    "\n",
    "#### Female vs. Male Gonads\n",
    "\n",
    "**Female_106 vs. Male_106**\n",
    "\n",
    "[Count data](https://raw.githubusercontent.com/yaaminiv/yaaminiv-fish546-2016/master/data/2016-11-29-count-data/2016-11-29-oly-gonad-oa-count-data-female106-male106.txt)\n",
    "\n",
    "[R Script](https://github.com/yaaminiv/yaaminiv-fish546-2016/blob/master/analyses/11-29-oly-oa-gonad-DESeq2/2016-11-29-female106-male106-DESeq2.R)\n",
    "\n",
    "![female-106 vs. male-106](https://raw.githubusercontent.com/yaaminiv/yaaminiv-fish546-2016/master/analyses/11-29-oly-oa-gonad-DESeq2/female106-male106.png)\n",
    "\n",
    "**Female_108 vs. Male_108**\n",
    "\n",
    "[Count data](https://raw.githubusercontent.com/yaaminiv/yaaminiv-fish546-2016/master/data/2016-11-29-count-data/2016-11-29-oly-gonad-oa-count-data-female108-male108.txt)\n",
    "\n",
    "[R Script](https://github.com/yaaminiv/yaaminiv-fish546-2016/blob/master/analyses/11-29-oly-oa-gonad-DESeq2/2016-11-29-female108-male108-DESeq2.R)\n",
    "\n",
    "![female-108 vs. male-108](https://raw.githubusercontent.com/yaaminiv/yaaminiv-fish546-2016/master/analyses/11-29-oly-oa-gonad-DESeq2/female108-male108.png)\n",
    "\n",
    "Once again, when I examined the adjusted p-values (p-adj) for each comparison, I found the following:\n",
    "\n",
    "- Female_106 vs. Female_108: No p-adj less than 0.9996995\n",
    "- Male_106 vs. Male_108: No p-adj less than 1\n",
    "- Female_106 vs. Male_106: No p-adj less than 0.9996995\n",
    "- Female_108 vs. Male_108: No p-adj less than 1\n",
    "\n",
    "Now I'm really stumped! My next step will either by trying a pairwise comparison between Female_106 and Male_108 to see if that's really where the differences are, or rerunning `kallisto quant` with an extreme standard deviation value of 0."
   ]
  },
  {
   "cell_type": "markdown",
   "metadata": {
    "collapsed": true
   },
   "source": [
    "Update 2016-11-30: After talking to my adviser, I learned that performing pairwise comparisons using DESeq2 is not scientifically valuable! I will proceed with my analyses using the `kallisto quant` files generated here with a standard deviation of 10%."
   ]
  },
  {
   "cell_type": "code",
   "execution_count": null,
   "metadata": {
    "collapsed": true
   },
   "outputs": [],
   "source": [
    "With a p-value of 0.05"
   ]
  }
 ],
 "metadata": {
  "anaconda-cloud": {},
  "kernelspec": {
   "display_name": "Python [default]",
   "language": "python",
   "name": "python3"
  },
  "language_info": {
   "codemirror_mode": {
    "name": "ipython",
    "version": 3
   },
   "file_extension": ".py",
   "mimetype": "text/x-python",
   "name": "python",
   "nbconvert_exporter": "python",
   "pygments_lexer": "ipython3",
   "version": "3.5.2"
  }
 },
 "nbformat": 4,
 "nbformat_minor": 1
}
