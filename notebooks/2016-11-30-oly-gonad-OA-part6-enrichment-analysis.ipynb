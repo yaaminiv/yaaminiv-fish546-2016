{
 "cells": [
  {
   "cell_type": "markdown",
   "metadata": {},
   "source": [
    "# Enrichment Analysis"
   ]
  },
  {
   "cell_type": "markdown",
   "metadata": {},
   "source": [
    "With my list of [differentially expressed genes](https://github.com/yaaminiv/yaaminiv-fish546-2016/blob/master/analyses/11-29-oly-oa-gonad-DESeq2/alltreatments_DEG.tab), I can now look at gene ontology information and perform an enrichment analysis. An enrichment analysis will allow me to pinpoint what kinds of genes are overrepresented or underrepresented in a given set.\n",
    "\n",
    "## Gene Ontology\n",
    "\n",
    "### 1. Add gene ontology information to list of differentially expressed genes\n",
    "\n",
    "Below is the beginning of a list of differentially expressed genes I got from [running DESeq2](https://github.com/yaaminiv/yaaminiv-fish546-2016/blob/master/notebooks/2016-11-29-oly-gonad-OA-part5-rerun-kallisto-and-DESeq2.ipynb)."
   ]
  },
  {
   "cell_type": "code",
   "execution_count": 2,
   "metadata": {
    "collapsed": false
   },
   "outputs": [
    {
     "name": "stdout",
     "output_type": "stream",
     "text": [
      "\"baseMean\" \"log2FoldChange\" \"lfcSE\" \"stat\" \"pvalue\" \"padj\"\r\n",
      "\"TR10418|c0_g1_i2\" 99.2689184600947 3.90102556999899 0.807820269392353 4.82907611730684 1.37167971831525e-06 0.000473463085959198\r\n",
      "\"TR10420|c0_g2_i1\" 38.9648007584533 3.54148666848115 0.861278080501017 4.11189689910721 3.92421546453502e-05 0.00761401699918243\r\n",
      "\"TR10575|c0_g1_i1\" 107.478137503231 -3.75903769608299 0.856245144747706 -4.39014191104184 1.13276710929445e-05 0.00268446080102374\r\n",
      "\"TR10582|c0_g1_i1\" 82.6014585935418 -3.11245368383342 0.81326697440945 -3.8270995648059 0.000129662077566162 0.0201509251933043\r\n",
      "\"TR10657|c0_g1_i1\" 28.3908317918275 3.34049823530964 0.864214734413415 3.86535672476933 0.000110926951533922 0.0178207047078957\r\n",
      "\"TR10929|c0_g1_i1\" 43.3329920126906 -3.70741698561267 0.78398411867666 -4.72894398915972 2.25690629601444e-06 0.000698080169163663\r\n",
      "\"TR1130|c0_g1_i1\" 25.4609321950379 -3.41442195084245 0.846586873716278 -4.03316193157366 5.5031329783768e-05 0.0100627057476204\r\n",
      "\"TR1135|c0_g2_i1\" 67.0151996127385 4.46472953668402 0.797659403467611 5.59728816243475 2.17730644627621e-08 1.33225482042411e-05\r\n",
      "\"TR12632|c0_g1_i1\" 115.583272883197 -2.94294912726149 0.820877430751186 -3.5851261309114 0.000336915336291347 0.0442716046103004\r\n"
     ]
    }
   ],
   "source": [
    "!head /Users/yaamini/Documents/yaaminiv-fish546-2016/analyses/11-29-oly-oa-gonad-DESeq2/alltreatments_DEG.tab"
   ]
  },
  {
   "cell_type": "markdown",
   "metadata": {},
   "source": [
    "This list does not include any gene ontology information included in my [blastx output](https://raw.githubusercontent.com/yaaminiv/yaaminiv-fish546-2016/master/analyses/blastx-11-14-best-matches). My first step involves combining the information from these two tables. I will follow a protocol outlined in [this R Script](https://github.com/yaaminiv/yaaminiv-fish546-2016/blob/master/tutorials/DESeq2-tutorial/2016-10-26-DESeq2-Tutorial.R).\n",
    "\n",
    "First, I converted my *O. lurida* transcriptome to a `.tab` file using [Galaxy](https://usegalaxy.org).\n",
    "\n",
    "#### Uploaded data to Galaxy\n",
    "\n",
    "![uploading data](https://raw.githubusercontent.com/yaaminiv/yaaminiv-fish546-2016/master/analyses/oly_oa_gonad_GO_enrichment/01-uploaddata.png)\n",
    "\n",
    "#### Used FASTA-to-Tabular converted\n",
    "\n",
    "#### Downloaded new `.tab` file\n",
    "\n",
    "#### Merge differentially expressed genes with Uniprot information\n",
    "\n",
    "[R Script I used to merge tables](https://github.com/yaaminiv/yaaminiv-fish546-2016/blob/master/analyses/oly_oa_gonad_GO_enrichment/2016-12-2-merging-tables.R)"
   ]
  },
  {
   "cell_type": "code",
   "execution_count": null,
   "metadata": {
    "collapsed": true
   },
   "outputs": [],
   "source": [
    "!head"
   ]
  },
  {
   "cell_type": "markdown",
   "metadata": {},
   "source": [
    "### 2. Extract Uniprot Accession codes\n",
    "\n",
    "I will use [DAVID](https://david.ncifcrf.gov/tools.jsp) get gene ontology information. DAVID requires two inputs, the first of which is a list of genes to use as a background for comparing my differentially expressed genes. DAVID needs Uniprot Accession codes, but these codes are currently nested inbetween other content in one column. "
   ]
  },
  {
   "cell_type": "code",
   "execution_count": 1,
   "metadata": {
    "collapsed": false
   },
   "outputs": [
    {
     "name": "stdout",
     "output_type": "stream",
     "text": [
      "TR1|c0_g1_i1\tsp|P07104|FANA_ECOLX\t39.53\t43\t15\t2\t197\t292\t4\t46\t9.2\t28.1\r\n",
      "TR1|c0_g2_i1\tsp|P07104|FANA_ECOLX\t39.53\t43\t15\t2\t197\t292\t4\t46\t9.4\t28.1\r\n",
      "TR2|c0_g1_i1\tsp|Q95J40|CCDC7_MACFA\t33.33\t51\t29\t1\t359\t222\t112\t162\t0.63\t32.7\r\n",
      "TR3|c0_g1_i1\tsp|Q8TCU5|NMD3A_HUMAN\t40.48\t84\t50\t0\t5\t256\t586\t669\t7e-15\t73.6\r\n",
      "TR4|c0_g1_i1\tsp|P27473|IFI44_PANTR\t34.52\t84\t51\t2\t1\t252\t142\t221\t1e-08\t55.8\r\n",
      "TR5|c0_g1_i1\tsp|Q12432|EAF3_YEAST\t52.00\t25\t11\t1\t146\t217\t265\t289\t7.3\t28.1\r\n",
      "TR6|c0_g1_i1\tsp|Q8N461|FXL16_HUMAN\t39.13\t92\t53\t1\t129\t395\t82\t173\t3e-14\t72.8\r\n",
      "TR7|c0_g1_i1\tsp|Q69FB6|CP19A_LAGAC\t32.79\t61\t38\t2\t199\t20\t184\t242\t3.9\t30.0\r\n",
      "TR8|c0_g1_i1\tsp|Q9UBX5|FBLN5_HUMAN\t40.65\t123\t66\t5\t3\t371\t123\t238\t4e-18\t83.2\r\n",
      "TR8|c0_g1_i1\tsp|Q9UBX5|FBLN5_HUMAN\t32.20\t118\t73\t3\t9\t356\t205\t317\t1e-07\t52.8\r\n"
     ]
    }
   ],
   "source": [
    "!head /Users/yaamini/Documents/yaaminiv-fish546-2016/analyses/blastx-11-14-best-matches"
   ]
  },
  {
   "cell_type": "markdown",
   "metadata": {},
   "source": [
    "In the first line, the accession code would be \"P07104.\" My first step is to extract these codes into a separate column.\n",
    "\n",
    "### 3. Create file Uniprot Accession codes\n",
    "\n",
    "### 4. DAVID\n",
    "\n",
    "#### Upload background genes\n",
    "\n",
    "#### Upload gene list\n",
    "\n",
    "### 5. Analyze data"
   ]
  }
 ],
 "metadata": {
  "anaconda-cloud": {},
  "kernelspec": {
   "display_name": "Python [default]",
   "language": "python",
   "name": "python3"
  },
  "language_info": {
   "codemirror_mode": {
    "name": "ipython",
    "version": 3
   },
   "file_extension": ".py",
   "mimetype": "text/x-python",
   "name": "python",
   "nbconvert_exporter": "python",
   "pygments_lexer": "ipython3",
   "version": "3.5.2"
  }
 },
 "nbformat": 4,
 "nbformat_minor": 1
}
