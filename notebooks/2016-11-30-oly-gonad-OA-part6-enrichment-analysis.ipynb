{
 "cells": [
  {
   "cell_type": "markdown",
   "metadata": {},
   "source": [
    "# Enrichment Analysis"
   ]
  },
  {
   "cell_type": "markdown",
   "metadata": {},
   "source": [
    "With my list of [differentially expressed genes](https://github.com/yaaminiv/yaaminiv-fish546-2016/blob/master/analyses/11-29-oly-oa-gonad-DESeq2/alltreatments_DEG.tab), I can now look at gene ontology information and perform an enrichment analysis. An enrichment analysis will allow me to pinpoint what kinds of genes are overrepresented or underrepresented in a given set.\n",
    "\n",
    "## Gene Ontology\n",
    "\n",
    "I will use [DAVID](https://david.ncifcrf.gov/tools.jsp) get gene ontology information.\n",
    "\n",
    "### 1. Extract Uniprot Accession codes\n",
    "\n",
    "DAVID requires two inputs, the first of which is a list of genes to use as a background for comparing my differentially expressed genes. DAVID needs Uniprot Accession codes, but these codes are currently nested inbetween other content in one column. "
   ]
  },
  {
   "cell_type": "code",
   "execution_count": null,
   "metadata": {
    "collapsed": true
   },
   "outputs": [],
   "source": [
    "!head /Users/yaamini/Documents/yaaminiv-fish546-2016/analyses/blastx-11-14-best-matches"
   ]
  },
  {
   "cell_type": "markdown",
   "metadata": {},
   "source": [
    "My first step is to extract these codes into a separate column.\n",
    "\n",
    "### 2. Copy Uniprot Accession codes\n",
    "\n",
    "### 3. Upload background genes\n",
    "\n",
    "### 4. Upload gene list\n",
    "\n",
    "### 5. Analyze data"
   ]
  }
 ],
 "metadata": {
  "anaconda-cloud": {},
  "kernelspec": {
   "display_name": "Python [default]",
   "language": "python",
   "name": "python3"
  },
  "language_info": {
   "codemirror_mode": {
    "name": "ipython",
    "version": 3
   },
   "file_extension": ".py",
   "mimetype": "text/x-python",
   "name": "python",
   "nbconvert_exporter": "python",
   "pygments_lexer": "ipython3",
   "version": "3.5.2"
  }
 },
 "nbformat": 4,
 "nbformat_minor": 1
}
