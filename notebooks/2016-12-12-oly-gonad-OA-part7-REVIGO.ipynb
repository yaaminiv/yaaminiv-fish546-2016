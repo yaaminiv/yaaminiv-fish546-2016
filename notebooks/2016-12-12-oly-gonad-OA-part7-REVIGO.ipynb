{
 "cells": [
  {
   "cell_type": "markdown",
   "metadata": {},
   "source": [
    "# Enrichment Analysis\n",
    "\n",
    "Using my gene enrichment results from [DAVID](https://david.ncifcrf.gov/tools.jsp), I can create images that visually represent my analysis. [REVIGO](http://revigo.irb.hr/) compiles gene ontology (GO) terms and an associated value into interactive graphs.\n",
    "\n",
    "I used GO terms and p-values from the following DAVID tables: [Biological Processes](https://github.com/yaaminiv/yaaminiv-fish546-2016/blob/master/analyses/oly_oa_gonad_GO_enrichment/GO_BP_DIRECT.txt), [Cellular Components](https://github.com/yaaminiv/yaaminiv-fish546-2016/blob/master/analyses/oly_oa_gonad_GO_enrichment/GO_CC_DIRECT.txt) and [Molecular Function](https://github.com/yaaminiv/yaaminiv-fish546-2016/blob/master/analyses/oly_oa_gonad_GO_enrichment/GO_MF_DIRECT.txt). After organizing each file by ascending p-values, I copied and pasted all entries with a p-value ≥ 0.05 into a new spreadsheet with [statistically significant results](https://github.com/yaaminiv/yaaminiv-fish546-2016/blob/master/analyses/oly_oa_gonad_GO_enrichment/Significant_Results.xlsx).\n",
    "\n",
    "## Biological Processes\n",
    "According to the [Gene Ontology Consortium](http://www.geneontology.org), biological processes refer to \"pathways and larger processes made up of the activities of multiple gene products.\"\n",
    "\n",
    "To use REVIGO, I copied and pasted the GO term and associated p-value from the table of significant results into REVIGO. I specified that the numbers were p-values, and used default settings under \"Advanced Options\" (whole UniProt (default) and SimRel).\n",
    "\n",
    "![copy and paste into REVIGO](https://raw.githubusercontent.com/yaaminiv/yaaminiv-fish546-2016/master/analyses/oly_oa_gonad_REVIGO/01-copyintorevigo.png)\n",
    "\n",
    "I modified the scatterplot settings in REVIGO, changing the color to \"semantic space X\" and size to \"log10 p-value.\" My final scatterplot looked like this:\n",
    "\n",
    "![BP scatterplot](https://raw.githubusercontent.com/yaaminiv/yaaminiv-fish546-2016/master/analyses/oly_oa_gonad_REVIGO/scatterplots/GO_BP_REVIGO.png)\n",
    "\n",
    "Additionally, I looked at a tree map to understand how specific processes can be traced to general or parent GO SLIM terms.\n",
    "\n",
    "![BP treemap](https://raw.githubusercontent.com/yaaminiv/yaaminiv-fish546-2016/master/analyses/oly_oa_gonad_REVIGO/tree_maps/GO_BP_REVIGO_treemap.png)\n",
    "\n",
    "Based off of the scatterplot and treemap, the main biological process differentially represented in control and ocean acidification conditions is the positive regulation of GTPase activity (orange and red in scatterplot, blue in tree map). Multicellular organismal development was the second most-represented process, including specific processes like epithelial cell differentiation, and striated muscular contraction (four blue-green dots in the upper left corner on scatterplot, green in tree map). The proportional representation of multicellular organismal development makes sense since my samples originated from gonad tissue. The third most-represented set of processes involved protein localization to the cell surface (lime green and yellow in scatterplot, purple in tree map). This indicates that functions like protein transport to the plasma membrane vary between control and ocean acidification conditions.\n",
    "\n",
    "I also downloaded a [table of GO BP terms](https://github.com/yaaminiv/yaaminiv-fish546-2016/blob/master/analyses/oly_oa_gonad_REVIGO/term_tables/GO_BP_REVIGO_termtable.csv) and [GO BP R script](https://github.com/yaaminiv/yaaminiv-fish546-2016/blob/master/analyses/oly_oa_gonad_REVIGO/R_scripts/GO_BP_REVIGO_scatterplot.r) to recreate the plot provided by REVIGO.\n",
    "\n",
    "## Cellular Components\n",
    "Cellular components specify \"where gene products are active\" ([Gene Ontology Consortium](http://www.geneontology.org)).\n",
    "\n",
    "I repeated the protocol I used to generate the scatterplot and tree map for the Cellular Components and Molecular Function GO terms. Here's the one for Cellular Components:\n",
    "\n",
    "![CC scatterplot](https://raw.githubusercontent.com/yaaminiv/yaaminiv-fish546-2016/master/analyses/oly_oa_gonad_REVIGO/scatterplots/GO_CC_REVIGO.png)\n",
    "\n",
    "![CC treemap](https://raw.githubusercontent.com/yaaminiv/yaaminiv-fish546-2016/master/analyses/oly_oa_gonad_REVIGO/tree_maps/GO_CC_REVIGO_treemap.png)\n",
    "\n",
    "[table of GO CC terms](https://github.com/yaaminiv/yaaminiv-fish546-2016/blob/master/analyses/oly_oa_gonad_REVIGO/term_tables/GO_CC_REVIGO_termtable.csv)\n",
    "\n",
    "[GO CC R Script](https://github.com/yaaminiv/yaaminiv-fish546-2016/blob/master/analyses/oly_oa_gonad_REVIGO/R_scripts/GO_CC_REVIGO_scatterplot.r)\n",
    "\n",
    "Gene products are mainly active as collagen trimers (cluster of three red spots on scatterplot, green in tree map). According to [AmiGO 2](http://amigo.geneontology.org/amigo/term/GO:0005581), the trimer is a \"protein complex consisting of three collagen chains assembled into a left-hand triple helix,\" which is then used to create higher order protein structures. The [following paper](http://link.springer.com/article/10.1111/j.1444-2906.2005.00952.x) suggests that collagen is used in Pacific oysters, *Crassostrea gigas* as a heterotrimer to form the oyster's mantle. It is likely that *O. lurida* uses collagen for this purpose as well.\n",
    "\n",
    "The second cellular location where gene products are active is the apical cortext (three blue dots in upper left coner on scatterplot, red in tree map). The apical cortex is the area just under the plasma membrane ([AmiGO 2](http://amigo.geneontology.org/amigo/term/GO:0045179)). \n",
    "\n",
    "## Molecular Function\n",
    "The \"molecular activities of gene products\" are classified by molecular function ([Gene Ontology Consortium](http://www.geneontology.org)).\n",
    "\n",
    "![MF scatterplot](https://raw.githubusercontent.com/yaaminiv/yaaminiv-fish546-2016/master/analyses/oly_oa_gonad_REVIGO/scatterplots/GO_MF_REVIGO.png)\n",
    "\n",
    "![MF treemap](https://raw.githubusercontent.com/yaaminiv/yaaminiv-fish546-2016/master/analyses/oly_oa_gonad_REVIGO/tree_maps/GO_MF_REVIGO_treemap.png)\n",
    "\n",
    "[table of GO MF terms](https://github.com/yaaminiv/yaaminiv-fish546-2016/blob/master/analyses/oly_oa_gonad_REVIGO/term_tables/GO_MF_REVIGO_termtable.csv)\n",
    "\n",
    "[GO MF R Script](https://github.com/yaaminiv/yaaminiv-fish546-2016/blob/master/analyses/oly_oa_gonad_REVIGO/R_scripts/GO_MF_REVIGO_scatterplot.r)\n",
    "\n",
    "The main molecular function exhibited by differentially expressed genes is [ubiquitin-protein transferase activity](http://amigo.geneontology.org/amigo/term/GO:0004842) (three blue dots in scatterplot, purple in tree map). This involves catalyzing the reaction that transfers ubiquitin from one protein to another. Ubiquitin helps degrade extraneous proteins. Another major molecular function exhibited by differentially expressed genes is calcium ion binding (top green dots in scatterplot, red in tree map). Calcium ion binding is a key component of biomineralisation for shell formation. Endonuclease activity was also a molecular function exhibited by differentially expressed genes (red in scatterplot, green in tree map). Deoxyribonucleases and restriction enzymes fall under this category.\n",
    "\n",
    "## Difference between gonads?\n",
    "My project question asks if there is a different in gene expression between *O. lurida* gonads exposed to ocean acidification conditions versus control conditions. Well, is there?\n",
    "\n",
    "Differences in gene expression products in the [sarcomere](http://amigo.geneontology.org/amigo/term/GO:0030017) could compromise cell structure.\n",
    "\n",
    "Varying levels of gene product in the extracellular regions, axons and focal adhesion sites can also lead to different structural integrity between cells in control and ocean acidification treatments."
   ]
  },
  {
   "cell_type": "code",
   "execution_count": null,
   "metadata": {
    "collapsed": true
   },
   "outputs": [],
   "source": []
  }
 ],
 "metadata": {
  "anaconda-cloud": {},
  "kernelspec": {
   "display_name": "Python [default]",
   "language": "python",
   "name": "python3"
  },
  "language_info": {
   "codemirror_mode": {
    "name": "ipython",
    "version": 3
   },
   "file_extension": ".py",
   "mimetype": "text/x-python",
   "name": "python",
   "nbconvert_exporter": "python",
   "pygments_lexer": "ipython3",
   "version": "3.5.2"
  }
 },
 "nbformat": 4,
 "nbformat_minor": 1
}
