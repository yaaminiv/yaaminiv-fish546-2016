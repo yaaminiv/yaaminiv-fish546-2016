{
 "cells": [
  {
   "cell_type": "markdown",
   "metadata": {},
   "source": [
    "# Enrichment Analysis\n",
    "\n",
    "Using my gene enrichment results from [DAVID](https://david.ncifcrf.gov/tools.jsp), I can create images that visually represent my analysis. [REVIGO](http://revigo.irb.hr/) compiles gene ontology (GO) terms and an associated value into interactive graphs.\n",
    "\n",
    "I used GO terms and p-values from the following DAVID tables: [Biological Processes](https://github.com/yaaminiv/yaaminiv-fish546-2016/blob/master/analyses/oly_oa_gonad_GO_enrichment/GO_BP_DIRECT.txt), [Cellular Components](https://github.com/yaaminiv/yaaminiv-fish546-2016/blob/master/analyses/oly_oa_gonad_GO_enrichment/GO_CC_DIRECT.txt) and [Molecular Function](https://github.com/yaaminiv/yaaminiv-fish546-2016/blob/master/analyses/oly_oa_gonad_GO_enrichment/GO_MF_DIRECT.txt). After organizing each file by ascending p-values, I copied and pasted all entries with a p-value ≥ 0.05 into a new spreadsheet with [statistically significant results](https://github.com/yaaminiv/yaaminiv-fish546-2016/blob/master/analyses/oly_oa_gonad_GO_enrichment/Significant_Results.xlsx).\n",
    "\n",
    "## Biological Processes\n",
    "According to the [Gene Ontology Consortium](http://www.geneontology.org), biological processes refer to \"pathways and larger processes made up of the activities of multiple gene products.\"\n",
    "\n",
    "To use REVIGO, I copied and pasted the GO term and associated p-value from the table of significant results into REVIGO. I specified that the numbers were p-values, and used default settings under \"Advanced Options\" (whole UniProt (default) and SimRel).\n",
    "\n",
    "![copy and paste into REVIGO](https://raw.githubusercontent.com/yaaminiv/yaaminiv-fish546-2016/master/analyses/oly_oa_gonad_REVIGO/01-copyintorevigo.png)\n",
    "\n",
    "I modified the scatterplot settings in REVIGO, changing the color to \"semantic space X\" and size to \"log10 p-value.\" My final scatterplot looked like this:\n",
    "\n",
    "![BP scatterplot]()\n",
    "\n",
    "I also downloaded a [table of GO BP terms]() and [GO BP R script]() to recreate the plot provided by REVIGO.\n",
    "\n",
    "## Cellular Components\n",
    "Cellular components specify \"where gene products are active\" ([Gene Ontology Consortium](http://www.geneontology.org)).\n",
    "\n",
    "I repeated the protocol I used to generate the Biological Processes scatterplot for the Cellular Components and Molecular Function plots. Here's the one for Cellular Components:\n",
    "\n",
    "![CC scatterplot]()\n",
    "\n",
    "[table of GO CC terms]()\n",
    "\n",
    "[GO CC R Script]()\n",
    "\n",
    "## Molecular Function\n",
    "The \"molecular activities of gene products\" are classified by molecular function ([Gene Ontology Consortium](http://www.geneontology.org)).\n",
    "\n",
    "![MF scatterplot]()\n",
    "\n",
    "[table of GO MF terms]()\n",
    "\n",
    "[GO MF R Script]()"
   ]
  }
 ],
 "metadata": {
  "anaconda-cloud": {},
  "kernelspec": {
   "display_name": "Python [default]",
   "language": "python",
   "name": "python3"
  },
  "language_info": {
   "codemirror_mode": {
    "name": "ipython",
    "version": 3
   },
   "file_extension": ".py",
   "mimetype": "text/x-python",
   "name": "python",
   "nbconvert_exporter": "python",
   "pygments_lexer": "ipython3",
   "version": "3.5.2"
  }
 },
 "nbformat": 4,
 "nbformat_minor": 1
}
