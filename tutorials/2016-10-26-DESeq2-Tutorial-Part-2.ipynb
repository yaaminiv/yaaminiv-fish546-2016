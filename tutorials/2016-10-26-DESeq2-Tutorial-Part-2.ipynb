{
 "cells": [
  {
   "cell_type": "markdown",
   "metadata": {},
   "source": [
    "# DESeq2 Tutorial Part 2\n",
    "\n",
    "In the DESeq Tutorial, I learn how to use DESeq2 in R to find differentially expressed genes. The first part of the tutorial can be viewed [here](https://github.com/yaaminiv/yaaminiv-fish546-2016/blob/master/tutorials/2016-10-26-DESeq2-Tutorial.R). In this part of the tutorial, I will use the `Phel_DEGlist.tab` file as a database to find a gene in the *Ostrea lurida* (Olympia oyster) taxa that is similar to a gene differentially expressed in sea stars that exhibit wasting disease. To do this, I will use BLAST (click here to see a previously completed BLAST tutorial: [part 1](http://localhost:8888/notebooks/Documents/School/Year1/FISH-546/yaaminiv-fish546-2016/tutorials/2016-10-11-Blast-Tutorial-Part-1.ipynb) and [part 2](http://localhost:8888/notebooks/Documents/School/Year1/FISH-546/yaaminiv-fish546-2016/tutorials/2016-10-11-Blast-Tutorial-Part-2.ipynb))."
   ]
  },
  {
   "cell_type": "code",
   "execution_count": null,
   "metadata": {
    "collapsed": true
   },
   "outputs": [],
   "source": []
  }
 ],
 "metadata": {
  "anaconda-cloud": {},
  "kernelspec": {
   "display_name": "Python [default]",
   "language": "python",
   "name": "python3"
  },
  "language_info": {
   "codemirror_mode": {
    "name": "ipython",
    "version": 3
   },
   "file_extension": ".py",
   "mimetype": "text/x-python",
   "name": "python",
   "nbconvert_exporter": "python",
   "pygments_lexer": "ipython3",
   "version": "3.5.2"
  }
 },
 "nbformat": 4,
 "nbformat_minor": 1
}
