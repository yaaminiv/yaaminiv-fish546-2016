{
 "cells": [
  {
   "cell_type": "markdown",
   "metadata": {},
   "source": [
    "# CoGe Tutorial\n",
    "\n",
    "In this tutorial, I will use COGE to find sequences of a given genome that are methylated. After identifying methylated sequences, I can BLAST them against the genome of the Pacific oyster, *Crassostrea gigas*, to see if there are any matches."
   ]
  },
  {
   "cell_type": "code",
   "execution_count": 1,
   "metadata": {
    "collapsed": false
   },
   "outputs": [
    {
     "data": {
      "text/plain": [
       "'/Users/yaaminivenkataraman/Documents/School/Year1/FISH-546/yaaminiv-fish546-2016/tutorials/COGE-tutorial'"
      ]
     },
     "execution_count": 1,
     "metadata": {},
     "output_type": "execute_result"
    }
   ],
   "source": [
    "pwd"
   ]
  },
  {
   "cell_type": "code",
   "execution_count": 2,
   "metadata": {
    "collapsed": false
   },
   "outputs": [
    {
     "name": "stdout",
     "output_type": "stream",
     "text": [
      "/Users/yaaminivenkataraman/Documents/School/Year1/FISH-546/yaaminiv-fish546-2016\n"
     ]
    }
   ],
   "source": [
    "cd /Users/yaaminivenkataraman/Documents/School/Year1/FISH-546/yaaminiv-fish546-2016/"
   ]
  },
  {
   "cell_type": "code",
   "execution_count": 3,
   "metadata": {
    "collapsed": false
   },
   "outputs": [
    {
     "data": {
      "text/plain": [
       "'/Users/yaaminivenkataraman/Documents/School/Year1/FISH-546/yaaminiv-fish546-2016'"
      ]
     },
     "execution_count": 3,
     "metadata": {},
     "output_type": "execute_result"
    }
   ],
   "source": [
    "pwd"
   ]
  },
  {
   "cell_type": "markdown",
   "metadata": {},
   "source": [
    "### 1. Using CoGe to Identify Methylated Sequences"
   ]
  },
  {
   "cell_type": "markdown",
   "metadata": {},
   "source": [
    "\"CoGe is a platform for performing Comparative Genomics research. It provides an open-ended network of interconnected tools to manage, analyze, and visualize next-gen data.\" -[*from CoGe website*](https://genomevolution.org/coge/)\n",
    "\n",
    "The CoGe notebook can be found [here](https://genomevolution.org/coge/GenomeView.pl?embed=0&gid=28863&tracks=experiment9345%2Cexperiment9347%2Cexperiment9346%2Cnotebook1818%2Cexperiment9344&loc=scaffold1961%3A1..103386&highlight=). Below are photos and descriptions detailing my process.\n",
    "\n",
    "#### Loading data\n",
    "\n",
    "To use CoGe, you need a CyVerse account. I created a CyVerse account on [this webpage](https://user.cyverse.org/register/).\n",
    "\n",
    "I then naviated to the [CoGe homepage](https://genomevolution.org/coge/), and clicked on [MyData](https://genomevolution.org/coge/User.pl) in the top right-hand corner. I then clicked `New` in the top left-hand corner to create my new \"experiment.\" The following photos detail the options I used and show how I navigated through the process."
   ]
  },
  {
   "cell_type": "markdown",
   "metadata": {},
   "source": [
    "![create a new experiment](https://raw.githubusercontent.com/yaaminiv/yaaminiv-fish546-2016/master/tutorials/COGE-tutorial/CoGe-tutorial-images/2-adddata.png)\n",
    "\n",
    "![add data](https://raw.githubusercontent.com/yaaminiv/yaaminiv-fish546-2016/master/tutorials/COGE-tutorial/CoGe-tutorial-images/2-adddata.png)\n",
    "\n",
    "![options part 1](https://github.com/yaaminiv/yaaminiv-fish546-2016/blob/master/tutorials/COGE-tutorial/CoGe-tutorial-images/3-optionspart1.png?raw=true)\n",
    "\n",
    "![options part 2](https://raw.githubusercontent.com/yaaminiv/yaaminiv-fish546-2016/master/tutorials/COGE-tutorial/CoGe-tutorial-images/4-optionspart2.png)\n",
    "\n",
    "![options part 3](https://raw.githubusercontent.com/yaaminiv/yaaminiv-fish546-2016/master/tutorials/COGE-tutorial/CoGe-tutorial-images/5-optionspart3.png)"
   ]
  },
  {
   "cell_type": "markdown",
   "metadata": {},
   "source": [
    "#### Identifying methylated regions"
   ]
  },
  {
   "cell_type": "markdown",
   "metadata": {},
   "source": [
    "When I opened the notebook, it looked like this:"
   ]
  },
  {
   "cell_type": "markdown",
   "metadata": {},
   "source": [
    "![initial notebook view](https://raw.githubusercontent.com/yaaminiv/yaaminiv-fish546-2016/master/tutorials/COGE-tutorial/CoGe-tutorial-images/6-initialdata.png)"
   ]
  },
  {
   "cell_type": "markdown",
   "metadata": {},
   "source": [
    "To identify methylated regions, I first had to select to display CpG methylation. I did this by clicking on the fourth option presented to me on the right side of the screen."
   ]
  },
  {
   "cell_type": "markdown",
   "metadata": {},
   "source": [
    "![added CpG methylation](https://raw.githubusercontent.com/yaaminiv/yaaminiv-fish546-2016/master/tutorials/COGE-tutorial/CoGe-tutorial-images/7-addedcpgmethylation.png)"
   ]
  },
  {
   "cell_type": "markdown",
   "metadata": {},
   "source": [
    "I then browsed for an area of methylation I wanted to analyze. From what I can see, there aren't any super concentrated areas of methylation. I thought the amount of methylation between 62424 bp and 62656 bp on scaffold 1961 would be interesting to examine. The highlighted region shows my area of interest. I also added BAM alignment information (above) so I can start picking out sequences."
   ]
  },
  {
   "cell_type": "markdown",
   "metadata": {},
   "source": [
    "![area of interest](https://raw.githubusercontent.com/yaaminiv/yaaminiv-fish546-2016/master/tutorials/COGE-tutorial/CoGe-tutorial-images/8-areaofinterest.png)"
   ]
  },
  {
   "cell_type": "markdown",
   "metadata": {},
   "source": [
    "I chose to analyze sequence **HWI-C00124:164:C7URDANXX:3:1308:6542:96673_1:N:0:CGATGT** (nucleotide sequence: `GCATTATTTATAAATTACCCACGAAATTACGTCCCCACAAACCAACAAGAG`) on scaffold1961, between 62546 bp and 62596 bp. This is because that region was primarily CpG methylated and had little CHH or CHG methylation."
   ]
  },
  {
   "cell_type": "markdown",
   "metadata": {},
   "source": [
    "![specific sequence](https://raw.githubusercontent.com/yaaminiv/yaaminiv-fish546-2016/master/tutorials/COGE-tutorial/CoGe-tutorial-images/9-specificsequence.png)\n",
    "\n",
    "![sequence informatino](https://raw.githubusercontent.com/yaaminiv/yaaminiv-fish546-2016/master/tutorials/COGE-tutorial/CoGe-tutorial-images/10-moresequenceinformation.png)"
   ]
  },
  {
   "cell_type": "markdown",
   "metadata": {},
   "source": [
    "### 2. BLAST\n",
    "\n",
    "Now that I have a nucleotide sequence for my methylated region, I can use blastn to match my nucleotide sequence with the *C. gigas* genome. Although I am working with *O. lurida* in my current project, a blastn with the *O. lurida* transcriptome as the database will not be of any interest because our original sequence is from *O. lurida*.\n",
    "\n",
    "As a reminder, my nucleotide sequence is: `GCATTATTTATAAATTACCCACGAAATTACGTCCCCACAAACCAACAAGAG`\n",
    "\n",
    "I used the [NCBI Blastn website tool](https://blast.ncbi.nlm.nih.gov/Blast.cgi?PAGE_TYPE=BlastSearch) to complete my blastn. Below, you can see the information I entered:"
   ]
  },
  {
   "cell_type": "code",
   "execution_count": null,
   "metadata": {
    "collapsed": true
   },
   "outputs": [],
   "source": []
  }
 ],
 "metadata": {
  "anaconda-cloud": {},
  "kernelspec": {
   "display_name": "Python [default]",
   "language": "python",
   "name": "python3"
  },
  "language_info": {
   "codemirror_mode": {
    "name": "ipython",
    "version": 3
   },
   "file_extension": ".py",
   "mimetype": "text/x-python",
   "name": "python",
   "nbconvert_exporter": "python",
   "pygments_lexer": "ipython3",
   "version": "3.5.2"
  }
 },
 "nbformat": 4,
 "nbformat_minor": 1
}
