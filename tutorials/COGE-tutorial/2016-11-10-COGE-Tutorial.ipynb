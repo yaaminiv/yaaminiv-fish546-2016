{
 "cells": [
  {
   "cell_type": "markdown",
   "metadata": {},
   "source": [
    "# CoGe Tutorial\n",
    "\n",
    "In this tutorial, I will use COGE to find sequences of a given genome that are methylated. After identifying methylated sequences, I can BLAST them against a transcriptome for Olympia oyster, *Ostrea lurida*, to see if there are any matches."
   ]
  },
  {
   "cell_type": "code",
   "execution_count": 1,
   "metadata": {
    "collapsed": false
   },
   "outputs": [
    {
     "data": {
      "text/plain": [
       "'/Users/yaaminivenkataraman/Documents/School/Year1/FISH-546/yaaminiv-fish546-2016/tutorials/COGE-tutorial'"
      ]
     },
     "execution_count": 1,
     "metadata": {},
     "output_type": "execute_result"
    }
   ],
   "source": [
    "pwd"
   ]
  },
  {
   "cell_type": "code",
   "execution_count": 2,
   "metadata": {
    "collapsed": false
   },
   "outputs": [
    {
     "name": "stdout",
     "output_type": "stream",
     "text": [
      "/Users/yaaminivenkataraman/Documents/School/Year1/FISH-546/yaaminiv-fish546-2016\n"
     ]
    }
   ],
   "source": [
    "cd /Users/yaaminivenkataraman/Documents/School/Year1/FISH-546/yaaminiv-fish546-2016/"
   ]
  },
  {
   "cell_type": "code",
   "execution_count": 3,
   "metadata": {
    "collapsed": false
   },
   "outputs": [
    {
     "data": {
      "text/plain": [
       "'/Users/yaaminivenkataraman/Documents/School/Year1/FISH-546/yaaminiv-fish546-2016'"
      ]
     },
     "execution_count": 3,
     "metadata": {},
     "output_type": "execute_result"
    }
   ],
   "source": [
    "pwd"
   ]
  },
  {
   "cell_type": "markdown",
   "metadata": {},
   "source": [
    "### 1. Using CoGe to Identify Methylated Sequences"
   ]
  },
  {
   "cell_type": "markdown",
   "metadata": {},
   "source": [
    "\"CoGe is a platform for performing Comparative Genomics research. It provides an open-ended network of interconnected tools to manage, analyze, and visualize next-gen data.\" -[*from CoGe website*](https://genomevolution.org/coge/)\n",
    "\n",
    "The CoGe notebook can be found [here](https://genomevolution.org/coge/GenomeView.pl?embed=0&gid=28863&tracks=experiment9345%2Cexperiment9347%2Cexperiment9346%2Cnotebook1818%2Cexperiment9344&loc=scaffold1961%3A1..103386&highlight=). Below are photos and descriptions detailing my process.\n",
    "\n",
    "#### Loading data\n",
    "\n",
    "To use CoGe, you need a CyVerse account. I created a CyVerse account on [this webpage](https://user.cyverse.org/register/).\n",
    "\n",
    "I then naviated to the [CoGe homepage](https://genomevolution.org/coge/), and clicked on [MyData](https://genomevolution.org/coge/User.pl) in the top right-hand corner. I then clicked `New` in the top left-hand corner to create my new \"experiment.\""
   ]
  },
  {
   "cell_type": "markdown",
   "metadata": {},
   "source": [
    "#### Identifying methylated regions"
   ]
  },
  {
   "cell_type": "markdown",
   "metadata": {},
   "source": [
    "When I opened the notebook, it looked like this:"
   ]
  },
  {
   "cell_type": "markdown",
   "metadata": {},
   "source": [
    "To identify methylated regions, I first had to select to display CpG methylation. I did this by clicking on the fourth option presented to me on the right side of the screen."
   ]
  },
  {
   "cell_type": "markdown",
   "metadata": {},
   "source": [
    "I then browsed for an area of methylation I wanted to analyze. From what I can see, there aren't any really concentrated areas of methylation, but little specks here and there. I settled on the region between 62,500 bp and 62,625 bp. This area not only has CpG methylation, but CHH and CHG methylation as well."
   ]
  },
  {
   "cell_type": "markdown",
   "metadata": {},
   "source": [
    "Specifically, I'll look at the area between 62565 bp and 62566 bp on scaffold 1961."
   ]
  },
  {
   "cell_type": "code",
   "execution_count": null,
   "metadata": {
    "collapsed": true
   },
   "outputs": [],
   "source": []
  }
 ],
 "metadata": {
  "anaconda-cloud": {},
  "kernelspec": {
   "display_name": "Python [default]",
   "language": "python",
   "name": "python3"
  },
  "language_info": {
   "codemirror_mode": {
    "name": "ipython",
    "version": 3
   },
   "file_extension": ".py",
   "mimetype": "text/x-python",
   "name": "python",
   "nbconvert_exporter": "python",
   "pygments_lexer": "ipython3",
   "version": "3.5.2"
  }
 },
 "nbformat": 4,
 "nbformat_minor": 1
}
