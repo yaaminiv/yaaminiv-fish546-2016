{
 "cells": [
  {
   "cell_type": "markdown",
   "metadata": {},
   "source": [
    "# Bash scripting tutorial\n",
    "\n",
    "In this notebook, I will run a [bash script](https://github.com/yaaminiv/yaaminiv-fish546-2016/blob/master/scripts/quiz7.sh) I created to move some folders to a new directory.\n",
    "\n",
    "Here is what my directory looks like now. Look at all of that clutter!:\n",
    "![current directory](https://raw.githubusercontent.com/yaaminiv/yaaminiv-fish546-2016/master/tutorials/bash-scripting-tutorial/directorybeforescript.png)\n",
    "\n",
    "First, I will change my directory so I am in my scripts folder."
   ]
  },
  {
   "cell_type": "code",
   "execution_count": null,
   "metadata": {
    "collapsed": false
   },
   "outputs": [],
   "source": [
    "cd /Users/yaamini/Documents/yaaminiv-fish546-2016/scripts"
   ]
  },
  {
   "cell_type": "code",
   "execution_count": 3,
   "metadata": {
    "collapsed": false
   },
   "outputs": [
    {
     "data": {
      "text/plain": [
       "'/Users/yaamini/Documents/yaaminiv-fish546-2016/scripts'"
      ]
     },
     "execution_count": 3,
     "metadata": {},
     "output_type": "execute_result"
    }
   ],
   "source": [
    "pwd"
   ]
  },
  {
   "cell_type": "markdown",
   "metadata": {},
   "source": [
    "Now I'll run my script."
   ]
  },
  {
   "cell_type": "code",
   "execution_count": null,
   "metadata": {
    "collapsed": true
   },
   "outputs": [],
   "source": []
  }
 ],
 "metadata": {
  "anaconda-cloud": {},
  "kernelspec": {
   "display_name": "Python [default]",
   "language": "python",
   "name": "python3"
  },
  "language_info": {
   "codemirror_mode": {
    "name": "ipython",
    "version": 3
   },
   "file_extension": ".py",
   "mimetype": "text/x-python",
   "name": "python",
   "nbconvert_exporter": "python",
   "pygments_lexer": "ipython3",
   "version": "3.5.2"
  }
 },
 "nbformat": 4,
 "nbformat_minor": 1
}
