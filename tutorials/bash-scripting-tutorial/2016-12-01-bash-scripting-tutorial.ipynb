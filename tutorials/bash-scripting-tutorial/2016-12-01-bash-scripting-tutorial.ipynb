{
 "cells": [
  {
   "cell_type": "markdown",
   "metadata": {},
   "source": [
    "# Bash scripting tutorial\n",
    "\n",
    "In this notebook, I will run a [bash script](https://github.com/yaaminiv/yaaminiv-fish546-2016/blob/master/scripts/quiz7.sh) I created to move some folders to a new directory.\n",
    "\n",
    "First, I will change my directory so I am in my scripts folder."
   ]
  },
  {
   "cell_type": "code",
   "execution_count": 2,
   "metadata": {
    "collapsed": false
   },
   "outputs": [
    {
     "name": "stdout",
     "output_type": "stream",
     "text": [
      "/Users/yaamini/Documents/yaaminiv-fish546-2016/scripts\n"
     ]
    }
   ],
   "source": [
    "cd /Users/yaamini/Documents/yaaminiv-fish546-2016/scripts"
   ]
  },
  {
   "cell_type": "code",
   "execution_count": 3,
   "metadata": {
    "collapsed": false
   },
   "outputs": [
    {
     "data": {
      "text/plain": [
       "'/Users/yaamini/Documents/yaaminiv-fish546-2016/scripts'"
      ]
     },
     "execution_count": 3,
     "metadata": {},
     "output_type": "execute_result"
    }
   ],
   "source": [
    "pwd"
   ]
  },
  {
   "cell_type": "code",
   "execution_count": 5,
   "metadata": {
    "collapsed": false
   },
   "outputs": [
    {
     "name": "stdout",
     "output_type": "stream",
     "text": [
      "\u001b[34m11-29-kallisto-female-106\u001b[m\u001b[m       \u001b[34mkallisto-female-106\u001b[m\u001b[m\n",
      "\u001b[34m11-29-kallisto-female-108\u001b[m\u001b[m       \u001b[34mkallisto-female-108\u001b[m\u001b[m\n",
      "\u001b[34m11-29-kallisto-male-106\u001b[m\u001b[m         \u001b[34mkallisto-male-106\u001b[m\u001b[m\n",
      "\u001b[34m11-29-kallisto-male-108\u001b[m\u001b[m         \u001b[34mkallisto-male-108\u001b[m\u001b[m\n",
      "\u001b[34m11-29-oly-oa-gonad-DESeq2\u001b[m\u001b[m       \u001b[34moly_oa_gonad_DESeq2\u001b[m\u001b[m\n",
      "README.md                       \u001b[34moly_oa_gonad_FASTQC\u001b[m\u001b[m\n",
      "blastx-11-14-best-matches       \u001b[34moly_oa_gonad_FastQC_commandline\u001b[m\u001b[m\n",
      "\u001b[34mirrelevant-analyses\u001b[m\u001b[m             \u001b[34moly_oa_gonad_MultiQC\u001b[m\u001b[m\n",
      "ls: irrelevant-analyses: No such file or directory\n"
     ]
    }
   ],
   "source": [
    "!bash quiz7.sh"
   ]
  },
  {
   "cell_type": "code",
   "execution_count": 6,
   "metadata": {
    "collapsed": false
   },
   "outputs": [
    {
     "name": "stdout",
     "output_type": "stream",
     "text": [
      "\u001b[34m11-29-oly-oa-gonad-DESeq2\u001b[m\u001b[m       \u001b[34moly_oa_gonad_DESeq2\u001b[m\u001b[m\n",
      "README.md                       \u001b[34moly_oa_gonad_FASTQC\u001b[m\u001b[m\n",
      "blastx-11-14-best-matches       \u001b[34moly_oa_gonad_FastQC_commandline\u001b[m\u001b[m\n",
      "\u001b[34mirrelevant-analyses\u001b[m\u001b[m             \u001b[34moly_oa_gonad_MultiQC\u001b[m\u001b[m\n",
      "\u001b[34mkallisto-male-108\u001b[m\u001b[m\n",
      "mv: rename kallisto-male-108 to kallisto-male-108/kallisto-male-106/kallisto-male-108: Invalid argument\n"
     ]
    }
   ],
   "source": [
    "!bash quiz7.sh"
   ]
  },
  {
   "cell_type": "code",
   "execution_count": null,
   "metadata": {
    "collapsed": true
   },
   "outputs": [],
   "source": []
  }
 ],
 "metadata": {
  "anaconda-cloud": {},
  "kernelspec": {
   "display_name": "Python [default]",
   "language": "python",
   "name": "python3"
  },
  "language_info": {
   "codemirror_mode": {
    "name": "ipython",
    "version": 3
   },
   "file_extension": ".py",
   "mimetype": "text/x-python",
   "name": "python",
   "nbconvert_exporter": "python",
   "pygments_lexer": "ipython3",
   "version": "3.5.2"
  }
 },
 "nbformat": 4,
 "nbformat_minor": 1
}
